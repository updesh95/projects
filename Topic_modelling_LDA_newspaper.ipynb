{
 "cells": [
  {
   "cell_type": "markdown",
   "metadata": {},
   "source": [
    "#  We will take a real example of the ’20 Newsgroups’ dataset and use LDA to extract the naturally discussed topics."
   ]
  },
  {
   "cell_type": "code",
   "execution_count": 29,
   "metadata": {},
   "outputs": [],
   "source": [
    "import en_core_web_sm\n",
    "nlp = en_core_web_sm.load()"
   ]
  },
  {
   "cell_type": "code",
   "execution_count": 3,
   "metadata": {},
   "outputs": [
    {
     "name": "stderr",
     "output_type": "stream",
     "text": [
      "[nltk_data] Downloading package stopwords to\n",
      "[nltk_data]     C:\\Users\\91837\\AppData\\Roaming\\nltk_data...\n",
      "[nltk_data]   Package stopwords is already up-to-date!\n"
     ]
    },
    {
     "data": {
      "text/plain": [
       "True"
      ]
     },
     "execution_count": 3,
     "metadata": {},
     "output_type": "execute_result"
    }
   ],
   "source": [
    "import nltk\n",
    "nltk.download('stopwords')"
   ]
  },
  {
   "cell_type": "code",
   "execution_count": 7,
   "metadata": {},
   "outputs": [],
   "source": [
    "import numpy as np\n",
    "import pandas as pd\n",
    "from pprint import pprint"
   ]
  },
  {
   "cell_type": "code",
   "execution_count": 8,
   "metadata": {},
   "outputs": [],
   "source": [
    "import gensim\n",
    "import gensim.corpora as corpora\n",
    "from gensim.utils import simple_preprocess\n",
    "from gensim.models import CoherenceModel"
   ]
  },
  {
   "cell_type": "code",
   "execution_count": 9,
   "metadata": {},
   "outputs": [],
   "source": [
    "import spacy"
   ]
  },
  {
   "cell_type": "code",
   "execution_count": 11,
   "metadata": {},
   "outputs": [
    {
     "name": "stderr",
     "output_type": "stream",
     "text": [
      "C:\\Users\\91837\\AppData\\Local\\Continuum\\anaconda3\\lib\\site-packages\\past\\types\\oldstr.py:33: DeprecationWarning: invalid escape sequence \\d\n",
      "  \"\"\"\n"
     ]
    }
   ],
   "source": [
    "#plotting tools\n",
    "import pyLDAvis\n",
    "import pyLDAvis.gensim\n",
    "import matplotlib.pyplot as plt\n",
    "%matplotlib inline "
   ]
  },
  {
   "cell_type": "code",
   "execution_count": 12,
   "metadata": {},
   "outputs": [],
   "source": [
    "import logging\n",
    "logging.basicConfig(format='%(asctime)s: %(levelname)s: %(message)s', level=logging.ERROR)"
   ]
  },
  {
   "cell_type": "code",
   "execution_count": 13,
   "metadata": {},
   "outputs": [],
   "source": [
    "import warnings\n",
    "warnings.filterwarnings(\"ignore\",category=DeprecationWarning)"
   ]
  },
  {
   "cell_type": "code",
   "execution_count": 14,
   "metadata": {},
   "outputs": [
    {
     "data": {
      "text/plain": [
       "'What does LDA do?\\nLDA’s approach to topic modeling is it considers each document \\nas a collection of topics in a certain proportion. \\nAnd each topic as a collection of keywords, again, in a certain proportion.'"
      ]
     },
     "execution_count": 14,
     "metadata": {},
     "output_type": "execute_result"
    }
   ],
   "source": [
    "'''What does LDA do?\n",
    "LDA’s approach to topic modeling is it considers each document \n",
    "as a collection of topics in a certain proportion. \n",
    "And each topic as a collection of keywords, again, in a certain proportion.'''"
   ]
  },
  {
   "cell_type": "code",
   "execution_count": 15,
   "metadata": {},
   "outputs": [],
   "source": [
    "from nltk.corpus import stopwords\n",
    "stop_words = stopwords.words('english')"
   ]
  },
  {
   "cell_type": "code",
   "execution_count": 17,
   "metadata": {},
   "outputs": [],
   "source": [
    "stop_words.extend(['from','subject','re','edu','use'])"
   ]
  },
  {
   "cell_type": "code",
   "execution_count": 18,
   "metadata": {},
   "outputs": [
    {
     "name": "stdout",
     "output_type": "stream",
     "text": [
      "['rec.autos' 'comp.sys.mac.hardware' 'rec.motorcycles' 'misc.forsale'\n",
      " 'comp.os.ms-windows.misc' 'alt.atheism' 'comp.graphics'\n",
      " 'rec.sport.baseball' 'rec.sport.hockey' 'sci.electronics' 'sci.space'\n",
      " 'talk.politics.misc' 'sci.med' 'talk.politics.mideast'\n",
      " 'soc.religion.christian' 'comp.windows.x' 'comp.sys.ibm.pc.hardware'\n",
      " 'talk.politics.guns' 'talk.religion.misc' 'sci.crypt']\n"
     ]
    },
    {
     "data": {
      "text/html": [
       "<div>\n",
       "<style scoped>\n",
       "    .dataframe tbody tr th:only-of-type {\n",
       "        vertical-align: middle;\n",
       "    }\n",
       "\n",
       "    .dataframe tbody tr th {\n",
       "        vertical-align: top;\n",
       "    }\n",
       "\n",
       "    .dataframe thead th {\n",
       "        text-align: right;\n",
       "    }\n",
       "</style>\n",
       "<table border=\"1\" class=\"dataframe\">\n",
       "  <thead>\n",
       "    <tr style=\"text-align: right;\">\n",
       "      <th></th>\n",
       "      <th>content</th>\n",
       "      <th>target</th>\n",
       "      <th>target_names</th>\n",
       "    </tr>\n",
       "  </thead>\n",
       "  <tbody>\n",
       "    <tr>\n",
       "      <th>0</th>\n",
       "      <td>From: lerxst@wam.umd.edu (where's my thing)\\nS...</td>\n",
       "      <td>7</td>\n",
       "      <td>rec.autos</td>\n",
       "    </tr>\n",
       "    <tr>\n",
       "      <th>1</th>\n",
       "      <td>From: guykuo@carson.u.washington.edu (Guy Kuo)...</td>\n",
       "      <td>4</td>\n",
       "      <td>comp.sys.mac.hardware</td>\n",
       "    </tr>\n",
       "    <tr>\n",
       "      <th>10</th>\n",
       "      <td>From: irwin@cmptrc.lonestar.org (Irwin Arnstei...</td>\n",
       "      <td>8</td>\n",
       "      <td>rec.motorcycles</td>\n",
       "    </tr>\n",
       "    <tr>\n",
       "      <th>100</th>\n",
       "      <td>From: tchen@magnus.acs.ohio-state.edu (Tsung-K...</td>\n",
       "      <td>6</td>\n",
       "      <td>misc.forsale</td>\n",
       "    </tr>\n",
       "    <tr>\n",
       "      <th>1000</th>\n",
       "      <td>From: dabl2@nlm.nih.gov (Don A.B. Lindbergh)\\n...</td>\n",
       "      <td>2</td>\n",
       "      <td>comp.os.ms-windows.misc</td>\n",
       "    </tr>\n",
       "  </tbody>\n",
       "</table>\n",
       "</div>"
      ],
      "text/plain": [
       "                                                content  target  \\\n",
       "0     From: lerxst@wam.umd.edu (where's my thing)\\nS...       7   \n",
       "1     From: guykuo@carson.u.washington.edu (Guy Kuo)...       4   \n",
       "10    From: irwin@cmptrc.lonestar.org (Irwin Arnstei...       8   \n",
       "100   From: tchen@magnus.acs.ohio-state.edu (Tsung-K...       6   \n",
       "1000  From: dabl2@nlm.nih.gov (Don A.B. Lindbergh)\\n...       2   \n",
       "\n",
       "                 target_names  \n",
       "0                   rec.autos  \n",
       "1       comp.sys.mac.hardware  \n",
       "10            rec.motorcycles  \n",
       "100              misc.forsale  \n",
       "1000  comp.os.ms-windows.misc  "
      ]
     },
     "execution_count": 18,
     "metadata": {},
     "output_type": "execute_result"
    }
   ],
   "source": [
    "#import datasets\n",
    "df = pd.read_json('https://raw.githubusercontent.com/selva86/datasets/master/newsgroups.json')\n",
    "print(df.target_names.unique())\n",
    "df.head()"
   ]
  },
  {
   "cell_type": "code",
   "execution_count": 19,
   "metadata": {},
   "outputs": [],
   "source": [
    "#As you can see there are many emails, newline and extra spaces that is quite distracting\n",
    "#convert to list\n",
    "data = df.content.values.tolist()"
   ]
  },
  {
   "cell_type": "code",
   "execution_count": 21,
   "metadata": {},
   "outputs": [],
   "source": [
    "import re\n",
    "#remove emails\n",
    "data = [re.sub('\\S*@\\S*\\s','',sent)for sent in data]\n",
    "#remove new line character \n",
    "data = [re.sub('\\s+',' ',sent) for sent in data]\n",
    "#removing distracting single quote\n",
    "data = [re.sub(\"\\'\", \"\",sent)for sent in data]"
   ]
  },
  {
   "cell_type": "code",
   "execution_count": 22,
   "metadata": {},
   "outputs": [],
   "source": [
    "#Let’s tokenize each sentence into a list of words, removing punctuations and unnecessary characters altogether.\n",
    "#Gensim’s simple_preprocess() is great for this. Additionally I have set deacc=True to remove the punctuations.\n",
    "def sent_to_words(sentences):\n",
    "    for sentence in sentences:\n",
    "        yield(gensim.utils.simple_preprocess(str(sentence),deacc=True))\n",
    "data_words = list(sent_to_words(data))\n"
   ]
  },
  {
   "cell_type": "code",
   "execution_count": 25,
   "metadata": {},
   "outputs": [
    {
     "name": "stdout",
     "output_type": "stream",
     "text": [
      "['from', 'wheres', 'my', 'thing', 'subject', 'what', 'car', 'is', 'this', 'nntp_posting_host', 'rac_wam_umd_edu', 'organization', 'university', 'of', 'maryland_college_park', 'lines', 'was', 'wondering', 'if', 'anyone', 'out', 'there', 'could', 'enlighten', 'me', 'on', 'this', 'car', 'saw', 'the', 'other', 'day', 'it', 'was', 'door', 'sports', 'car', 'looked', 'to', 'be', 'from', 'the', 'late', 'early', 'it', 'was', 'called', 'bricklin', 'the', 'doors', 'were', 'really', 'small', 'in', 'addition', 'the', 'front_bumper', 'was', 'separate', 'from', 'the', 'rest', 'of', 'the', 'body', 'this', 'is', 'all', 'know', 'if', 'anyone', 'can', 'tellme', 'model', 'name', 'engine', 'specs', 'years', 'of', 'production', 'where', 'this', 'car', 'is', 'made', 'history', 'or', 'whatever', 'info', 'you', 'have', 'on', 'this', 'funky', 'looking', 'car', 'please', 'mail', 'thanks', 'il', 'brought', 'to', 'you', 'by', 'your', 'neighborhood', 'lerxst']\n"
     ]
    }
   ],
   "source": [
    "# Build the bigram and trigram models\n",
    "bigram = gensim.models.Phrases(data_words, min_count=5, threshold=100) # higher threshold fewer phrases.\n",
    "trigram = gensim.models.Phrases(bigram[data_words], threshold=100)  \n",
    "\n",
    "# Faster way to get a sentence clubbed as a trigram/bigram\n",
    "bigram_mod = gensim.models.phrases.Phraser(bigram)\n",
    "trigram_mod = gensim.models.phrases.Phraser(trigram)\n",
    "\n",
    "# See trigram example\n",
    "print(trigram_mod[bigram_mod[data_words[0]]])\n"
   ]
  },
  {
   "cell_type": "code",
   "execution_count": 26,
   "metadata": {},
   "outputs": [],
   "source": [
    "# Define functions for stopwords, bigrams, trigrams and lemmatization\n",
    "def remove_stopwords(texts):\n",
    "    return [[word for word in simple_preprocess(str(doc)) if word not in stop_words] for doc in texts]\n",
    "\n",
    "def make_bigrams(texts):\n",
    "    return [bigram_mod[doc] for doc in texts]\n",
    "\n",
    "def make_trigrams(texts):\n",
    "    return [trigram_mod[bigram_mod[doc]] for doc in texts]\n",
    "\n",
    "def lemmatization(texts, allowed_postags=['NOUN', 'ADJ', 'VERB', 'ADV']):\n",
    "    \"\"\"https://spacy.io/api/annotation\"\"\"\n",
    "    texts_out = []\n",
    "    for sent in texts:\n",
    "        doc = nlp(\" \".join(sent)) \n",
    "        texts_out.append([token.lemma_ for token in doc if token.pos_ in allowed_postags])\n",
    "    return texts_out"
   ]
  },
  {
   "cell_type": "code",
   "execution_count": null,
   "metadata": {},
   "outputs": [],
   "source": []
  },
  {
   "cell_type": "code",
   "execution_count": 30,
   "metadata": {},
   "outputs": [
    {
     "name": "stdout",
     "output_type": "stream",
     "text": [
      "[['where', 's', 'thing', 'car', 'nntp_post', 'host', 'rac_wam', 'umd', 'organization', 'university', 'maryland_college', 'park', 'line', 'wonder', 'anyone', 'could', 'enlighten', 'car', 'see', 'day', 'door', 'sport', 'car', 'look', 'late', 'early', 'call', 'bricklin', 'door', 'really', 'small', 'addition', 'front_bumper', 'separate', 'rest', 'body', 'know', 'anyone', 'tellme', 'model', 'name', 'engine', 'spec', 'year', 'production', 'car', 'make', 'history', 'whatev', 'info', 'funky', 'look', 'car', 'mail', 'thank', 'bring', 'neighborhood', 'lerxst']]\n"
     ]
    }
   ],
   "source": [
    "# Remove Stop Words\n",
    "data_words_nostops = remove_stopwords(data_words)\n",
    "\n",
    "# Form Bigrams\n",
    "data_words_bigrams = make_bigrams(data_words_nostops)\n",
    "\n",
    "\n",
    "\n",
    "\n",
    "# Do lemmatization keeping only noun, adj, vb, adv\n",
    "data_lemmatized = lemmatization(data_words_bigrams, allowed_postags=['NOUN', 'ADJ', 'VERB', 'ADV'])\n",
    "\n",
    "print(data_lemmatized[:1])"
   ]
  },
  {
   "cell_type": "code",
   "execution_count": 31,
   "metadata": {},
   "outputs": [
    {
     "name": "stdout",
     "output_type": "stream",
     "text": [
      "[[(0, 1), (1, 2), (2, 1), (3, 1), (4, 1), (5, 1), (6, 5), (7, 1), (8, 1), (9, 2), (10, 1), (11, 1), (12, 1), (13, 1), (14, 1), (15, 1), (16, 1), (17, 1), (18, 1), (19, 1), (20, 1), (21, 1), (22, 2), (23, 1), (24, 1), (25, 1), (26, 1), (27, 1), (28, 1), (29, 1), (30, 1), (31, 1), (32, 1), (33, 1), (34, 1), (35, 1), (36, 1), (37, 1), (38, 1), (39, 1), (40, 1), (41, 1), (42, 1), (43, 1), (44, 1), (45, 1), (46, 1), (47, 1), (48, 1), (49, 1), (50, 1)]]\n"
     ]
    }
   ],
   "source": [
    "# Create Dictionary\n",
    "id2word = corpora.Dictionary(data_lemmatized)\n",
    "\n",
    "# Create Corpus\n",
    "texts = data_lemmatized\n",
    "\n",
    "# Term Document Frequency\n",
    "corpus = [id2word.doc2bow(text) for text in texts]\n",
    "\n",
    "# View\n",
    "print(corpus[:1])"
   ]
  },
  {
   "cell_type": "code",
   "execution_count": 32,
   "metadata": {},
   "outputs": [],
   "source": [
    "# Build LDA model\n",
    "lda_model = gensim.models.ldamodel.LdaModel(corpus=corpus,\n",
    "                                           id2word=id2word,\n",
    "                                           num_topics=20, \n",
    "                                           random_state=100,\n",
    "                                           update_every=1,\n",
    "                                           chunksize=100,\n",
    "                                           passes=10,\n",
    "                                           alpha='auto',\n",
    "                                           per_word_topics=True)"
   ]
  },
  {
   "cell_type": "code",
   "execution_count": 33,
   "metadata": {},
   "outputs": [
    {
     "name": "stdout",
     "output_type": "stream",
     "text": [
      "[(0,\n",
      "  '0.094*\"space\" + 0.044*\"image\" + 0.025*\"display\" + 0.021*\"blue\" + '\n",
      "  '0.019*\"earth\" + 0.018*\"print\" + 0.017*\"research\" + 0.016*\"project\" + '\n",
      "  '0.016*\"satellite\" + 0.015*\"tank\"'),\n",
      " (1,\n",
      "  '0.050*\"food\" + 0.045*\"bus\" + 0.044*\"specifically\" + 0.036*\"msg\" + '\n",
      "  '0.030*\"eat\" + 0.030*\"motorcycle\" + 0.025*\"ride\" + 0.018*\"confuse\" + '\n",
      "  '0.016*\"entry\" + 0.016*\"shift\"'),\n",
      " (2,\n",
      "  '0.029*\"use\" + 0.027*\"system\" + 0.021*\"window\" + 0.018*\"card\" + 0.016*\"file\" '\n",
      "  '+ 0.016*\"run\" + 0.014*\"program\" + 0.013*\"problem\" + 0.012*\"also\" + '\n",
      "  '0.011*\"need\"'),\n",
      " (3,\n",
      "  '0.080*\"game\" + 0.076*\"team\" + 0.045*\"play\" + 0.045*\"win\" + 0.044*\"player\" + '\n",
      "  '0.036*\"hockey\" + 0.030*\"season\" + 0.026*\"contact\" + 0.020*\"goal\" + '\n",
      "  '0.020*\"fan\"'),\n",
      " (4,\n",
      "  '0.112*\"circuit\" + 0.018*\"stable\" + 0.012*\"cam\" + 0.011*\"chemistry\" + '\n",
      "  '0.010*\"scout\" + 0.007*\"tran\" + 0.006*\"arabic\" + 0.005*\"randomly\" + '\n",
      "  '0.004*\"axis\" + 0.000*\"tablet\"'),\n",
      " (5,\n",
      "  '0.129*\"gun\" + 0.052*\"_\" + 0.036*\"weapon\" + 0.025*\"discipline\" + '\n",
      "  '0.023*\"criminal\" + 0.022*\"crime\" + 0.019*\"terminal\" + 0.018*\"eg\" + '\n",
      "  '0.018*\"constitution\" + 0.017*\"xterm\"'),\n",
      " (6,\n",
      "  '0.798*\"ax\" + 0.058*\"max\" + 0.007*\"prove\" + 0.004*\"count\" + '\n",
      "  '0.004*\"somewhere\" + 0.004*\"announce\" + 0.004*\"printer\" + 0.003*\"summer\" + '\n",
      "  '0.003*\"dollar\" + 0.003*\"usenet\"'),\n",
      " (7,\n",
      "  '0.055*\"not\" + 0.036*\"do\" + 0.033*\"would\" + 0.031*\"write\" + 0.027*\"be\" + '\n",
      "  '0.024*\"article\" + 0.023*\"know\" + 0.023*\"line\" + 0.020*\"organization\" + '\n",
      "  '0.020*\"get\"'),\n",
      " (8,\n",
      "  '0.055*\"computer_science\" + 0.040*\"univ\" + 0.038*\"gordon_bank\" + 0.037*\"ibm\" '\n",
      "  '+ 0.035*\"clipper_chip\" + 0.032*\"distribution_na\" + 0.025*\"magazine\" + '\n",
      "  '0.023*\"description\" + 0.022*\"pressure\" + 0.021*\"professional\"'),\n",
      " (9,\n",
      "  '0.308*\"drive\" + 0.033*\"ohio_state\" + 0.020*\"dodger\" + 0.012*\"inside\" + '\n",
      "  '0.012*\"met\" + 0.008*\"stadium\" + 0.008*\"chuck\" + 0.006*\"cookie\" + '\n",
      "  '0.006*\"havent_seen\" + 0.006*\"rice\"'),\n",
      " (10,\n",
      "  '0.050*\"pray\" + 0.048*\"pin\" + 0.047*\"morning\" + 0.044*\"hall\" + '\n",
      "  '0.034*\"coverage\" + 0.032*\"astronomy\" + 0.032*\"complain\" + 0.026*\"dare\" + '\n",
      "  '0.024*\"seal\" + 0.020*\"espn\"'),\n",
      " (11,\n",
      "  '0.068*\"league\" + 0.056*\"baseball\" + 0.036*\"tim\" + 0.031*\"doc\" + '\n",
      "  '0.028*\"lock\" + 0.027*\"depend\" + 0.021*\"comet\" + 0.021*\"logo\" + '\n",
      "  '0.020*\"truck\" + 0.018*\"virginia\"'),\n",
      " (12,\n",
      "  '0.024*\"year\" + 0.020*\"time\" + 0.015*\"day\" + 0.014*\"first\" + 0.014*\"go\" + '\n",
      "  '0.012*\"take\" + 0.010*\"last\" + 0.010*\"power\" + 0.009*\"come\" + 0.009*\"start\"'),\n",
      " (13,\n",
      "  '0.017*\"people\" + 0.009*\"make\" + 0.009*\"say\" + 0.009*\"may\" + 0.008*\"state\" + '\n",
      "  '0.008*\"would\" + 0.007*\"many\" + 0.007*\"fact\" + 0.007*\"right\" + 0.007*\"law\"'),\n",
      " (14,\n",
      "  '0.026*\"initiative\" + 0.022*\"gerald\" + 0.022*\"purdue_university\" + '\n",
      "  '0.015*\"gerald_olchowy\" + 0.015*\"invasion\" + 0.013*\"toronto_chemistry\" + '\n",
      "  '0.012*\"clinton_administration\" + 0.010*\"demonstration\" + '\n",
      "  '0.006*\"bush_administration\" + 0.005*\"qualification\"'),\n",
      " (15,\n",
      "  '0.062*\"line\" + 0.057*\"organization\" + 0.044*\"university\" + 0.033*\"host\" + '\n",
      "  '0.032*\"nntp_post\" + 0.025*\"thank\" + 0.021*\"new\" + 0.020*\"mail\" + '\n",
      "  '0.017*\"post\" + 0.017*\"reply\"'),\n",
      " (16,\n",
      "  '0.084*\"key\" + 0.066*\"chip\" + 0.030*\"encryption\" + 0.022*\"clipper\" + '\n",
      "  '0.021*\"tom\" + 0.020*\"algorithm\" + 0.019*\"slow\" + 0.018*\"van\" + '\n",
      "  '0.018*\"security\" + 0.018*\"bit\"'),\n",
      " (17,\n",
      "  '0.045*\"christian\" + 0.042*\"god\" + 0.025*\"life\" + 0.022*\"man\" + 0.019*\"die\" '\n",
      "  '+ 0.019*\"believe\" + 0.019*\"religion\" + 0.018*\"say\" + 0.017*\"bible\" + '\n",
      "  '0.017*\"truth\"'),\n",
      " (18,\n",
      "  '0.066*\"drug\" + 0.054*\"matthew\" + 0.037*\"health\" + 0.029*\"jim\" + '\n",
      "  '0.029*\"rate\" + 0.026*\"seek\" + 0.026*\"reader\" + 0.020*\"economic\" + '\n",
      "  '0.019*\"status\" + 0.019*\"highly\"'),\n",
      " (19,\n",
      "  '0.047*\"mhz\" + 0.041*\"button\" + 0.039*\"pain\" + 0.020*\"syndrome\" + '\n",
      "  '0.020*\"window_manager\" + 0.019*\"ltd\" + 0.019*\"tonight\" + 0.017*\"loop\" + '\n",
      "  '0.016*\"gross\" + 0.014*\"quit\"')]\n"
     ]
    }
   ],
   "source": [
    "pprint(lda_model.print_topics())\n",
    "doc_lda = lda_model[corpus]"
   ]
  },
  {
   "cell_type": "code",
   "execution_count": 34,
   "metadata": {},
   "outputs": [
    {
     "name": "stderr",
     "output_type": "stream",
     "text": [
      "C:\\Users\\91837\\AppData\\Local\\Continuum\\anaconda3\\lib\\site-packages\\pyLDAvis\\_prepare.py:257: FutureWarning: Sorting because non-concatenation axis is not aligned. A future version\n",
      "of pandas will change to not sort by default.\n",
      "\n",
      "To accept the future behavior, pass 'sort=False'.\n",
      "\n",
      "To retain the current behavior and silence the warning, pass 'sort=True'.\n",
      "\n",
      "  return pd.concat([default_term_info] + list(topic_dfs))\n"
     ]
    },
    {
     "data": {
      "text/html": [
       "\n",
       "<link rel=\"stylesheet\" type=\"text/css\" href=\"https://cdn.rawgit.com/bmabey/pyLDAvis/files/ldavis.v1.0.0.css\">\n",
       "\n",
       "\n",
       "<div id=\"ldavis_el2754420408768305364022081801\"></div>\n",
       "<script type=\"text/javascript\">\n",
       "\n",
       "var ldavis_el2754420408768305364022081801_data = {\"mdsDat\": {\"x\": [-0.3618551199719253, -0.3533291347717836, -0.29678137574047647, -0.26721899936771304, -0.20582583687996514, -0.09497573269558127, -0.13838946287126822, -0.02567611968797635, 0.026182829938033784, 0.04144280350457444, 0.1306654218138758, 0.1373918747955921, 0.14535232831989534, 0.15387407927490876, 0.1709889309224986, 0.1780925688168681, 0.18255215263016317, 0.176185896089184, 0.19957411811855014, 0.20174877776254513], \"y\": [-0.07037523394213675, -0.12422216913570254, -0.07565725961199554, -0.027454087031791998, 0.11522007094071948, 0.44107569228273474, -0.07942944037079866, 0.03161082068497175, 0.03053436632487297, 0.018827370399406497, -0.02618241619697839, -0.00925928946278929, -0.015356359850273322, -0.020526801159868845, -0.025606798492097044, -0.02867828904442891, -0.031822238870338346, -0.028068723160595423, -0.036907760329830966, -0.037721453973078675], \"topics\": [1, 2, 3, 4, 5, 6, 7, 8, 9, 10, 11, 12, 13, 14, 15, 16, 17, 18, 19, 20], \"cluster\": [1, 1, 1, 1, 1, 1, 1, 1, 1, 1, 1, 1, 1, 1, 1, 1, 1, 1, 1, 1], \"Freq\": [26.785045623779297, 22.668670654296875, 12.952960968017578, 10.931153297424316, 8.616449356079102, 5.042084217071533, 3.256870746612549, 1.9880032539367676, 1.899045705795288, 1.504144549369812, 1.2961963415145874, 0.6458619832992554, 0.5626868009567261, 0.5049344897270203, 0.3695608377456665, 0.2978655695915222, 0.2955296039581299, 0.24832554161548615, 0.07432834804058075, 0.060279730707407]}, \"tinfo\": {\"Category\": [\"Default\", \"Default\", \"Default\", \"Default\", \"Default\", \"Default\", \"Default\", \"Default\", \"Default\", \"Default\", \"Default\", \"Default\", \"Default\", \"Default\", \"Default\", \"Default\", \"Default\", \"Default\", \"Default\", \"Default\", \"Default\", \"Default\", \"Default\", \"Default\", \"Default\", \"Default\", \"Default\", \"Default\", \"Default\", \"Default\", \"Topic1\", \"Topic1\", \"Topic1\", \"Topic1\", \"Topic1\", \"Topic1\", \"Topic1\", \"Topic1\", \"Topic1\", \"Topic1\", \"Topic1\", \"Topic1\", \"Topic1\", \"Topic1\", \"Topic1\", \"Topic1\", \"Topic1\", \"Topic1\", \"Topic1\", \"Topic1\", \"Topic1\", \"Topic1\", \"Topic1\", \"Topic1\", \"Topic1\", \"Topic1\", \"Topic1\", \"Topic1\", \"Topic1\", \"Topic1\", \"Topic1\", \"Topic1\", \"Topic1\", \"Topic1\", \"Topic1\", \"Topic1\", \"Topic1\", \"Topic1\", \"Topic1\", \"Topic1\", \"Topic1\", \"Topic1\", \"Topic1\", \"Topic1\", \"Topic1\", \"Topic1\", \"Topic1\", \"Topic1\", \"Topic1\", \"Topic1\", \"Topic1\", \"Topic1\", \"Topic1\", \"Topic1\", \"Topic1\", \"Topic1\", \"Topic1\", \"Topic1\", \"Topic1\", \"Topic1\", \"Topic1\", \"Topic2\", \"Topic2\", \"Topic2\", \"Topic2\", \"Topic2\", \"Topic2\", \"Topic2\", \"Topic2\", \"Topic2\", \"Topic2\", \"Topic2\", \"Topic2\", \"Topic2\", \"Topic2\", \"Topic2\", \"Topic2\", \"Topic2\", \"Topic2\", \"Topic2\", \"Topic2\", \"Topic2\", \"Topic2\", \"Topic2\", \"Topic2\", \"Topic2\", \"Topic2\", \"Topic2\", \"Topic2\", \"Topic2\", \"Topic2\", \"Topic2\", \"Topic2\", \"Topic2\", \"Topic2\", \"Topic2\", \"Topic2\", \"Topic2\", \"Topic2\", \"Topic2\", \"Topic2\", \"Topic2\", \"Topic2\", \"Topic2\", \"Topic2\", \"Topic2\", \"Topic2\", \"Topic2\", \"Topic2\", \"Topic2\", \"Topic2\", \"Topic2\", \"Topic2\", \"Topic2\", \"Topic2\", \"Topic2\", \"Topic2\", \"Topic2\", \"Topic2\", \"Topic2\", \"Topic2\", \"Topic2\", \"Topic2\", \"Topic2\", \"Topic3\", \"Topic3\", \"Topic3\", \"Topic3\", \"Topic3\", \"Topic3\", \"Topic3\", \"Topic3\", \"Topic3\", \"Topic3\", \"Topic3\", \"Topic3\", \"Topic3\", \"Topic3\", \"Topic3\", \"Topic3\", \"Topic3\", \"Topic3\", \"Topic3\", \"Topic3\", \"Topic3\", \"Topic3\", \"Topic3\", \"Topic3\", \"Topic3\", \"Topic3\", \"Topic3\", \"Topic3\", \"Topic3\", \"Topic3\", \"Topic3\", \"Topic3\", \"Topic3\", \"Topic3\", \"Topic3\", \"Topic3\", \"Topic3\", \"Topic3\", \"Topic3\", \"Topic3\", \"Topic3\", \"Topic3\", \"Topic3\", \"Topic3\", \"Topic3\", \"Topic3\", \"Topic3\", \"Topic3\", \"Topic3\", \"Topic3\", \"Topic3\", \"Topic3\", \"Topic3\", \"Topic3\", \"Topic3\", \"Topic3\", \"Topic3\", \"Topic3\", \"Topic3\", \"Topic3\", \"Topic3\", \"Topic3\", \"Topic4\", \"Topic4\", \"Topic4\", \"Topic4\", \"Topic4\", \"Topic4\", \"Topic4\", \"Topic4\", \"Topic4\", \"Topic4\", \"Topic4\", \"Topic4\", \"Topic4\", \"Topic4\", \"Topic4\", \"Topic4\", \"Topic4\", \"Topic4\", \"Topic4\", \"Topic4\", \"Topic4\", \"Topic4\", \"Topic4\", \"Topic4\", \"Topic4\", \"Topic4\", \"Topic4\", \"Topic4\", \"Topic4\", \"Topic4\", \"Topic4\", \"Topic4\", \"Topic4\", \"Topic4\", \"Topic4\", \"Topic4\", \"Topic4\", \"Topic4\", \"Topic4\", \"Topic4\", \"Topic4\", \"Topic4\", \"Topic4\", \"Topic4\", \"Topic4\", \"Topic4\", \"Topic4\", \"Topic4\", \"Topic4\", \"Topic4\", \"Topic5\", \"Topic5\", \"Topic5\", \"Topic5\", \"Topic5\", \"Topic5\", \"Topic5\", \"Topic5\", \"Topic5\", \"Topic5\", \"Topic5\", \"Topic5\", \"Topic5\", \"Topic5\", \"Topic5\", \"Topic5\", \"Topic5\", \"Topic5\", \"Topic5\", \"Topic5\", \"Topic5\", \"Topic5\", \"Topic5\", \"Topic5\", \"Topic5\", \"Topic5\", \"Topic5\", \"Topic5\", \"Topic5\", \"Topic5\", \"Topic5\", \"Topic5\", \"Topic5\", \"Topic5\", \"Topic5\", \"Topic5\", \"Topic5\", \"Topic5\", \"Topic5\", \"Topic5\", \"Topic5\", \"Topic5\", \"Topic5\", \"Topic5\", \"Topic5\", \"Topic5\", \"Topic5\", \"Topic5\", \"Topic5\", \"Topic5\", \"Topic5\", \"Topic5\", \"Topic5\", \"Topic5\", \"Topic5\", \"Topic5\", \"Topic6\", \"Topic6\", \"Topic6\", \"Topic6\", \"Topic6\", \"Topic6\", \"Topic6\", \"Topic6\", \"Topic6\", \"Topic6\", \"Topic6\", \"Topic6\", \"Topic6\", \"Topic6\", \"Topic6\", \"Topic6\", \"Topic6\", \"Topic6\", \"Topic6\", \"Topic6\", \"Topic6\", \"Topic6\", \"Topic6\", \"Topic6\", \"Topic6\", \"Topic6\", \"Topic6\", \"Topic6\", \"Topic6\", \"Topic6\", \"Topic7\", \"Topic7\", \"Topic7\", \"Topic7\", \"Topic7\", \"Topic7\", \"Topic7\", \"Topic7\", \"Topic7\", \"Topic7\", \"Topic7\", \"Topic7\", \"Topic7\", \"Topic7\", \"Topic7\", \"Topic7\", \"Topic7\", \"Topic7\", \"Topic7\", \"Topic7\", \"Topic7\", \"Topic7\", \"Topic7\", \"Topic7\", \"Topic7\", \"Topic7\", \"Topic7\", \"Topic7\", \"Topic7\", \"Topic7\", \"Topic7\", \"Topic7\", \"Topic7\", \"Topic7\", \"Topic7\", \"Topic7\", \"Topic7\", \"Topic7\", \"Topic7\", \"Topic7\", \"Topic7\", \"Topic7\", \"Topic7\", \"Topic7\", \"Topic8\", \"Topic8\", \"Topic8\", \"Topic8\", \"Topic8\", \"Topic8\", \"Topic8\", \"Topic8\", \"Topic8\", \"Topic8\", \"Topic8\", \"Topic8\", \"Topic8\", \"Topic8\", \"Topic8\", \"Topic8\", \"Topic8\", \"Topic8\", \"Topic8\", \"Topic8\", \"Topic8\", \"Topic8\", \"Topic8\", \"Topic8\", \"Topic8\", \"Topic8\", \"Topic8\", \"Topic8\", \"Topic8\", \"Topic8\", \"Topic8\", \"Topic8\", \"Topic8\", \"Topic8\", \"Topic8\", \"Topic8\", \"Topic8\", \"Topic8\", \"Topic8\", \"Topic8\", \"Topic8\", \"Topic8\", \"Topic9\", \"Topic9\", \"Topic9\", \"Topic9\", \"Topic9\", \"Topic9\", \"Topic9\", \"Topic9\", \"Topic9\", \"Topic9\", \"Topic9\", \"Topic9\", \"Topic9\", \"Topic9\", \"Topic9\", \"Topic9\", \"Topic9\", \"Topic9\", \"Topic9\", \"Topic9\", \"Topic9\", \"Topic9\", \"Topic9\", \"Topic9\", \"Topic9\", \"Topic9\", \"Topic9\", \"Topic9\", \"Topic9\", \"Topic9\", \"Topic9\", \"Topic9\", \"Topic9\", \"Topic9\", \"Topic9\", \"Topic9\", \"Topic9\", \"Topic10\", \"Topic10\", \"Topic10\", \"Topic10\", \"Topic10\", \"Topic10\", \"Topic10\", \"Topic10\", \"Topic10\", \"Topic10\", \"Topic10\", \"Topic10\", \"Topic10\", \"Topic10\", \"Topic10\", \"Topic10\", \"Topic10\", \"Topic10\", \"Topic10\", \"Topic10\", \"Topic10\", \"Topic10\", \"Topic10\", \"Topic10\", \"Topic10\", \"Topic10\", \"Topic10\", \"Topic10\", \"Topic10\", \"Topic10\", \"Topic10\", \"Topic10\", \"Topic10\", \"Topic10\", \"Topic10\", \"Topic10\", \"Topic10\", \"Topic10\", \"Topic10\", \"Topic10\", \"Topic10\", \"Topic10\", \"Topic10\", \"Topic10\", \"Topic11\", \"Topic11\", \"Topic11\", \"Topic11\", \"Topic11\", \"Topic11\", \"Topic11\", \"Topic11\", \"Topic11\", \"Topic11\", \"Topic11\", \"Topic11\", \"Topic11\", \"Topic11\", \"Topic11\", \"Topic11\", \"Topic11\", \"Topic11\", \"Topic11\", \"Topic11\", \"Topic11\", \"Topic11\", \"Topic11\", \"Topic11\", \"Topic11\", \"Topic11\", \"Topic11\", \"Topic11\", \"Topic11\", \"Topic11\", \"Topic11\", \"Topic11\", \"Topic11\", \"Topic11\", \"Topic11\", \"Topic11\", \"Topic11\", \"Topic11\", \"Topic11\", \"Topic11\", \"Topic11\", \"Topic11\", \"Topic12\", \"Topic12\", \"Topic12\", \"Topic12\", \"Topic12\", \"Topic12\", \"Topic12\", \"Topic12\", \"Topic12\", \"Topic12\", \"Topic12\", \"Topic12\", \"Topic12\", \"Topic12\", \"Topic12\", \"Topic12\", \"Topic12\", \"Topic12\", \"Topic12\", \"Topic12\", \"Topic12\", \"Topic12\", \"Topic12\", \"Topic12\", \"Topic12\", \"Topic12\", \"Topic12\", \"Topic12\", \"Topic12\", \"Topic12\", \"Topic12\", \"Topic12\", \"Topic12\", \"Topic13\", \"Topic13\", \"Topic13\", \"Topic13\", \"Topic13\", \"Topic13\", \"Topic13\", \"Topic13\", \"Topic13\", \"Topic13\", \"Topic13\", \"Topic13\", \"Topic13\", \"Topic13\", \"Topic13\", \"Topic13\", \"Topic13\", \"Topic13\", \"Topic13\", \"Topic13\", \"Topic13\", \"Topic13\", \"Topic13\", \"Topic13\", \"Topic13\", \"Topic13\", \"Topic13\", \"Topic13\", \"Topic13\", \"Topic13\", \"Topic13\", \"Topic13\", \"Topic13\", \"Topic14\", \"Topic14\", \"Topic14\", \"Topic14\", \"Topic14\", \"Topic14\", \"Topic14\", \"Topic14\", \"Topic14\", \"Topic14\", \"Topic14\", \"Topic14\", \"Topic14\", \"Topic14\", \"Topic14\", \"Topic14\", \"Topic14\", \"Topic14\", \"Topic14\", \"Topic14\", \"Topic14\", \"Topic14\", \"Topic14\", \"Topic14\", \"Topic14\", \"Topic14\", \"Topic14\", \"Topic14\", \"Topic14\", \"Topic14\", \"Topic14\", \"Topic14\", \"Topic14\", \"Topic14\", \"Topic14\", \"Topic15\", \"Topic15\", \"Topic15\", \"Topic15\", \"Topic15\", \"Topic15\", \"Topic15\", \"Topic15\", \"Topic15\", \"Topic15\", \"Topic15\", \"Topic15\", \"Topic15\", \"Topic15\", \"Topic15\", \"Topic15\", \"Topic15\", \"Topic15\", \"Topic15\", \"Topic15\", \"Topic15\", \"Topic15\", \"Topic15\", \"Topic15\", \"Topic15\", \"Topic15\", \"Topic15\", \"Topic15\", \"Topic15\", \"Topic15\", \"Topic15\", \"Topic16\", \"Topic16\", \"Topic16\", \"Topic16\", \"Topic16\", \"Topic16\", \"Topic16\", \"Topic16\", \"Topic16\", \"Topic16\", \"Topic16\", \"Topic16\", \"Topic16\", \"Topic16\", \"Topic16\", \"Topic16\", \"Topic16\", \"Topic16\", \"Topic16\", \"Topic16\", \"Topic16\", \"Topic16\", \"Topic16\", \"Topic16\", \"Topic16\", \"Topic16\", \"Topic16\", \"Topic16\", \"Topic16\", \"Topic16\", \"Topic16\", \"Topic17\", \"Topic17\", \"Topic17\", \"Topic17\", \"Topic17\", \"Topic17\", \"Topic17\", \"Topic17\", \"Topic17\", \"Topic17\", \"Topic17\", \"Topic17\", \"Topic17\", \"Topic17\", \"Topic17\", \"Topic17\", \"Topic17\", \"Topic17\", \"Topic17\", \"Topic17\", \"Topic17\", \"Topic17\", \"Topic17\", \"Topic17\", \"Topic17\", \"Topic17\", \"Topic17\", \"Topic17\", \"Topic17\", \"Topic17\", \"Topic18\", \"Topic18\", \"Topic18\", \"Topic18\", \"Topic18\", \"Topic18\", \"Topic18\", \"Topic18\", \"Topic18\", \"Topic18\", \"Topic18\", \"Topic18\", \"Topic18\", \"Topic18\", \"Topic18\", \"Topic18\", \"Topic18\", \"Topic18\", \"Topic18\", \"Topic18\", \"Topic18\", \"Topic18\", \"Topic18\", \"Topic18\", \"Topic18\", \"Topic18\", \"Topic18\", \"Topic18\", \"Topic18\", \"Topic18\", \"Topic18\", \"Topic18\", \"Topic18\", \"Topic18\", \"Topic19\", \"Topic19\", \"Topic19\", \"Topic19\", \"Topic19\", \"Topic19\", \"Topic19\", \"Topic19\", \"Topic19\", \"Topic19\", \"Topic19\", \"Topic19\", \"Topic19\", \"Topic19\", \"Topic19\", \"Topic19\", \"Topic19\", \"Topic19\", \"Topic19\", \"Topic19\", \"Topic19\", \"Topic19\", \"Topic19\", \"Topic19\", \"Topic19\", \"Topic19\", \"Topic19\", \"Topic19\", \"Topic19\", \"Topic19\", \"Topic19\", \"Topic20\", \"Topic20\", \"Topic20\", \"Topic20\", \"Topic20\", \"Topic20\", \"Topic20\", \"Topic20\", \"Topic20\", \"Topic20\", \"Topic20\", \"Topic20\", \"Topic20\", \"Topic20\", \"Topic20\", \"Topic20\", \"Topic20\", \"Topic20\", \"Topic20\", \"Topic20\", \"Topic20\", \"Topic20\", \"Topic20\", \"Topic20\", \"Topic20\", \"Topic20\", \"Topic20\", \"Topic20\", \"Topic20\", \"Topic20\", \"Topic20\", \"Topic20\", \"Topic20\", \"Topic20\", \"Topic20\", \"Topic20\", \"Topic20\"], \"Freq\": [64902.0, 24206.0, 18730.0, 16709.0, 15422.0, 7809.0, 13744.0, 11807.0, 17232.0, 4706.0, 6771.0, 6319.0, 10769.0, 2698.0, 5516.0, 2883.0, 10381.0, 5392.0, 10703.0, 7222.0, 7960.0, 2570.0, 2443.0, 1482.0, 8830.0, 2031.0, 3697.0, 2371.0, 3680.0, 7793.0, 11806.4150390625, 5600.8583984375, 4283.81201171875, 3116.533203125, 2129.8525390625, 2084.618408203125, 1986.276123046875, 1686.9818115234375, 1682.7520751953125, 1034.4315185546875, 1026.5162353515625, 1012.2650146484375, 1003.0924072265625, 916.1094970703125, 896.7901611328125, 863.6585083007812, 835.1105346679688, 748.19384765625, 659.3027954101562, 635.3829345703125, 598.958984375, 587.3391723632812, 586.7685546875, 572.8224487304688, 567.4109497070312, 556.6375732421875, 520.861572265625, 507.9886474609375, 471.1241760253906, 446.7494201660156, 15367.26171875, 23953.0859375, 10460.7568359375, 13300.9794921875, 2005.7657470703125, 1669.4534912109375, 9982.21484375, 3759.187744140625, 5000.37744140625, 3116.529052734375, 7094.14599609375, 6948.77392578125, 14245.4951171875, 8569.3466796875, 2017.998046875, 2128.9736328125, 4137.33203125, 4215.6064453125, 1603.099853515625, 4354.12255859375, 3423.141845703125, 3184.80517578125, 4791.615234375, 6000.64306640625, 3560.883056640625, 9781.9912109375, 2941.556396484375, 8815.0576171875, 5665.22802734375, 4769.212890625, 2897.815673828125, 2726.694091796875, 2585.841552734375, 1715.44677734375, 1589.5595703125, 1302.4217529296875, 1119.5396728515625, 1018.5370483398438, 1009.615966796875, 992.5706787109375, 991.0267944335938, 931.1316528320312, 920.030029296875, 888.4285888671875, 866.431884765625, 841.3980102539062, 839.8157348632812, 819.060546875, 811.1997680664062, 809.141357421875, 768.8255004882812, 764.7413330078125, 758.0858764648438, 741.5548706054688, 706.2860107421875, 690.9863891601562, 683.0098876953125, 650.5496215820312, 648.1878662109375, 623.9812622070312, 609.6702270507812, 963.4864501953125, 1137.15478515625, 1608.0164794921875, 831.6470336914062, 6210.47607421875, 2997.388671875, 2157.839599609375, 1970.99267578125, 1972.238525390625, 1339.644775390625, 2158.13916015625, 2726.796630859375, 1135.238037109375, 1117.2662353515625, 2613.544677734375, 1762.9908447265625, 2305.375732421875, 3281.961181640625, 2050.125244140625, 1802.428955078125, 3382.869384765625, 2220.8193359375, 1531.62744140625, 3337.949462890625, 2320.9248046875, 1429.8992919921875, 1493.183349609375, 1393.21923828125, 1458.772705078125, 2210.540283203125, 2924.415283203125, 1805.1370849609375, 1550.47998046875, 1531.2230224609375, 1506.4432373046875, 1203.013427734375, 1193.794189453125, 1121.6290283203125, 1074.029296875, 1045.4814453125, 1030.690673828125, 977.18408203125, 889.9610595703125, 866.2642822265625, 849.88818359375, 797.6370239257812, 786.5052490234375, 682.6156005859375, 643.8052368164062, 620.8626708984375, 614.4490356445312, 607.0509033203125, 585.42236328125, 585.3555908203125, 543.6620483398438, 543.271240234375, 497.4894104003906, 495.9885559082031, 494.7230224609375, 494.57525634765625, 490.9706115722656, 477.36328125, 471.6299133300781, 948.608642578125, 2045.8690185546875, 5003.21533203125, 1223.381103515625, 3174.16943359375, 1270.91796875, 2013.3441162109375, 1724.828369140625, 1024.5855712890625, 984.7160034179688, 1525.1756591796875, 2984.74658203125, 1255.371337890625, 1105.271728515625, 4218.595703125, 1670.9443359375, 1777.2169189453125, 1469.1876220703125, 2497.6689453125, 1496.814208984375, 1180.378173828125, 2829.247314453125, 1108.557861328125, 1791.22607421875, 1300.017333984375, 1199.0626220703125, 1293.0211181640625, 1155.3480224609375, 1251.548583984375, 1123.332275390625, 1131.4383544921875, 1132.7427978515625, 3679.648681640625, 3229.5966796875, 2877.6767578125, 1933.25439453125, 1927.6173095703125, 1625.04345703125, 1521.7059326171875, 1383.086181640625, 1321.8800048828125, 1287.652587890625, 1215.8333740234375, 1150.7882080078125, 1094.566650390625, 1076.7939453125, 1018.6710205078125, 989.2892456054688, 952.5670166015625, 924.7361450195312, 922.6598510742188, 850.2238159179688, 847.9993286132812, 798.4802856445312, 796.4522705078125, 778.5463256835938, 745.5742797851562, 734.1959838867188, 684.484619140625, 679.7645263671875, 639.9794921875, 621.5068969726562, 2466.995361328125, 1293.4298095703125, 4741.65185546875, 1620.664306640625, 5123.9072265625, 1310.8072509765625, 2789.612548828125, 1881.416259765625, 1623.6240234375, 1660.500732421875, 991.38916015625, 2294.253662109375, 1551.1011962890625, 1079.2076416015625, 2008.6868896484375, 1981.84716796875, 2166.73828125, 1409.625732421875, 1271.0235595703125, 1311.0709228515625, 2716.78173828125, 1776.6875, 1755.83056640625, 1581.961669921875, 1659.79638671875, 1218.934326171875, 949.6615600585938, 893.3782348632812, 841.8606567382812, 827.0162353515625, 750.772705078125, 690.4329833984375, 666.6203002929688, 653.56640625, 648.3347778320312, 619.7071533203125, 1286.616455078125, 611.6892700195312, 609.9132690429688, 566.1367797851562, 552.5380249023438, 536.1187744140625, 536.0615844726562, 495.7132568359375, 493.68011474609375, 462.08441162109375, 438.4163818359375, 435.7303771972656, 420.06500244140625, 394.19061279296875, 2038.1011962890625, 1175.85986328125, 1057.371337890625, 3475.47265625, 1535.51416015625, 689.8788452148438, 6101.19677734375, 4646.203125, 941.4462890625, 4493.72216796875, 2319.046875, 1213.686767578125, 1137.7923583984375, 7893.50146484375, 8565.8193359375, 2905.09765625, 1062.738037109375, 1299.05322265625, 2431.44970703125, 2346.32861328125, 1429.3895263671875, 1292.4344482421875, 1326.4407958984375, 1030.9317626953125, 1140.3997802734375, 1057.9324951171875, 64901.05078125, 4705.52978515625, 602.9996948242188, 351.48382568359375, 345.7007751464844, 329.3331604003906, 291.3323059082031, 269.2951965332031, 262.6817626953125, 261.791748046875, 252.77862548828125, 218.06683349609375, 207.9385223388672, 202.90438842773438, 197.20193481445312, 180.75083923339844, 168.80612182617188, 160.96047973632812, 151.05152893066406, 150.3390350341797, 141.8619384765625, 139.19491577148438, 138.4828338623047, 128.1436309814453, 125.51053619384766, 124.32453918457031, 116.11477661132812, 107.73401641845703, 102.27786254882812, 100.39199829101562, 2370.32470703125, 2219.464111328125, 1003.7568969726562, 901.8301391601562, 879.18310546875, 763.5192260742188, 712.7366333007812, 688.6466674804688, 678.7401123046875, 552.4819946289062, 529.8458251953125, 483.3152770996094, 452.2796936035156, 421.74322509765625, 408.27667236328125, 360.2282409667969, 354.04058837890625, 343.9167175292969, 333.73370361328125, 333.4334716796875, 324.2103271484375, 296.8233947753906, 278.77099609375, 267.9481506347656, 263.6716003417969, 240.92864990234375, 229.5176239013672, 223.75601196289062, 223.20726013183594, 220.57156372070312, 347.833251953125, 1016.6580810546875, 357.8739013671875, 1295.525390625, 1152.2825927734375, 873.6138916015625, 735.49560546875, 504.0664978027344, 1008.1724243164062, 558.9613647460938, 969.3984985351562, 477.61431884765625, 379.2958984375, 406.0642395019531, 2569.342529296875, 2442.66357421875, 1397.085205078125, 1143.4837646484375, 947.9957275390625, 832.8754272460938, 647.2626342773438, 626.8218383789062, 608.6690673828125, 511.016357421875, 433.2493896484375, 351.7494201660156, 308.4333801269531, 281.18865966796875, 272.9847412109375, 267.665771484375, 265.15948486328125, 262.63165283203125, 238.1538543701172, 223.646728515625, 221.46771240234375, 188.4943389892578, 173.29238891601562, 166.26922607421875, 135.82177734375, 124.15133666992188, 123.22906494140625, 118.21600341796875, 103.1440200805664, 97.25215148925781, 1450.2137451171875, 1437.4232177734375, 418.6983337402344, 421.4508972167969, 412.6533508300781, 312.4407653808594, 282.2620849609375, 337.3917541503906, 316.7842712402344, 511.91815185546875, 281.37823486328125, 279.6929016113281, 2882.639404296875, 1342.1422119140625, 765.0740966796875, 640.0303344726562, 547.3126220703125, 488.9010314941406, 460.1729736328125, 451.55792236328125, 441.39947509765625, 419.10076904296875, 395.56591796875, 375.0100402832031, 364.23089599609375, 362.70556640625, 355.2742919921875, 344.0426940917969, 263.88720703125, 262.1280517578125, 262.0815734863281, 261.2897644042969, 261.1933898925781, 257.4314880371094, 242.160400390625, 212.15138244628906, 210.7089080810547, 206.64459228515625, 203.72523498535156, 199.95758056640625, 199.2509307861328, 187.78515625, 578.7649536132812, 500.7648620605469, 242.6490478515625, 506.93060302734375, 436.2071533203125, 268.326171875, 246.14047241210938, 2030.5904541015625, 1593.646240234375, 737.582763671875, 524.1819458007812, 518.4944458007812, 476.3056640625, 450.0661315917969, 439.7961120605469, 364.5456237792969, 308.3996276855469, 289.13720703125, 270.62188720703125, 254.81732177734375, 250.8130645751953, 213.66183471679688, 205.5611114501953, 202.10858154296875, 199.30322265625, 195.6865692138672, 187.8273468017578, 177.808837890625, 167.6033172607422, 153.31642150878906, 149.62319946289062, 143.5711669921875, 141.85032653808594, 130.96871948242188, 117.41426849365234, 106.55686950683594, 96.71849822998047, 413.0312805175781, 428.08538818359375, 274.71759033203125, 293.6348876953125, 263.65496826171875, 425.4466552734375, 349.9427490234375, 311.9344787597656, 276.92047119140625, 294.3788757324219, 274.9197692871094, 266.316162109375, 276.0783386230469, 202.2481689453125, 2697.337646484375, 1084.455078125, 750.7091064453125, 532.6622924804688, 393.0411376953125, 384.14947509765625, 360.22064208984375, 317.9048156738281, 276.7098083496094, 233.72427368164062, 233.54656982421875, 196.34864807128906, 187.22064208984375, 132.42913818359375, 127.65684509277344, 114.97344207763672, 95.93324279785156, 92.6521224975586, 87.56521606445312, 85.83081817626953, 69.03152465820312, 66.71155548095703, 63.25129318237305, 61.91119384765625, 55.525794982910156, 54.436805725097656, 53.544891357421875, 51.54450988769531, 51.2833251953125, 49.52799606323242, 191.30538940429688, 371.984375, 465.36248779296875, 230.29348754882812, 230.7220458984375, 478.29815673828125, 151.69656372070312, 351.0483093261719, 162.40640258789062, 100.45047760009766, 95.40145874023438, 90.01531982421875, 576.274169921875, 414.8421325683594, 392.9268493652344, 387.79296875, 363.1582946777344, 332.6171875, 262.4258728027344, 234.8657989501953, 229.803466796875, 187.42958068847656, 173.7171173095703, 172.0054168701172, 171.53988647460938, 165.6532745361328, 150.9372100830078, 148.66818237304688, 143.0006866455078, 140.4225311279297, 127.62847900390625, 111.88260650634766, 106.50907135009766, 103.96587371826172, 100.89569854736328, 99.49810028076172, 98.90326690673828, 97.68755340576172, 93.68560791015625, 80.10655975341797, 68.276123046875, 66.31295013427734, 219.91221618652344, 188.99916076660156, 114.8381118774414, 598.946533203125, 486.4066162109375, 336.1357421875, 262.5650634765625, 239.94171142578125, 239.74771118164062, 184.27383422851562, 175.91879272460938, 170.19219970703125, 166.7955780029297, 165.5740509033203, 160.54148864746094, 127.70706176757812, 127.47408294677734, 126.7729721069336, 115.43330383300781, 110.80215454101562, 105.61825561523438, 97.66954040527344, 97.03553009033203, 92.27283477783203, 90.11160278320312, 79.43131256103516, 69.7242660522461, 58.85857009887695, 45.795040130615234, 38.01198959350586, 37.241397857666016, 35.73278045654297, 33.8804931640625, 260.8634948730469, 122.07633972167969, 61.76775360107422, 368.3636474609375, 356.45654296875, 289.9102783203125, 242.33045959472656, 144.4849853515625, 131.96409606933594, 131.0126190185547, 123.53018188476562, 123.09668731689453, 111.12146759033203, 101.53404235839844, 95.9713134765625, 94.6114501953125, 90.2795181274414, 86.17028045654297, 82.20357513427734, 81.366943359375, 79.49681854248047, 74.23574829101562, 73.36061096191406, 71.39088439941406, 66.5062026977539, 63.628108978271484, 62.80076599121094, 54.82622528076172, 53.022247314453125, 48.3407096862793, 46.11658477783203, 43.04905700683594, 30.986474990844727, 403.3975524902344, 130.5818328857422, 246.1895751953125, 200.5147247314453, 58.74534225463867, 406.9919738769531, 334.6087951660156, 216.30152893066406, 183.4456787109375, 169.06483459472656, 127.30210876464844, 122.19014739990234, 117.04141235351562, 108.41564178466797, 108.12288665771484, 104.67731475830078, 87.47899627685547, 82.29803466796875, 61.807395935058594, 58.6192626953125, 57.90909957885742, 46.91907501220703, 45.287784576416016, 44.8272705078125, 28.948530197143555, 28.3343505859375, 27.09684944152832, 25.82750701904297, 25.531312942504883, 24.637102127075195, 23.033119201660156, 20.8940372467041, 19.4617919921875, 17.82164764404297, 16.071823120117188, 159.07363891601562, 1481.1544189453125, 156.40122985839844, 95.87898254394531, 58.66034698486328, 58.395931243896484, 37.9349479675293, 36.93557357788086, 30.69999885559082, 30.05031967163086, 29.677181243896484, 28.920413970947266, 25.33835220336914, 20.071561813354492, 17.853055953979492, 7.704752445220947, 2.4116647243499756, 2.102350950241089, 0.03714415431022644, 0.037143804132938385, 0.03713874891400337, 0.03713584691286087, 0.03713570162653923, 0.0371372289955616, 0.037135861814022064, 0.0371326245367527, 0.03713211789727211, 0.03713001310825348, 0.037129323929548264, 0.037128787487745285, 0.03712891414761543, 0.0371299609541893, 223.17372131347656, 193.28689575195312, 97.56768798828125, 93.56482696533203, 88.88976287841797, 88.58474731445312, 80.90690612792969, 74.40946960449219, 68.6259536743164, 60.157470703125, 59.02124786376953, 53.38655471801758, 48.73561096191406, 48.50747299194336, 47.42905044555664, 44.18410873413086, 42.489559173583984, 41.605430603027344, 39.922054290771484, 33.38108444213867, 30.150876998901367, 29.810874938964844, 24.0546932220459, 16.888002395629883, 9.63735580444336, 8.434456825256348, 5.264528274536133, 184.30982971191406, 36.70920181274414, 20.245718002319336, 199.92604064941406, 192.50100708007812, 186.9392547607422, 174.7869110107422, 137.2166290283203, 127.83918762207031, 126.77999114990234, 104.96202850341797, 94.69676208496094, 80.47148895263672, 65.05506896972656, 54.676780700683594, 50.76585388183594, 35.69234085083008, 31.777244567871094, 31.572481155395508, 20.41265106201172, 19.6304874420166, 19.07406234741211, 16.93770408630371, 12.284538269042969, 12.284538269042969, 12.204578399658203, 3.3928513526916504, 2.3577418327331543, 10.804043769836426, 0.030158791691064835, 0.030159510672092438, 0.030157633125782013, 0.030157294124364853, 0.030157295987010002, 0.030157960951328278, 0.030160699039697647, 0.030159130692481995, 134.6527557373047, 21.492082595825195, 14.44606876373291, 13.177166938781738, 12.105566024780273, 8.816970825195312, 7.057131290435791, 5.664492607116699, 4.826966762542725, 0.3216531276702881, 0.013508728705346584, 0.013506034389138222, 0.013504790142178535, 0.01350423414260149, 0.013504539616405964, 0.01350314635783434, 0.01350325345993042, 0.013503552414476871, 0.013502721674740314, 0.013502600602805614, 0.013502550311386585, 0.013503112830221653, 0.013502679765224457, 0.013502480462193489, 0.013502124696969986, 0.013502057641744614, 0.013501997105777264, 0.013501940295100212, 0.013502524234354496, 0.013501981273293495, 0.013502473011612892, 25.740890502929688, 21.64663314819336, 21.457273483276367, 15.010222434997559, 14.33167552947998, 12.462879180908203, 11.752071380615234, 9.239225387573242, 5.612248420715332, 4.66793155670166, 0.011483409442007542, 0.011483391746878624, 0.011483494192361832, 0.011483201757073402, 0.011483128182590008, 0.011483154259622097, 0.011483157984912395, 0.011483624577522278, 0.011483008973300457, 0.011483153328299522, 0.011483046226203442, 0.011483034119009972, 0.0114832054823637, 0.011483331210911274, 0.011482889764010906, 0.011483010835945606, 0.01148290652781725, 0.01148288231343031, 0.011482862755656242, 0.011482862755656242, 0.011482929810881615, 0.011482881382107735, 0.011483128182590008, 0.011483517475426197, 0.011483327485620975, 0.011483239941298962, 0.011483084410429], \"Term\": [\"ax\", \"not\", \"line\", \"organization\", \"do\", \"university\", \"write\", \"be\", \"would\", \"max\", \"nntp_post\", \"host\", \"article\", \"gun\", \"year\", \"space\", \"say\", \"system\", \"know\", \"use\", \"good\", \"game\", \"team\", \"drive\", \"go\", \"key\", \"thank\", \"christian\", \"window\", \"think\", \"be\", \"s\", \"have\", \"really\", \"car\", \"hear\", \"someone\", \"that\", \"ill\", \"there\", \"hell\", \"anyway\", \"bike\", \"pretty\", \"nice\", \"wonder\", \"anybody\", \"guess\", \"sorry\", \"what\", \"worth\", \"oil\", \"mine\", \"chicago\", \"door\", \"engine\", \"boy\", \"market\", \"should\", \"dod\", \"do\", \"not\", \"article\", \"write\", \"will\", \"buy\", \"know\", \"anyone\", \"want\", \"something\", \"good\", \"think\", \"would\", \"get\", \"probably\", \"lot\", \"thing\", \"look\", \"bad\", \"could\", \"much\", \"tell\", \"see\", \"go\", \"try\", \"line\", \"can\", \"organization\", \"say\", \"make\", \"even\", \"fact\", \"law\", \"issue\", \"president\", \"country\", \"rule\", \"action\", \"member\", \"clear\", \"israel\", \"situation\", \"present\", \"protect\", \"war\", \"history\", \"society\", \"involve\", \"new_york\", \"rise\", \"decision\", \"israeli\", \"tax\", \"event\", \"refer\", \"individual\", \"military\", \"arab\", \"vote\", \"judge\", \"serve\", \"discussion\", \"agree\", \"person\", \"thus\", \"people\", \"state\", \"government\", \"claim\", \"case\", \"american\", \"must\", \"many\", \"public\", \"yet\", \"right\", \"world\", \"point\", \"may\", \"mean\", \"group\", \"make\", \"question\", \"word\", \"say\", \"give\", \"however\", \"part\", \"consider\", \"reason\", \"also\", \"would\", \"way\", \"even\", \"home\", \"maybe\", \"money\", \"kid\", \"cover\", \"couple\", \"light\", \"week\", \"job\", \"road\", \"month\", \"young\", \"city\", \"spend\", \"george\", \"minute\", \"push\", \"pull\", \"cut\", \"russian\", \"edge\", \"mile\", \"mass\", \"burn\", \"radio\", \"boston\", \"blood\", \"doctor\", \"water\", \"medical\", \"house\", \"last\", \"year\", \"face\", \"day\", \"away\", \"power\", \"leave\", \"close\", \"study\", \"second\", \"first\", \"cost\", \"move\", \"time\", \"end\", \"start\", \"high\", \"take\", \"old\", \"pay\", \"go\", \"low\", \"come\", \"back\", \"show\", \"new\", \"great\", \"also\", \"turn\", \"still\", \"work\", \"window\", \"card\", \"file\", \"software\", \"email\", \"version\", \"driver\", \"color\", \"graphic\", \"board\", \"application\", \"server\", \"machine\", \"mode\", \"copy\", \"disk\", \"mac\", \"peter\", \"monitor\", \"faq\", \"screen\", \"hd\", \"ram\", \"hardware\", \"function\", \"pc\", \"font\", \"extra\", \"connection\", \"andrew\", \"program\", \"code\", \"system\", \"standard\", \"use\", \"address\", \"run\", \"available\", \"set\", \"bit\", \"user\", \"problem\", \"support\", \"speed\", \"need\", \"work\", \"also\", \"help\", \"include\", \"number\", \"mail\", \"sale\", \"list\", \"ca\", \"price\", \"advance\", \"network\", \"obvious\", \"hour\", \"package\", \"newsgroup\", \"institute\", \"class\", \"library\", \"site\", \"apr\", \"internet\", \"together\", \"air\", \"directory\", \"corporation\", \"mit\", \"michael\", \"illinois\", \"advice\", \"engineer\", \"moon\", \"upgrade\", \"pub\", \"purchase\", \"send\", \"summary\", \"interested\", \"thank\", \"keyword\", \"dept\", \"university\", \"host\", \"fax\", \"nntp_post\", \"information\", \"distribution_world\", \"service\", \"organization\", \"line\", \"new\", \"sell\", \"technology\", \"post\", \"reply\", \"news\", \"message\", \"info\", \"box\", \"computer\", \"center\", \"ax\", \"max\", \"prove\", \"count\", \"somewhere\", \"announce\", \"printer\", \"summer\", \"dollar\", \"usenet\", \"steven\", \"jeff\", \"yesterday\", \"shipping\", \"multi\", \"montreal\", \"correctly\", \"predict\", \"pennsylvania\", \"familiar\", \"ridiculous\", \"postscript\", \"jet\", \"pair\", \"upenn\", \"firm\", \"revenue\", \"online_communication\", \"minimum\", \"flash\", \"christian\", \"god\", \"religion\", \"bible\", \"truth\", \"belief\", \"faith\", \"king\", \"church\", \"normal\", \"lord\", \"father\", \"moral\", \"atheist\", \"christ\", \"gay\", \"christianity\", \"scripture\", \"marriage\", \"sex\", \"homosexual\", \"century\", \"animal\", \"soul\", \"satan\", \"marry\", \"spirit\", \"escape\", \"massacre\", \"thousand\", \"son\", \"die\", \"religious\", \"life\", \"man\", \"child\", \"love\", \"woman\", \"believe\", \"exist\", \"say\", \"word\", \"human\", \"come\", \"game\", \"team\", \"player\", \"hockey\", \"season\", \"contact\", \"goal\", \"fan\", \"score\", \"hawk\", \"canadian\", \"playoff\", \"doug\", \"excellent\", \"draft\", \"cup\", \"brown\", \"suck\", \"pitch\", \"rough\", \"newsletter\", \"snow\", \"carl\", \"plate\", \"standing\", \"needless\", \"paint\", \"inspection\", \"hartford\", \"destruction\", \"play\", \"win\", \"pittsburgh\", \"final\", \"division\", \"star\", \"sport\", \"period\", \"canada\", \"year\", \"run\", \"good\", \"space\", \"image\", \"display\", \"blue\", \"print\", \"satellite\", \"tank\", \"material\", \"orbit\", \"flight\", \"gov\", \"band\", \"output\", \"input\", \"spacecraft\", \"sample\", \"mar\", \"gas\", \"multiple\", \"misc\", \"proceed\", \"guide\", \"hi\", \"camera\", \"menu\", \"volume\", \"lunar\", \"edward\", \"kit\", \"pointer\", \"earth\", \"project\", \"planet\", \"research\", \"datum\", \"model\", \"commercial\", \"key\", \"chip\", \"encryption\", \"clipper\", \"tom\", \"algorithm\", \"slow\", \"van\", \"secure\", \"master\", \"nsa\", \"compatible\", \"default\", \"carnegie_mellon\", \"component\", \"warrant\", \"register\", \"faster\", \"dan\", \"export\", \"marc\", \"serial_number\", \"pgp\", \"scheme\", \"bruce\", \"court_order\", \"environmental\", \"cryptography\", \"escrow\", \"scratch\", \"communication\", \"security\", \"secret\", \"archive\", \"block\", \"bit\", \"technology\", \"phone\", \"access\", \"government\", \"message\", \"information\", \"system\", \"industry\", \"gun\", \"_\", \"weapon\", \"discipline\", \"terminal\", \"eg\", \"xterm\", \"militia\", \"gun_control\", \"expose\", \"second_amendment\", \"legislation\", \"insure\", \"organisation\", \"david_veal\", \"dougla\", \"bear_arm\", \"fractal\", \"amend\", \"proportion\", \"county\", \"racial\", \"hp\", \"enterprise\", \"cliff\", \"clause\", \"passive\", \"invoke\", \"cont_education\", \"unconditional\", \"federal_government\", \"constitution\", \"crime\", \"ban\", \"hunt\", \"criminal\", \"amendment\", \"police\", \"safety\", \"training\", \"mr\", \"carry\", \"computer_science\", \"univ\", \"gordon_bank\", \"ibm\", \"clipper_chip\", \"distribution_na\", \"magazine\", \"description\", \"pressure\", \"announcement\", \"edition\", \"comparison\", \"white_house\", \"installation\", \"surrender\", \"emergency\", \"capability\", \"essentially\", \"socket\", \"larry\", \"accuracy\", \"chastity\", \"intellect\", \"jxp_skepticism\", \"shameful\", \"borland\", \"david_sternlight\", \"dictionary\", \"trace\", \"ton\", \"professional\", \"soon\", \"pittsburgh\", \"drug\", \"matthew\", \"health\", \"jim\", \"seek\", \"reader\", \"economic\", \"status\", \"highly\", \"fair\", \"tel\", \"tie\", \"slave\", \"perfectly\", \"registration\", \"presentation\", \"abortion\", \"canuck\", \"fm\", \"legally\", \"sight\", \"reform\", \"abandon\", \"holder\", \"praise\", \"impair\", \"invalid\", \"thi\", \"partially\", \"stomach\", \"rate\", \"apply\", \"acquire\", \"bus\", \"specifically\", \"msg\", \"motorcycle\", \"confuse\", \"entry\", \"shift\", \"brand\", \"ease\", \"bag\", \"taste\", \"cell\", \"vesa_local\", \"countersteer\", \"lane\", \"rider\", \"msg_sensitivity\", \"superstition\", \"mustang\", \"tongue\", \"vram\", \"warm\", \"safely\", \"infection\", \"ms_window\", \"overwrite\", \"james_callison\", \"bed\", \"configure\", \"newbie\", \"food\", \"rid\", \"eat\", \"ride\", \"depend\", \"league\", \"baseball\", \"tim\", \"doc\", \"lock\", \"comet\", \"logo\", \"truck\", \"virginia\", \"ray\", \"sea\", \"salary\", \"jupiter\", \"phillie\", \"opposite\", \"television\", \"texas_instrument\", \"dayton\", \"chevy\", \"shoulder\", \"camaro\", \"pete\", \"disabled\", \"sedan\", \"sho\", \"inter\", \"horizon\", \"automatic_transmission\", \"taurus\", \"blew\", \"depend\", \"drive\", \"ohio_state\", \"dodger\", \"inside\", \"met\", \"stadium\", \"chuck\", \"cookie\", \"havent_seen\", \"rice\", \"magnus_ac\", \"host_magnusug\", \"white_sox\", \"merced\", \"classical\", \"benz\", \"nasa_gsfc\", \"cmo\", \"partition\", \"ide\", \"suranet\", \"low_level\", \"format\", \"paper\", \"controller\", \"cable\", \"hard_drive\", \"connector\", \"jumper_setting\", \"cylinder\", \"instal\", \"mhz\", \"button\", \"syndrome\", \"window_manager\", \"ltd\", \"tonight\", \"loop\", \"gross\", \"quit\", \"london\", \"symptom\", \"columbia\", \"nerve\", \"bryan\", \"illness\", \"buying\", \"eff\", \"lobby\", \"scope\", \"alex\", \"trunk\", \"dialog_box\", \"swell\", \"stein_washington\", \"diagnose\", \"unclear\", \"compartment\", \"pain\", \"pop\", \"press\", \"pray\", \"pin\", \"morning\", \"hall\", \"coverage\", \"astronomy\", \"complain\", \"dare\", \"seal\", \"espn\", \"princeton\", \"winnipeg_jet\", \"org\", \"married\", \"phd\", \"gary_dare\", \"advertise\", \"host_cunixb\", \"celebrate\", \"divorce\", \"souviens_gary\", \"domi_stanley\", \"gld_je\", \"lange\", \"reap\", \"nntp_posting\", \"health_insurance\", \"spank\", \"health_care\", \"henriksen\", \"drilling\", \"ncsl_nist\", \"nhl\", \"mr_stephanopoulo\", \"circuit\", \"stable\", \"cam\", \"chemistry\", \"scout\", \"tran\", \"arabic\", \"randomly\", \"axis\", \"tablet\", \"wire\", \"wiring\", \"outlet\", \"neutral\", \"ground\", \"gfci\", \"nec\", \"cable\", \"cec\", \"insulation\", \"breaker\", \"connect\", \"cubs_suck\", \"fuse\", \"prong\", \"inspector\", \"receptacle\", \"fixture\", \"switch\", \"voltage\", \"device\", \"initiative\", \"gerald\", \"purdue_university\", \"gerald_olchowy\", \"invasion\", \"toronto_chemistry\", \"clinton_administration\", \"demonstration\", \"bush_administration\", \"qualification\", \"keenan\", \"kovalev\", \"roger\", \"primeau\", \"messier\", \"messy\", \"injury\", \"wing\", \"nielson\", \"mvp\", \"murray\", \"yzerman\", \"leafs\", \"ranger\", \"nagging\", \"invite\", \"decline\", \"pocklington\", \"philly\", \"biggest_surprise\", \"mogilny\", \"northland\", \"coach\", \"device\", \"law_enforcement\", \"pick\", \"policy\"], \"Total\": [64902.0, 24206.0, 18730.0, 16709.0, 15422.0, 7809.0, 13744.0, 11807.0, 17232.0, 4706.0, 6771.0, 6319.0, 10769.0, 2698.0, 5516.0, 2883.0, 10381.0, 5392.0, 10703.0, 7222.0, 7960.0, 2570.0, 2443.0, 1482.0, 8830.0, 2031.0, 3697.0, 2371.0, 3680.0, 7793.0, 11807.474609375, 5601.9189453125, 4284.87255859375, 3117.593017578125, 2130.912353515625, 2085.67822265625, 1987.3358154296875, 1688.04150390625, 1683.811767578125, 1035.4912109375, 1027.575927734375, 1013.3245239257812, 1004.1519165039062, 917.1690063476562, 897.8496704101562, 864.718017578125, 836.1700439453125, 749.2533569335938, 660.3623046875, 636.4424438476562, 600.0184936523438, 588.398681640625, 587.8280639648438, 573.8819580078125, 568.470458984375, 557.6970825195312, 521.9210815429688, 509.04815673828125, 472.18450927734375, 447.8089294433594, 15422.35546875, 24206.294921875, 10769.623046875, 13744.2138671875, 2050.26025390625, 1706.4337158203125, 10703.05078125, 3930.111572265625, 5343.0419921875, 3325.450439453125, 7960.224609375, 7793.8154296875, 17232.88671875, 10104.3095703125, 2177.742919921875, 2321.2705078125, 4859.3115234375, 5039.13916015625, 1712.2257080078125, 5424.0341796875, 4107.8330078125, 3811.25, 6581.22900390625, 8830.8779296875, 4534.830078125, 18730.30859375, 3617.97216796875, 16709.5390625, 10381.1982421875, 8442.8251953125, 4706.02392578125, 2727.75048828125, 2586.89794921875, 1716.503173828125, 1590.615966796875, 1303.4781494140625, 1120.5960693359375, 1019.5932006835938, 1010.672119140625, 993.6268310546875, 992.0829467773438, 932.1878051757812, 921.086181640625, 889.4849243164062, 867.488037109375, 842.4541625976562, 840.8718872070312, 820.11669921875, 812.2559204101562, 810.197509765625, 769.8816528320312, 765.7974853515625, 759.1420288085938, 742.6110229492188, 707.3421630859375, 692.0425415039062, 684.0660400390625, 651.6057739257812, 649.2440185546875, 625.0374145507812, 610.7263793945312, 973.0258178710938, 1155.7364501953125, 1718.94580078125, 847.8736572265625, 7710.62109375, 3527.619873046875, 2453.200927734375, 2231.42041015625, 2417.43896484375, 1523.5469970703125, 2904.276123046875, 4126.5615234375, 1289.44873046875, 1288.4522705078125, 4448.392578125, 2503.294189453125, 3832.321044921875, 6580.15283203125, 3371.6240234375, 2853.7255859375, 8442.8251953125, 4114.52587890625, 2246.251220703125, 10381.1982421875, 5208.04345703125, 2044.038330078125, 2370.7080078125, 2036.137939453125, 2266.477294921875, 6869.99267578125, 17232.88671875, 4626.458984375, 4706.02392578125, 1532.2799072265625, 1507.5001220703125, 1204.0703125, 1194.85107421875, 1122.6859130859375, 1075.086181640625, 1046.538330078125, 1031.74755859375, 978.24072265625, 891.0177001953125, 867.3209228515625, 850.94482421875, 798.6936645507812, 787.5618896484375, 683.6722412109375, 644.8618774414062, 621.9193115234375, 615.5056762695312, 608.1075439453125, 586.47900390625, 586.4122314453125, 544.7186889648438, 544.327880859375, 498.5460205078125, 497.045166015625, 495.7796325683594, 495.6318664550781, 492.0272216796875, 478.4198913574219, 472.6865234375, 963.3959350585938, 2165.9365234375, 5516.13134765625, 1288.5128173828125, 3673.563720703125, 1369.0283203125, 2258.13818359375, 1912.78955078125, 1108.489990234375, 1073.3203125, 1883.9713134765625, 4458.994140625, 1537.385009765625, 1321.36376953125, 8128.94287109375, 2365.479248046875, 2901.947265625, 2162.654296875, 5225.89404296875, 2281.5576171875, 1517.3951416015625, 8830.8779296875, 1411.6807861328125, 5114.1669921875, 2213.354736328125, 2080.80419921875, 4728.28076171875, 2367.98876953125, 6869.99267578125, 1755.1844482421875, 3020.44189453125, 5514.53466796875, 3680.692626953125, 3230.640625, 2878.720703125, 1934.2984619140625, 1928.661376953125, 1626.0875244140625, 1522.75, 1384.1302490234375, 1322.924072265625, 1288.6966552734375, 1216.87744140625, 1151.832275390625, 1095.6107177734375, 1077.8380126953125, 1019.71484375, 990.3330688476562, 953.61083984375, 925.7799682617188, 923.7036743164062, 851.2681274414062, 849.0431518554688, 799.5241088867188, 797.49609375, 779.5908203125, 746.6181030273438, 735.2398071289062, 685.5284423828125, 680.808349609375, 641.0233154296875, 622.5507202148438, 2482.36669921875, 1346.844482421875, 5392.94384765625, 1853.2518310546875, 7222.3310546875, 1509.7384033203125, 3905.656982421875, 2394.54052734375, 2252.75341796875, 2503.93994140625, 1094.5384521484375, 4608.45166015625, 2534.9208984375, 1277.830810546875, 4914.6025390625, 5514.53466796875, 6869.99267578125, 3294.522705078125, 2669.700927734375, 3410.167236328125, 2717.832275390625, 1777.738037109375, 1756.9727783203125, 1583.01220703125, 1661.07080078125, 1219.98486328125, 950.7119140625, 894.4285888671875, 842.9110107421875, 828.0665893554688, 751.8230590820312, 691.4833374023438, 667.670654296875, 654.6167602539062, 649.3851318359375, 620.7575073242188, 1288.8216552734375, 612.7396240234375, 610.963623046875, 567.1871337890625, 553.58837890625, 537.1691284179688, 537.1119384765625, 496.76361083984375, 494.73046875, 463.134765625, 439.46673583984375, 436.7807312011719, 421.1153564453125, 395.240966796875, 2078.129150390625, 1193.541259765625, 1077.7236328125, 3697.30517578125, 1603.67919921875, 700.2589111328125, 7809.73583984375, 6319.7509765625, 1022.1028442382812, 6771.7265625, 3055.2265625, 1419.748291015625, 1328.289794921875, 16709.5390625, 18730.30859375, 4728.28076171875, 1250.44482421875, 1649.97265625, 3901.451171875, 3992.027587890625, 1935.8450927734375, 1761.64404296875, 2016.9283447265625, 1304.6868896484375, 2096.72412109375, 1797.965576171875, 64902.12890625, 4706.60205078125, 604.0712280273438, 352.55535888671875, 346.7723083496094, 330.4046936035156, 292.4038391113281, 270.3667297363281, 263.7532958984375, 262.86328125, 253.85025024414062, 219.13845825195312, 209.01014709472656, 203.97601318359375, 198.2735595703125, 181.8224639892578, 169.87774658203125, 162.0321044921875, 152.12315368652344, 151.41065979003906, 142.93356323242188, 140.26654052734375, 139.55445861816406, 129.2152557373047, 126.58213806152344, 125.3961410522461, 117.1863784790039, 108.80561828613281, 103.3494644165039, 101.4636001586914, 2371.392822265625, 2220.5322265625, 1004.82470703125, 902.89794921875, 880.2509155273438, 764.5870361328125, 713.804443359375, 689.7144775390625, 679.8079223632812, 553.5498046875, 530.9136352539062, 484.3830871582031, 453.3475036621094, 422.81103515625, 409.344482421875, 361.2960510253906, 355.1083984375, 344.9845275878906, 334.801513671875, 334.50128173828125, 325.27813720703125, 297.8912048339844, 279.83880615234375, 269.0159606933594, 264.7394104003906, 241.9965362548828, 230.58551025390625, 224.8238983154297, 224.275146484375, 221.6394500732422, 378.2221374511719, 1399.1063232421875, 398.6335754394531, 2614.9970703125, 2266.93408203125, 1600.4383544921875, 1468.3018798828125, 840.0987548828125, 3346.570556640625, 1782.8587646484375, 10381.1982421875, 2246.251220703125, 1171.8172607421875, 5114.1669921875, 2570.412353515625, 2443.7333984375, 1398.1546630859375, 1144.55322265625, 949.0650634765625, 833.9447631835938, 648.3319702148438, 627.8911743164062, 609.7384033203125, 512.085693359375, 434.3187255859375, 352.8187561035156, 309.5027160644531, 282.25799560546875, 274.0540771484375, 268.735107421875, 266.22882080078125, 263.70098876953125, 239.22329711914062, 224.71617126464844, 222.5371551513672, 189.56378173828125, 174.36183166503906, 167.3386688232422, 136.89122009277344, 125.22074890136719, 124.29847717285156, 119.28541564941406, 104.21343231201172, 98.32156372070312, 1653.3697509765625, 1706.0784912109375, 534.5543212890625, 672.4168701171875, 653.5206298828125, 482.42291259765625, 417.42059326171875, 649.0655517578125, 859.9215087890625, 5516.13134765625, 3905.656982421875, 7960.224609375, 2883.69580078125, 1343.198486328125, 766.1301879882812, 641.08642578125, 548.3687133789062, 489.9571533203125, 461.2290954589844, 452.6140441894531, 442.4555969238281, 420.1568908691406, 396.6220397949219, 376.066162109375, 365.2870178222656, 363.7616882324219, 356.3304138183594, 345.09881591796875, 264.9433288574219, 263.1841735839844, 263.1376953125, 262.34588623046875, 262.24951171875, 258.48760986328125, 243.21661376953125, 213.2075958251953, 211.76512145996094, 207.7008056640625, 204.7814483642578, 201.0137939453125, 200.30714416503906, 188.84136962890625, 861.9588012695312, 809.5942993164062, 287.7847900390625, 1298.2733154296875, 1653.2799072265625, 771.2468872070312, 494.03009033203125, 2031.6455078125, 1594.7012939453125, 738.6376953125, 525.2368774414062, 519.5493774414062, 477.3605651855469, 451.12103271484375, 440.85101318359375, 365.60052490234375, 309.45452880859375, 290.1921081542969, 271.6767883300781, 255.872314453125, 251.86805725097656, 214.71682739257812, 206.61610412597656, 203.16357421875, 200.35821533203125, 196.74156188964844, 188.88233947753906, 178.86383056640625, 168.65830993652344, 154.3714141845703, 150.67819213867188, 144.62615966796875, 142.9053192138672, 132.02371215820312, 118.46923828125, 107.6118392944336, 97.77346801757812, 437.1412353515625, 589.0008544921875, 347.01788330078125, 386.04248046875, 480.75567626953125, 2503.93994140625, 1649.97265625, 1248.48388671875, 986.6134033203125, 2453.200927734375, 1761.64404296875, 3055.2265625, 5392.94384765625, 492.5711364746094, 2698.360107421875, 1085.477783203125, 751.7315673828125, 533.6847534179688, 394.0635986328125, 385.17193603515625, 361.24310302734375, 318.9272766113281, 277.7322692871094, 234.746826171875, 234.56912231445312, 197.37120056152344, 188.24319458007812, 133.45169067382812, 128.6793975830078, 115.99595642089844, 96.95575714111328, 93.67463684082031, 88.58773040771484, 86.85333251953125, 70.05403900146484, 67.73406982421875, 64.27381134033203, 62.933719635009766, 56.54832077026367, 55.45933151245117, 54.56741714477539, 52.56703567504883, 52.305850982666016, 50.55052185058594, 198.8763427734375, 437.9123229980469, 728.7665405273438, 316.91033935546875, 324.20135498046875, 922.0433349609375, 237.2863311767578, 901.5938110351562, 510.0250244140625, 193.76051330566406, 431.0960998535156, 926.8950805664062, 577.3515014648438, 415.9194641113281, 394.0041809082031, 388.87030029296875, 364.2356262207031, 333.69451904296875, 263.5032043457031, 235.94322204589844, 230.88088989257812, 188.5070037841797, 174.79454040527344, 173.0828399658203, 172.6173095703125, 166.73069763183594, 152.01463317871094, 149.74560546875, 144.07810974121094, 141.4999542236328, 128.70590209960938, 112.95999145507812, 107.58645629882812, 105.04325866699219, 101.97308349609375, 100.57548522949219, 99.98065185546875, 98.76493835449219, 94.76299285888672, 81.18394470214844, 69.35350799560547, 67.39033508300781, 243.36802673339844, 741.066650390625, 534.5543212890625, 600.0264282226562, 487.4865417480469, 337.2156677246094, 263.6449890136719, 241.02169799804688, 240.82769775390625, 185.35382080078125, 176.998779296875, 171.27218627929688, 167.8755645751953, 166.65403747558594, 161.62147521972656, 128.78704833984375, 128.5540771484375, 127.85293579101562, 116.51326751708984, 111.88211822509766, 106.6982192993164, 98.74950408935547, 98.11549377441406, 93.35279846191406, 91.19156646728516, 80.51127624511719, 70.80422973632812, 59.93853759765625, 46.87500762939453, 39.091957092285156, 38.32136535644531, 36.812747955322266, 34.9604606628418, 612.110107421875, 834.6837158203125, 183.19972229003906, 369.4453125, 357.5382080078125, 290.991943359375, 243.41221618652344, 145.56674194335938, 133.0458526611328, 132.09437561035156, 124.61190795898438, 124.17841339111328, 112.20319366455078, 102.61576843261719, 97.05303955078125, 95.69317626953125, 91.36124420166016, 87.25200653076172, 83.2853012084961, 82.44866943359375, 80.57854461669922, 75.31747436523438, 74.44233703613281, 72.47261047363281, 67.58792877197266, 64.7098388671875, 63.88249969482422, 55.907958984375, 54.103981018066406, 49.42244338989258, 47.19831848144531, 44.13079071044922, 32.068206787109375, 507.5986328125, 167.2593536376953, 392.509521484375, 371.0521240234375, 218.85940551757812, 408.0794372558594, 335.6962585449219, 217.38906860351562, 184.53321838378906, 170.15237426757812, 128.3896484375, 123.27766418457031, 118.1289291381836, 109.50315856933594, 109.21040344238281, 105.76483154296875, 88.56651306152344, 83.38555145263672, 62.89491653442383, 59.706783294677734, 58.996620178222656, 48.006595611572266, 46.37530517578125, 45.914791107177734, 30.036046981811523, 29.42186737060547, 28.18436622619629, 26.915023803710938, 26.61882972717285, 25.724618911743164, 24.120635986328125, 21.98155403137207, 20.54930877685547, 18.909164428710938, 17.159339904785156, 218.85940551757812, 1482.2462158203125, 157.49298095703125, 96.97071075439453, 59.752079010009766, 59.48766326904297, 39.02667999267578, 38.027305603027344, 31.791730880737305, 31.142051696777344, 30.76891326904297, 30.01214599609375, 26.430084228515625, 21.163293838500977, 18.944787979125977, 8.79648494720459, 3.5033974647521973, 3.1940834522247314, 1.1289042234420776, 1.1289023160934448, 1.128903865814209, 1.1288845539093018, 1.12888765335083, 1.1289669275283813, 1.1289501190185547, 1.128907322883606, 1.1289414167404175, 1.1288925409317017, 1.1288894414901733, 1.1288745403289795, 1.128880262374878, 1.1289273500442505, 224.26283264160156, 194.37600708007812, 98.65679931640625, 94.65393829345703, 89.97887420654297, 89.67385864257812, 81.99601745605469, 75.49858093261719, 69.7150650024414, 61.246578216552734, 60.110355377197266, 54.47566223144531, 49.8247184753418, 49.596580505371094, 48.518157958984375, 45.273216247558594, 43.57866668701172, 42.69453811645508, 41.01116180419922, 34.470191955566406, 31.2399845123291, 30.899982452392578, 25.143800735473633, 17.977109909057617, 10.72646427154541, 9.523566246032715, 6.353637218475342, 227.7128143310547, 144.43588256835938, 553.5537109375, 201.02474975585938, 193.59971618652344, 188.0379638671875, 175.8856201171875, 138.31533813476562, 128.93789672851562, 127.87869262695312, 106.06072998046875, 95.79546356201172, 81.5701904296875, 66.15377044677734, 55.77547836303711, 51.86455154418945, 36.791038513183594, 32.87594223022461, 32.67117691040039, 21.5113468170166, 20.729183197021484, 20.172758102416992, 18.036399841308594, 13.383235931396484, 13.383235931396484, 13.303276062011719, 4.491549015045166, 3.456439256668091, 178.0889434814453, 1.1288669109344482, 1.1289182901382446, 1.128875494003296, 1.1288630962371826, 1.1288632154464722, 1.1288894414901733, 1.1290098428726196, 1.128950834274292, 135.7681121826172, 22.607433319091797, 15.561420440673828, 14.292518615722656, 13.220917701721191, 9.93232250213623, 8.17248249053955, 6.779844284057617, 5.942318439483643, 1.437004804611206, 1.1289715766906738, 1.1289128065109253, 1.1289021968841553, 1.1289011240005493, 1.1289469003677368, 1.128878116607666, 1.1288944482803345, 1.1289414167404175, 1.1288751363754272, 1.1288721561431885, 1.1288727521896362, 1.1289218664169312, 1.1288862228393555, 1.1288740634918213, 1.1288667917251587, 1.12886643409729, 1.128865361213684, 1.1288652420043945, 1.1289159059524536, 1.1288758516311646, 1.1289784908294678, 26.858261108398438, 22.76400375366211, 22.574644088745117, 16.127592086791992, 15.449045181274414, 13.580248832702637, 12.869441032409668, 10.356595039367676, 6.729618549346924, 5.785301208496094, 1.1288598775863647, 1.1288632154464722, 1.1288831233978271, 1.1288583278656006, 1.1288563013076782, 1.12886381149292, 1.1288682222366333, 1.1289149522781372, 1.1288557052612305, 1.1288713216781616, 1.1288654804229736, 1.1288670301437378, 1.1288844347000122, 1.1288985013961792, 1.1288554668426514, 1.128868579864502, 1.128861427307129, 1.128859281539917, 1.1288583278656006, 1.1288583278656006, 1.1288654804229736, 1.1288611888885498, 1.1289008855819702, 1.1289784908294678, 1.128944754600525, 1.1289551258087158, 1.1289154291152954], \"loglift\": [30.0, 29.0, 28.0, 27.0, 26.0, 25.0, 24.0, 23.0, 22.0, 21.0, 20.0, 19.0, 18.0, 17.0, 16.0, 15.0, 14.0, 13.0, 12.0, 11.0, 10.0, 9.0, 8.0, 7.0, 6.0, 5.0, 4.0, 3.0, 2.0, 1.0, 1.317199945449829, 1.3171000480651855, 1.3171000480651855, 1.3170000314712524, 1.3167999982833862, 1.3167999982833862, 1.3167999982833862, 1.3166999816894531, 1.3166999816894531, 1.3163000345230103, 1.3163000345230103, 1.3163000345230103, 1.3163000345230103, 1.3162000179290771, 1.316100001335144, 1.316100001335144, 1.316100001335144, 1.3158999681472778, 1.3157000541687012, 1.3157000541687012, 1.315600037574768, 1.315500020980835, 1.315500020980835, 1.315500020980835, 1.315500020980835, 1.3154000043869019, 1.3152999877929688, 1.3151999711990356, 1.3150999546051025, 1.315000057220459, 1.3136999607086182, 1.3068000078201294, 1.2882000207901, 1.284500002861023, 1.2954000234603882, 1.2954000234603882, 1.2475999593734741, 1.2728999853134155, 1.2510000467300415, 1.2524000406265259, 1.2021000385284424, 1.2026000022888184, 1.1268999576568604, 1.1526000499725342, 1.2410999536514282, 1.2309000492095947, 1.156499981880188, 1.1389000415802002, 1.2515000104904175, 1.097599983215332, 1.1349999904632568, 1.1377999782562256, 1.0, 0.930899977684021, 1.0755000114440918, 0.6676999926567078, 1.1103999614715576, 0.6777999997138977, 0.7117000222206116, 0.7462000250816345, 0.8324000239372253, 1.4838000535964966, 1.4838000535964966, 1.4836000204086304, 1.4835000038146973, 1.4833999872207642, 1.483199954032898, 1.483199954032898, 1.4831000566482544, 1.4831000566482544, 1.4831000566482544, 1.4831000566482544, 1.4830000400543213, 1.4830000400543213, 1.4830000400543213, 1.4829000234603882, 1.4829000234603882, 1.4829000234603882, 1.4829000234603882, 1.4829000234603882, 1.482800006866455, 1.482800006866455, 1.482800006866455, 1.482800006866455, 1.482699990272522, 1.482699990272522, 1.4825999736785889, 1.4825999736785889, 1.4825999736785889, 1.4824999570846558, 1.4824999570846558, 1.4743000268936157, 1.468000054359436, 1.4175000190734863, 1.464900016784668, 1.267799973487854, 1.3213000297546387, 1.3559000492095947, 1.3601000308990479, 1.2805999517440796, 1.3554999828338623, 1.1871999502182007, 1.0699000358581543, 1.3567999601364136, 1.341599941253662, 0.9524000287055969, 1.1335999965667725, 0.9760000109672546, 0.7886000275611877, 0.9866999983787537, 1.0247000455856323, 0.569599986076355, 0.8675000071525574, 1.1013000011444092, 0.34950000047683716, 0.6758999824523926, 1.1268999576568604, 1.0219000577926636, 1.104699969291687, 1.0435999631881714, 0.35030001401901245, -0.28949999809265137, 0.5429999828338623, 0.37389999628067017, 2.0432000160217285, 2.043100118637085, 2.0429999828338623, 2.0429999828338623, 2.0429000854492188, 2.0429000854492188, 2.042799949645996, 2.042799949645996, 2.042799949645996, 2.0427000522613525, 2.04259991645813, 2.04259991645813, 2.0425000190734863, 2.0425000190734863, 2.04229998588562, 2.0422000885009766, 2.042099952697754, 2.042099952697754, 2.042099952697754, 2.0420000553131104, 2.0420000553131104, 2.0418999195098877, 2.0418999195098877, 2.0416998863220215, 2.0416998863220215, 2.0416998863220215, 2.0416998863220215, 2.0416998863220215, 2.041599988937378, 2.041599988937378, 2.02839994430542, 1.986799955368042, 1.9462000131607056, 1.9919999837875366, 1.8976999521255493, 1.969499945640564, 1.9291000366210938, 1.9404000043869019, 1.9651000499725342, 1.9577000141143799, 1.8325999975204468, 1.6424000263214111, 1.8411999940872192, 1.8653000593185425, 1.3878999948501587, 1.6963000297546387, 1.5535000562667847, 1.6571999788284302, 1.3056000471115112, 1.6223000288009644, 1.7927000522613525, 0.9056000113487244, 1.8020999431610107, 0.994700014591217, 1.5117000341415405, 1.4925999641418457, 0.7473000288009644, 1.326200008392334, 0.3411000072956085, 1.597599983215332, 1.061900019645691, 0.4611000120639801, 2.2132999897003174, 2.213200092315674, 2.213200092315674, 2.2130000591278076, 2.2130000591278076, 2.212899923324585, 2.212899923324585, 2.2128000259399414, 2.2128000259399414, 2.2126998901367188, 2.2126998901367188, 2.212599992752075, 2.212599992752075, 2.212599992752075, 2.2125000953674316, 2.2125000953674316, 2.2125000953674316, 2.212399959564209, 2.212399959564209, 2.2123000621795654, 2.2123000621795654, 2.2121999263763428, 2.2121999263763428, 2.2121999263763428, 2.2121999263763428, 2.212100028991699, 2.2119998931884766, 2.2119998931884766, 2.211899995803833, 2.211899995803833, 2.2072999477386475, 2.173099994659424, 2.0848000049591064, 2.079400062561035, 1.870300054550171, 2.0722999572753906, 1.8769999742507935, 1.9723999500274658, 1.8861000537872314, 1.8028000593185425, 2.1145999431610107, 1.5161000490188599, 1.7223999500274658, 2.044600009918213, 1.3187999725341797, 1.1901999711990356, 1.0595999956130981, 1.3645999431610107, 1.4714000225067139, 1.257599949836731, 2.4511001110076904, 2.450900077819824, 2.4507999420166016, 2.4507999420166016, 2.450700044631958, 2.4505999088287354, 2.4504001140594482, 2.4502999782562256, 2.4502999782562256, 2.450200080871582, 2.4500999450683594, 2.450000047683716, 2.449899911880493, 2.449899911880493, 2.449899911880493, 2.4498000144958496, 2.4498000144958496, 2.4498000144958496, 2.4498000144958496, 2.4495999813079834, 2.4495999813079834, 2.44950008392334, 2.44950008392334, 2.449399948120117, 2.449399948120117, 2.449199914932251, 2.4491000175476074, 2.4491000175476074, 2.4489998817443848, 2.4488000869750977, 2.431999921798706, 2.4365999698638916, 2.4323999881744385, 2.3896000385284424, 2.408099889755249, 2.4365999698638916, 2.2046000957489014, 2.143899917602539, 2.36929988861084, 2.0413999557495117, 2.175800085067749, 2.2946999073028564, 2.2967000007629395, 1.7015999555587769, 1.669100046157837, 1.964400053024292, 2.288800001144409, 2.212399959564209, 1.978600025177002, 1.9199999570846558, 2.148200035095215, 2.1417999267578125, 2.032399892807007, 2.2160000801086426, 1.8424999713897705, 1.9212000370025635, 2.987299919128418, 2.9870998859405518, 2.985599994659424, 2.984299898147583, 2.984299898147583, 2.984100103378296, 2.9837000370025635, 2.9834001064300537, 2.983299970626831, 2.983299970626831, 2.983099937438965, 2.9823999404907227, 2.9821999073028564, 2.982100009918213, 2.9818999767303467, 2.9814000129699707, 2.9809999465942383, 2.9807000160217285, 2.980299949645996, 2.9802000522613525, 2.97979998588562, 2.9797000885009766, 2.979599952697754, 2.9790000915527344, 2.978800058364868, 2.978800058364868, 2.9781999588012695, 2.9774999618530273, 2.976900100708008, 2.9767000675201416, 3.4240000247955322, 3.4238998889923096, 3.42330002784729, 3.4231998920440674, 3.4231998920440674, 3.4230000972747803, 3.4228999614715576, 3.4228999614715576, 3.422800064086914, 3.422499895095825, 3.4223999977111816, 3.4221999645233154, 3.421999931335449, 3.4219000339508057, 3.421799898147583, 3.4214000701904297, 3.4214000701904297, 3.421299934387207, 3.4212000370025635, 3.4212000370025635, 3.421099901199341, 3.420799970626831, 3.420599937438965, 3.4203999042510986, 3.4203999042510986, 3.4200000762939453, 3.419800043106079, 3.419600009918213, 3.419600009918213, 3.419600009918213, 3.34060001373291, 3.10509991645813, 3.316499948501587, 2.722100019454956, 2.7476999759674072, 2.819000005722046, 2.733099937438965, 2.913599967956543, 2.224600076675415, 2.2644999027252197, 1.0533000230789185, 1.8761999607086182, 2.2964000701904297, 0.8910999894142151, 3.91759991645813, 3.91759991645813, 3.91729998588562, 3.917099952697754, 3.9168999195098877, 3.916800022125244, 3.9163999557495117, 3.916300058364868, 3.916300058364868, 3.9158999919891357, 3.915600061416626, 3.9149999618530273, 3.914599895477295, 3.9142000675201416, 3.914099931716919, 3.914099931716919, 3.9140000343322754, 3.9140000343322754, 3.913599967956543, 3.913300037384033, 3.9131999015808105, 3.912400007247925, 3.911900043487549, 3.911600112915039, 3.9102001190185547, 3.9094998836517334, 3.90939998626709, 3.9089999198913574, 3.9077000617980957, 3.907099962234497, 3.786900043487549, 3.7467000484466553, 3.673799991607666, 3.450900077819824, 3.4583001136779785, 3.483599901199341, 3.5267999172210693, 3.2637999057769775, 2.9193999767303467, 1.5407999753952026, 1.287600040435791, 0.5695000290870667, 3.9635000228881836, 3.9630000591278076, 3.962399959564209, 3.9621999263763428, 3.961899995803833, 3.961699962615967, 3.9614999294281006, 3.9614999294281006, 3.961400032043457, 3.9612998962402344, 3.961199998855591, 3.9609999656677246, 3.960900068283081, 3.960900068283081, 3.960900068283081, 3.9607999324798584, 3.9598000049591064, 3.9598000049591064, 3.9598000049591064, 3.9598000049591064, 3.9598000049591064, 3.959700107574463, 3.9595000743865967, 3.958899974822998, 3.9588000774383545, 3.958699941635132, 3.9586000442504883, 3.9586000442504883, 3.9584999084472656, 3.958199977874756, 3.565500020980835, 3.4834001064300537, 3.7932000160217285, 3.023400068283081, 2.6314001083374023, 2.9079999923706055, 3.2671000957489014, 4.196400165557861, 4.196300029754639, 4.195499897003174, 4.194900035858154, 4.194900035858154, 4.194699764251709, 4.1946001052856445, 4.1946001052856445, 4.1940999031066895, 4.19350004196167, 4.193299770355225, 4.1930999755859375, 4.192800045013428, 4.192699909210205, 4.191999912261963, 4.191800117492676, 4.191699981689453, 4.191699981689453, 4.1915998458862305, 4.191299915313721, 4.190999984741211, 4.190700054168701, 4.190100193023682, 4.189899921417236, 4.189599990844727, 4.189499855041504, 4.188899993896484, 4.188000202178955, 4.187099933624268, 4.186100006103516, 4.140200138092041, 3.8777999877929688, 3.9632999897003174, 3.92330002784729, 3.5961999893188477, 2.424499988555908, 2.646199941635132, 2.8101000785827637, 2.9263999462127686, 2.07669997215271, 2.339400053024292, 1.7569999694824219, 1.2247999906539917, 3.30679988861084, 4.345399856567383, 4.344799995422363, 4.344399929046631, 4.343800067901611, 4.343100070953369, 4.343100070953369, 4.342899799346924, 4.34250020980835, 4.3420000076293945, 4.341400146484375, 4.341400146484375, 4.3404998779296875, 4.3403000831604, 4.3379998207092285, 4.337800025939941, 4.336900234222412, 4.335100173950195, 4.334799766540527, 4.334099769592285, 4.333899974822998, 4.330999851226807, 4.33050012588501, 4.329699993133545, 4.329400062561035, 4.327499866485596, 4.327099800109863, 4.3267998695373535, 4.326099872589111, 4.326000213623047, 4.325300216674805, 4.3069000244140625, 4.182600021362305, 3.897200107574463, 4.026500225067139, 4.0055999755859375, 3.6893999576568604, 3.898400068283081, 3.4024999141693115, 3.2014000415802, 3.688800096511841, 2.8375000953674316, 2.0139000415802, 5.040500164031982, 5.039700031280518, 5.039599895477295, 5.039599895477295, 5.039400100708008, 5.039100170135498, 5.0381999015808105, 5.037799835205078, 5.037700176239014, 5.036600112915039, 5.036200046539307, 5.036099910736084, 5.036099910736084, 5.035900115966797, 5.035200119018555, 5.035099983215332, 5.034800052642822, 5.0346999168396, 5.033899784088135, 5.032800197601318, 5.032299995422363, 5.0320000648498535, 5.031700134277344, 5.031599998474121, 5.031499862670898, 5.031400203704834, 5.030900001525879, 5.0289998054504395, 5.026700019836426, 5.026199817657471, 4.940999984741211, 3.6760001182556152, 3.5044000148773193, 5.178400039672852, 5.177999973297119, 5.177000045776367, 5.17609977722168, 5.1757001876831055, 5.1757001876831055, 5.1743998527526855, 5.174099922180176, 5.173900127410889, 5.173699855804443, 5.173699855804443, 5.173500061035156, 5.171800136566162, 5.171800136566162, 5.1717000007629395, 5.170899868011475, 5.170499801635742, 5.170000076293945, 5.1691999435424805, 5.169099807739258, 5.168600082397461, 5.168300151824951, 5.1666998863220215, 5.16480016708374, 5.1620001792907715, 5.156899929046631, 5.152200222015381, 5.151599884033203, 5.150400161743164, 5.148799896240234, 4.327300071716309, 3.2578001022338867, 4.0929999351501465, 5.285600185394287, 5.2855000495910645, 5.284800052642822, 5.283999919891357, 5.281000137329102, 5.280300140380859, 5.280300140380859, 5.279799938201904, 5.279699802398682, 5.278800010681152, 5.277900218963623, 5.277299880981445, 5.277100086212158, 5.276599884033203, 5.276000022888184, 5.275400161743164, 5.275300025939941, 5.275000095367432, 5.27400016784668, 5.273900032043457, 5.273499965667725, 5.27239990234375, 5.271599769592285, 5.271399974822998, 5.269000053405762, 5.2683000564575195, 5.26639986038208, 5.2652997970581055, 5.263700008392334, 5.254199981689453, 5.058700084686279, 5.040999889373779, 4.822000026702881, 4.672999858856201, 3.973299980163574, 5.597899913787842, 5.597400188446045, 5.595600128173828, 5.594699859619141, 5.594200134277344, 5.592100143432617, 5.591700077056885, 5.591400146484375, 5.59060001373291, 5.59060001373291, 5.5903000831604, 5.5883002281188965, 5.587500095367432, 5.583199977874756, 5.582200050354004, 5.581999778747559, 5.577700138092041, 5.576900005340576, 5.576600074768066, 5.563700199127197, 5.562900066375732, 5.561299800872803, 5.5594000816345215, 5.558899879455566, 5.557400226593018, 5.554500102996826, 5.549900054931641, 5.546199798583984, 5.541399955749512, 5.535099983215332, 5.281499862670898, 5.815499782562256, 5.809299945831299, 5.804999828338623, 5.797800064086914, 5.797800064086914, 5.787899971008301, 5.787199974060059, 5.781300067901611, 5.780600070953369, 5.780200004577637, 5.779200077056885, 5.774099826812744, 5.763299942016602, 5.756899833679199, 5.683800220489502, 5.44290018081665, 5.3979997634887695, 2.402100086212158, 2.402100086212158, 2.401900053024292, 2.401900053024292, 2.401900053024292, 2.4017999172210693, 2.4017999172210693, 2.4017999172210693, 2.401700019836426, 2.401700019836426, 2.401700019836426, 2.401700019836426, 2.401700019836426, 2.401700019836426, 5.819300174713135, 5.81850004196167, 5.8130998611450195, 5.812600135803223, 5.811999797821045, 5.8119001388549805, 5.810800075531006, 5.809599876403809, 5.8084001541137695, 5.80620002746582, 5.8059000968933105, 5.803999900817871, 5.80210018157959, 5.802000045776367, 5.801499843597412, 5.799799919128418, 5.798799991607666, 5.798299789428711, 5.7972002029418945, 5.792099952697754, 5.788700103759766, 5.788300037384033, 5.779900074005127, 5.76170015335083, 5.717100143432617, 5.702700138092041, 5.636099815368652, 5.61269998550415, 4.4542999267578125, 2.515700101852417, 5.992700099945068, 5.992499828338623, 5.992300033569336, 5.9918999671936035, 5.990200042724609, 5.98960018157959, 5.98960018157959, 5.987800121307373, 5.986599922180176, 5.984600067138672, 5.981400012969971, 5.978300094604492, 5.976799964904785, 5.967899799346924, 5.964200019836426, 5.964000225067139, 5.945799827575684, 5.943699836730957, 5.942200183868408, 5.935299873352051, 5.912499904632568, 5.912499904632568, 5.9120001792907715, 5.717700004577637, 5.615699768066406, 3.1958000659942627, 2.375699996948242, 2.375699996948242, 2.3756000995635986, 2.3756000995635986, 2.3756000995635986, 2.3756000995635986, 2.3756000995635986, 2.3756000995635986, 7.196199893951416, 7.153800010681152, 7.130099773406982, 7.123199939727783, 7.116300106048584, 7.085299968719482, 7.057700157165527, 7.024700164794922, 6.996600151062012, 5.707600116729736, 2.778700113296509, 2.778599977493286, 2.7785000801086426, 2.77839994430542, 2.77839994430542, 2.77839994430542, 2.77839994430542, 2.77839994430542, 2.7783000469207764, 2.7783000469207764, 2.7783000469207764, 2.7783000469207764, 2.7783000469207764, 2.7783000469207764, 2.7783000469207764, 2.7783000469207764, 2.7783000469207764, 2.7783000469207764, 2.7783000469207764, 2.7783000469207764, 2.7781999111175537, 7.371399879455566, 7.36359977722168, 7.3632001876831055, 7.342100143432617, 7.338900089263916, 7.328100204467773, 7.3231000900268555, 7.299799919128418, 7.232399940490723, 7.1992998123168945, 2.825900077819824, 2.825900077819824, 2.825900077819824, 2.825900077819824, 2.8257999420166016, 2.8257999420166016, 2.8257999420166016, 2.8257999420166016, 2.8257999420166016, 2.8257999420166016, 2.8257999420166016, 2.8257999420166016, 2.8257999420166016, 2.8257999420166016, 2.8257999420166016, 2.8257999420166016, 2.8257999420166016, 2.8257999420166016, 2.8257999420166016, 2.8257999420166016, 2.8257999420166016, 2.8257999420166016, 2.8257999420166016, 2.8257999420166016, 2.8257999420166016, 2.8257999420166016, 2.8257999420166016], \"logprob\": [30.0, 29.0, 28.0, 27.0, 26.0, 25.0, 24.0, 23.0, 22.0, 21.0, 20.0, 19.0, 18.0, 17.0, 16.0, 15.0, 14.0, 13.0, 12.0, 11.0, 10.0, 9.0, 8.0, 7.0, 6.0, 5.0, 4.0, 3.0, 2.0, 1.0, -3.5996999740600586, -4.3454999923706055, -4.613500118255615, -4.931700229644775, -5.312300205230713, -5.333799839019775, -5.3821001052856445, -5.545400142669678, -5.547999858856201, -6.0345001220703125, -6.042200088500977, -6.05620002746582, -6.065299987792969, -6.156000137329102, -6.177299976348877, -6.215000152587891, -6.248600006103516, -6.358500003814697, -6.485000133514404, -6.521900177001953, -6.580999851226807, -6.600500106811523, -6.601500034332275, -6.6255998611450195, -6.6350998878479, -6.654200077056885, -6.720699787139893, -6.745699882507324, -6.821000099182129, -6.874100208282471, -3.3361001014709473, -2.8922998905181885, -3.7207999229431152, -3.480600118637085, -5.372399806976318, -5.5559000968933105, -3.7676000595092773, -4.744200229644775, -4.458899974822998, -4.931700229644775, -4.109099864959717, -4.129799842834473, -3.411900043487549, -3.9202001094818115, -5.366300106048584, -5.312699794769287, -4.6483001708984375, -4.6296000480651855, -5.596399784088135, -4.597300052642822, -4.837800025939941, -4.909999847412109, -4.501500129699707, -4.276500225067139, -4.798399925231934, -3.7878000736236572, -4.989500045776367, -3.891900062561035, -4.334000110626221, -4.506199836730957, -5.00439977645874, -4.898399829864502, -4.951499938964844, -5.3618998527526855, -5.4380998611450195, -5.63730001449585, -5.788599967956543, -5.883200168609619, -5.892000198364258, -5.908999919891357, -5.9105000495910645, -5.972899913787842, -5.984899997711182, -6.019800186157227, -6.044899940490723, -6.07420015335083, -6.076099872589111, -6.101099967956543, -6.110799789428711, -6.11329984664917, -6.164400100708008, -6.1697001457214355, -6.178500175476074, -6.200500011444092, -6.249300003051758, -6.271200180053711, -6.282800197601318, -6.331500053405762, -6.335100173950195, -6.373199939727783, -6.396399974822998, -5.938700199127197, -5.7729997634887695, -5.426499843597412, -6.085899829864502, -4.075300216674805, -4.803800106048584, -5.132400035858154, -5.2230000495910645, -5.222400188446045, -5.609099864959717, -5.132299900054932, -4.898399829864502, -5.774700164794922, -5.790599822998047, -4.940800189971924, -5.334499835968018, -5.066299915313721, -4.713099956512451, -5.183599948883057, -5.312399864196777, -4.682799816131592, -5.103700160980225, -5.475200176239014, -4.696199893951416, -5.059599876403809, -5.543900012969971, -5.5005998611450195, -5.569900035858154, -5.523900032043457, -5.10830020904541, -4.828400135040283, -5.3109002113342285, -5.4629998207092285, -4.915800094604492, -4.93209981918335, -5.1570000648498535, -5.164700031280518, -5.227099895477295, -5.270500183105469, -5.297399997711182, -5.311600208282471, -5.364999771118164, -5.458399772644043, -5.485400199890137, -5.504499912261963, -5.567999839782715, -5.581999778747559, -5.723700046539307, -5.782199859619141, -5.81850004196167, -5.82889986038208, -5.841000080108643, -5.877299785614014, -5.877399921417236, -5.951300144195557, -5.952000141143799, -6.04010009765625, -6.043099880218506, -6.045599937438965, -6.045899868011475, -6.053199768066406, -6.081299781799316, -6.093400001525879, -5.394599914550781, -4.625999927520752, -3.731800079345703, -5.1402997970581055, -4.186800003051758, -5.102099895477295, -4.642099857330322, -4.7967000007629395, -5.317599773406982, -5.3572998046875, -4.9197998046875, -4.2484002113342285, -5.1143999099731445, -5.241799831390381, -3.902400016784668, -4.828499794006348, -4.7667999267578125, -4.957200050354004, -4.426499843597412, -4.938499927520752, -5.176000118255615, -4.3018999099731445, -5.238800048828125, -4.758999824523926, -5.079500198364258, -5.160299777984619, -5.08489990234375, -5.197500228881836, -5.117499828338623, -5.225599765777588, -5.218400001525879, -5.217199802398682, -3.86929988861084, -3.999799966812134, -4.115200042724609, -4.513000011444092, -4.515900135040283, -4.686600208282471, -4.752299785614014, -4.847799777984619, -4.893099784851074, -4.919300079345703, -4.9766998291015625, -5.031700134277344, -5.0817999839782715, -5.098199844360352, -5.15369987487793, -5.1828999519348145, -5.220799922943115, -5.250400066375732, -5.252699851989746, -5.334400177001953, -5.336999893188477, -5.397200107574463, -5.399799823760986, -5.422500133514404, -5.465799808502197, -5.481100082397461, -5.551300048828125, -5.558199882507324, -5.618500232696533, -5.647799968719482, -4.269199848175049, -4.914899826049805, -3.615799903869629, -4.689300060272217, -3.5381999015808105, -4.901500225067139, -4.146299839019775, -4.54010009765625, -4.6875, -4.664999961853027, -5.180799961090088, -4.341800212860107, -4.7332000732421875, -5.095900058746338, -4.474699974060059, -4.488100051879883, -4.398900032043457, -4.828800201416016, -4.932300090789795, -4.901299953460693, -3.934799909591675, -4.359499931335449, -4.371300220489502, -4.475599765777588, -4.427499771118164, -4.736199855804443, -4.985899925231934, -5.046999931335449, -5.106400012969971, -5.124100208282471, -5.220900058746338, -5.304699897766113, -5.339799880981445, -5.359499931335449, -5.367599964141846, -5.412700176239014, -4.682199954986572, -5.4257001876831055, -5.428699970245361, -5.5030999183654785, -5.527500152587891, -5.557600021362305, -5.557700157165527, -5.636000156402588, -5.640100002288818, -5.706200122833252, -5.758800029754639, -5.764999866485596, -5.801599979400635, -5.865099906921387, -4.2221999168396, -4.772200107574463, -4.878399848937988, -3.688499927520752, -4.50540018081665, -5.305500030517578, -3.125699996948242, -3.398200035095215, -4.99459981918335, -3.43149995803833, -4.093100070953369, -4.740600109100342, -4.805099964141846, -2.8682000637054443, -2.786400079727173, -3.867799997329712, -4.8734002113342285, -4.672599792480469, -4.0457000732421875, -4.081399917602539, -4.577000141143799, -4.677700042724609, -4.651700019836426, -4.903800010681152, -4.802800178527832, -4.877900123596191, -0.22550000250339508, -2.849600076675415, -4.904200077056885, -5.443999767303467, -5.4604997634887695, -5.509099960327148, -5.631700038909912, -5.710299968719482, -5.735199928283691, -5.73859977722168, -5.773600101470947, -5.921299934387207, -5.968900203704834, -5.9934000968933105, -6.021900177001953, -6.109000205993652, -6.1774001121521, -6.224999904632568, -6.28849983215332, -6.2932000160217285, -6.35129976272583, -6.370200157165527, -6.375400066375732, -6.453000068664551, -6.473700046539307, -6.4832000732421875, -6.551499843597412, -6.626500129699707, -6.678400039672852, -6.697000026702881, -3.098299980163574, -3.1640000343322754, -3.9576001167297363, -4.064599990844727, -4.090099811553955, -4.231100082397461, -4.300000190734863, -4.3343000411987305, -4.348800182342529, -4.554599761962891, -4.596499919891357, -4.688399791717529, -4.754799842834473, -4.824699878692627, -4.857100009918213, -4.9822998046875, -4.99970006942749, -5.02869987487793, -5.058700084686279, -5.059599876403809, -5.087699890136719, -5.175899982452393, -5.238699913024902, -5.278299808502197, -5.294400215148926, -5.3846001625061035, -5.43310022354126, -5.458499908447266, -5.460999965667725, -5.472799777984619, -5.017300128936768, -3.9447999000549316, -4.988900184631348, -3.702399969100952, -3.8196001052856445, -4.096399784088135, -4.268499851226807, -4.646399974822998, -3.953200101852417, -4.543000221252441, -3.9923999309539795, -4.700300216674805, -4.930799961090088, -4.862599849700928, -2.5239999294281006, -2.5745999813079834, -3.1333000659942627, -3.3336000442504883, -3.5211000442504883, -3.6505000591278076, -3.9026999473571777, -3.934799909591675, -3.964200019836426, -4.138999938964844, -4.304100036621094, -4.512499809265137, -4.643899917602539, -4.736400127410889, -4.765999794006348, -4.785699844360352, -4.795100212097168, -4.804699897766113, -4.902500152587891, -4.965400218963623, -4.975200176239014, -5.13640022277832, -5.2204999923706055, -5.2617998123168945, -5.464099884033203, -5.553899765014648, -5.561399936676025, -5.60290002822876, -5.739299774169922, -5.798099994659424, -3.0959999561309814, -3.10479998588562, -4.3383002281188965, -4.331699848175049, -4.352799892425537, -4.63100004196167, -4.732600212097168, -4.554200172424316, -4.617199897766113, -4.13730001449585, -4.7357001304626465, -4.741700172424316, -2.3631999492645264, -3.1275999546051025, -3.68969988822937, -3.8680999279022217, -4.024600028991699, -4.137499809265137, -4.197999954223633, -4.216899871826172, -4.239699840545654, -4.291500091552734, -4.349299907684326, -4.402699947357178, -4.4319000244140625, -4.436100006103516, -4.4567999839782715, -4.488900184631348, -4.7540998458862305, -4.760799884796143, -4.761000156402588, -4.763999938964844, -4.764400005340576, -4.778900146484375, -4.840099811553955, -4.972400188446045, -4.9791998863220215, -4.998700141906738, -5.012899875640869, -5.031499862670898, -5.035099983215332, -5.094399929046631, -3.9688000679016113, -4.113500118255615, -4.8379998207092285, -4.10129976272583, -4.251500129699707, -4.737400054931641, -4.823699951171875, -2.4804000854492188, -2.7227001190185547, -3.4930999279022217, -3.834700107574463, -3.845599889755249, -3.930500030517578, -3.9870998859405518, -4.010200023651123, -4.19789981842041, -4.365099906921387, -4.429599761962891, -4.495800018310547, -4.556000232696533, -4.571800231933594, -4.732100009918213, -4.7708001136779785, -4.787700176239014, -4.801700115203857, -4.820000171661377, -4.861000061035156, -4.915800094604492, -4.974899768829346, -5.064000129699707, -5.088399887084961, -5.129700183868408, -5.1417999267578125, -5.22160005569458, -5.3308000564575195, -5.427800178527832, -5.524700164794922, -4.072999954223633, -4.037199974060059, -4.480800151824951, -4.4141998291015625, -4.521900177001953, -4.043399810791016, -4.238800048828125, -4.353700160980225, -4.472799777984619, -4.4116997718811035, -4.480000019073486, -4.5117998123168945, -4.475800037384033, -4.7870001792907715, -2.0476999282836914, -2.958899974822998, -3.32669997215271, -3.669800043106079, -3.97379994392395, -3.9967000484466553, -4.060999870300293, -4.185999870300293, -4.32480001449585, -4.493599891662598, -4.4944000244140625, -4.667799949645996, -4.715400218963623, -5.061699867248535, -5.098400115966797, -5.203000068664551, -5.384099960327148, -5.418900012969971, -5.475399971008301, -5.4953999519348145, -5.713200092315674, -5.747399806976318, -5.800600051879883, -5.822000026702881, -5.9309000968933105, -5.950699806213379, -5.967199802398682, -6.005300045013428, -6.01039981842041, -6.045199871063232, -4.693900108337402, -4.028900146484375, -3.8048999309539795, -4.508399963378906, -4.506499767303467, -3.7774999141693115, -4.925899982452393, -4.0868000984191895, -4.857600212097168, -5.338099956512451, -5.389599800109863, -5.447800159454346, -2.8945000171661377, -3.2232000827789307, -3.2774999141693115, -3.2906999588012695, -3.356300115585327, -3.4440999031066895, -3.6812000274658203, -3.792099952697754, -3.8138999938964844, -4.0177001953125, -4.093699932098389, -4.103600025177002, -4.106299877166748, -4.141200065612793, -4.234300136566162, -4.2494001388549805, -4.288300037384033, -4.30649995803833, -4.4019999504089355, -4.533699989318848, -4.582900047302246, -4.607100009918213, -4.63700008392334, -4.651000022888184, -4.6570000648498535, -4.669400215148926, -4.71120023727417, -4.867800235748291, -5.027599811553955, -5.056700229644775, -3.8578999042510986, -4.009399890899658, -4.507599830627441, -2.718100070953369, -2.9261999130249023, -3.295799970626831, -3.542799949645996, -3.6328999996185303, -3.633699893951416, -3.8968000411987305, -3.94320011138916, -3.976300001144409, -3.996500015258789, -4.003799915313721, -4.0346999168396, -4.263500213623047, -4.265399932861328, -4.270899772644043, -4.36460018157959, -4.4054999351501465, -4.453400135040283, -4.531700134277344, -4.5381999015808105, -4.588500022888184, -4.612199783325195, -4.738399982452393, -4.86870002746582, -5.038099765777588, -5.289100170135498, -5.475399971008301, -5.495800018310547, -5.537199974060059, -5.590400218963623, -3.549299955368042, -4.308599948883057, -4.9899001121521, -3.095900058746338, -3.1287999153137207, -3.335400104522705, -3.514699935913086, -4.031799793243408, -4.122399806976318, -4.129700183868408, -4.188499927520752, -4.191999912261963, -4.294400215148926, -4.3846001625061035, -4.440899848937988, -4.4552001953125, -4.502099990844727, -4.548600196838379, -4.595799922943115, -4.605999946594238, -4.629300117492676, -4.697700023651123, -4.70959997177124, -4.736800193786621, -4.807700157165527, -4.851900100708008, -4.864999771118164, -5.000800132751465, -5.034299850463867, -5.126699924468994, -5.173799991607666, -5.242599964141846, -5.571400165557861, -3.0051000118255615, -4.132999897003174, -3.4988999366760254, -3.7040998935699463, -4.93179988861084, -2.6840999126434326, -2.8798999786376953, -3.316200017929077, -3.4809000492095947, -3.5625998973846436, -3.846299886703491, -3.8873000144958496, -3.930299997329712, -4.006899833679199, -4.0096001625061035, -4.041999816894531, -4.221499919891357, -4.28249979019165, -4.56879997253418, -4.621799945831299, -4.633999824523926, -4.844399929046631, -4.879799842834473, -4.889999866485596, -5.327300071716309, -5.348800182342529, -5.393400192260742, -5.441400051116943, -5.453000068664551, -5.48859977722168, -5.5559000968933105, -5.65339994430542, -5.724400043487549, -5.812399864196777, -5.915800094604492, -3.623500108718872, -1.1765999794006348, -3.424799919128418, -3.914099931716919, -4.405399799346924, -4.409900188446045, -4.841300010681152, -4.868000030517578, -5.0528998374938965, -5.0742998123168945, -5.0868000984191895, -5.112599849700928, -5.244900226593018, -5.47790002822876, -5.59499979019165, -6.435400009155273, -7.59689998626709, -7.734099864959717, -11.770099639892578, -11.770099639892578, -11.770299911499023, -11.770400047302246, -11.770400047302246, -11.770299911499023, -11.770400047302246, -11.770400047302246, -11.770500183105469, -11.770500183105469, -11.770500183105469, -11.770600318908691, -11.770500183105469, -11.770500183105469, -3.0613999366760254, -3.2051000595092773, -3.8887999057769775, -3.9307000637054443, -3.9818999767303467, -3.9853999614715576, -4.076000213623047, -4.1596999168396, -4.240600109100342, -4.372300148010254, -4.39139986038208, -4.491799831390381, -4.582900047302246, -4.587600231170654, -4.610099792480469, -4.6809000968933105, -4.720099925994873, -4.741099834442139, -4.782400131225586, -4.961299896240234, -5.0630998611450195, -5.074399948120117, -5.289000034332275, -5.6427001953125, -6.203700065612793, -6.336999893188477, -6.808300018310547, -3.252700090408325, -4.866300106048584, -5.461400032043457, -2.997299909591675, -3.0352001190185547, -3.064500093460083, -3.131700038909912, -3.373699903488159, -3.444499969482422, -3.4528000354766846, -3.641700029373169, -3.7446000576019287, -3.907399892807007, -4.120100021362305, -4.293799877166748, -4.368100166320801, -4.720300197601318, -4.83650016784668, -4.8429999351501465, -5.279099941253662, -5.31820011138916, -5.3470001220703125, -5.465700149536133, -5.786900043487549, -5.786900043487549, -5.793499946594238, -7.073599815368652, -7.437600135803223, -5.91540002822876, -11.796600341796875, -11.796500205993652, -11.796600341796875, -11.796600341796875, -11.796600341796875, -11.796600341796875, -11.796500205993652, -11.796600341796875, -2.186300039291382, -4.021399974822998, -4.418600082397461, -4.5106000900268555, -4.595399856567383, -4.912399768829346, -5.135000228881836, -5.354800224304199, -5.514800071716309, -8.223299980163574, -11.393500328063965, -11.393699645996094, -11.393699645996094, -11.393799781799316, -11.393799781799316, -11.393899917602539, -11.393899917602539, -11.393799781799316, -11.393899917602539, -11.393899917602539, -11.393899917602539, -11.393899917602539, -11.393899917602539, -11.393899917602539, -11.393899917602539, -11.394000053405762, -11.394000053405762, -11.394000053405762, -11.393899917602539, -11.394000053405762, -11.393899917602539, -3.631500005722046, -3.8046998977661133, -3.813499927520752, -4.17080020904541, -4.217100143432617, -4.356800079345703, -4.415500164031982, -4.656099796295166, -5.154600143432617, -5.338799953460693, -11.346400260925293, -11.346400260925293, -11.346400260925293, -11.346400260925293, -11.346400260925293, -11.346400260925293, -11.346400260925293, -11.346400260925293, -11.346400260925293, -11.346400260925293, -11.346400260925293, -11.346400260925293, -11.346400260925293, -11.346400260925293, -11.346400260925293, -11.346400260925293, -11.346400260925293, -11.346400260925293, -11.346400260925293, -11.346400260925293, -11.346400260925293, -11.346400260925293, -11.346400260925293, -11.346400260925293, -11.346400260925293, -11.346400260925293, -11.346400260925293]}, \"token.table\": {\"Topic\": [11, 13, 13, 5, 10, 12, 1, 13, 2, 2, 4, 5, 18, 5, 2, 3, 5, 17, 10, 1, 2, 3, 4, 5, 7, 11, 2, 11, 2, 8, 4, 7, 6, 12, 1, 1, 4, 1, 4, 4, 13, 5, 2, 19, 2, 10, 1, 2, 18, 7, 15, 4, 5, 2, 3, 6, 19, 1, 3, 1, 3, 14, 2, 11, 9, 15, 1, 11, 14, 7, 1, 2, 7, 16, 7, 1, 1, 4, 10, 15, 3, 10, 3, 9, 4, 12, 3, 4, 5, 1, 14, 8, 10, 17, 3, 14, 20, 17, 1, 4, 17, 5, 19, 15, 9, 1, 2, 4, 7, 3, 8, 8, 13, 12, 1, 4, 8, 10, 2, 3, 11, 1, 2, 4, 18, 14, 2, 3, 5, 7, 12, 19, 15, 1, 2, 3, 7, 10, 7, 7, 7, 16, 7, 19, 3, 2, 7, 5, 16, 11, 2, 11, 20, 10, 12, 2, 3, 4, 4, 10, 4, 17, 1, 2, 3, 7, 15, 5, 9, 9, 10, 12, 17, 10, 18, 10, 4, 5, 12, 14, 14, 4, 1, 2, 2, 11, 11, 8, 16, 4, 5, 6, 1, 3, 4, 1, 2, 3, 6, 14, 2, 11, 3, 10, 3, 18, 2, 11, 2, 11, 10, 8, 3, 10, 18, 4, 9, 10, 12, 11, 2, 3, 7, 15, 2, 10, 20, 14, 15, 2, 3, 5, 12, 8, 17, 17, 12, 3, 7, 5, 15, 11, 2, 5, 4, 9, 12, 1, 3, 4, 5, 3, 8, 18, 1, 2, 4, 15, 3, 1, 16, 6, 18, 1, 8, 11, 8, 16, 4, 13, 7, 9, 14, 3, 14, 13, 3, 12, 9, 17, 11, 4, 12, 10, 2, 3, 4, 6, 1, 5, 11, 14, 10, 7, 10, 18, 12, 1, 2, 3, 7, 2, 8, 2, 4, 7, 10, 11, 4, 2, 3, 2, 13, 7, 6, 8, 4, 10, 7, 4, 5, 3, 11, 4, 2, 3, 5, 8, 6, 1, 2, 3, 4, 8, 6, 9, 13, 4, 2, 14, 11, 4, 8, 18, 9, 7, 3, 20, 20, 1, 3, 4, 1, 2, 3, 18, 1, 3, 8, 7, 1, 2, 3, 8, 12, 9, 2, 10, 4, 1, 2, 3, 7, 17, 2, 5, 1, 9, 11, 11, 18, 4, 8, 1, 16, 8, 4, 13, 1, 1, 1, 2, 3, 4, 9, 3, 4, 9, 13, 2, 8, 13, 3, 7, 15, 1, 4, 5, 18, 16, 5, 2, 3, 1, 2, 4, 11, 2, 7, 2, 11, 12, 1, 5, 17, 9, 13, 2, 4, 5, 2, 3, 10, 14, 4, 5, 2, 4, 5, 10, 20, 9, 16, 8, 12, 5, 11, 12, 15, 1, 5, 4, 5, 13, 20, 11, 2, 2, 2, 2, 14, 6, 6, 13, 3, 2, 15, 12, 10, 1, 4, 5, 3, 7, 9, 1, 2, 7, 14, 18, 12, 3, 8, 2, 15, 2, 3, 13, 11, 5, 1, 2, 3, 7, 3, 1, 4, 5, 5, 17, 15, 15, 17, 1, 3, 4, 17, 7, 1, 3, 1, 7, 3, 4, 9, 17, 9, 4, 4, 12, 16, 5, 1, 2, 3, 4, 2, 3, 7, 1, 2, 3, 4, 9, 10, 1, 7, 18, 7, 3, 7, 10, 9, 13, 6, 1, 2, 3, 4, 5, 3, 1, 2, 7, 3, 2, 9, 16, 2, 4, 5, 10, 16, 17, 5, 3, 2, 11, 1, 6, 3, 9, 5, 4, 1, 9, 3, 4, 3, 6, 5, 7, 18, 14, 3, 4, 3, 11, 14, 14, 14, 1, 2, 3, 6, 9, 2, 3, 4, 7, 14, 16, 1, 2, 4, 10, 8, 17, 5, 2, 3, 4, 5, 2, 14, 2, 3, 5, 5, 8, 1, 1, 5, 1, 18, 7, 1, 2, 10, 1, 2, 3, 4, 5, 16, 1, 1, 3, 4, 5, 6, 15, 9, 18, 11, 1, 5, 9, 14, 5, 7, 17, 8, 6, 2, 3, 4, 5, 6, 13, 11, 1, 3, 4, 6, 1, 2, 3, 7, 13, 2, 3, 8, 2, 7, 15, 4, 10, 18, 15, 4, 10, 18, 8, 8, 12, 2, 9, 8, 2, 8, 8, 8, 1, 2, 8, 9, 1, 2, 11, 1, 17, 1, 2, 5, 6, 2, 3, 13, 18, 6, 2, 13, 2, 2, 9, 17, 12, 1, 5, 18, 9, 6, 1, 2, 3, 4, 1, 2, 3, 4, 9, 9, 12, 4, 9, 3, 9, 11, 2, 6, 5, 2, 10, 3, 5, 20, 3, 20, 1, 2, 4, 17, 11, 3, 4, 19, 4, 13, 15, 13, 1, 18, 1, 2, 7, 2, 13, 10, 13, 7, 2, 7, 1, 5, 6, 1, 2, 3, 9, 6, 16, 3, 14, 3, 14, 14, 6, 1, 2, 3, 2, 3, 8, 2, 1, 3, 4, 8, 3, 1, 14, 1, 3, 11, 15, 5, 9, 7, 9, 1, 2, 3, 7, 10, 17, 8, 19, 10, 4, 7, 15, 18, 8, 1, 2, 3, 4, 8, 11, 2, 10, 10, 2, 10, 15, 1, 2, 3, 7, 13, 1, 5, 2, 5, 10, 2, 4, 2, 3, 5, 2, 3, 4, 7, 7, 12, 14, 6, 15, 1, 15, 2, 3, 4, 7, 13, 5, 2, 13, 10, 8, 2, 12, 4, 1, 1, 2, 6, 3, 7, 3, 4, 12, 1, 7, 18, 9, 9, 14, 1, 4, 3, 7, 1, 8, 19, 16, 1, 4, 8, 3, 8, 1, 3, 4, 1, 2, 5, 13, 17, 6, 1, 2, 3, 13, 3, 7, 8, 3, 5, 6, 14, 2, 4, 12, 17, 17, 17, 2, 4, 10, 1, 2, 3, 9, 14, 15, 2, 8, 5, 10, 13, 15, 1, 2, 3, 7, 11, 15, 1, 4, 5, 1, 1, 13, 1, 2, 7, 1, 2, 7, 7, 2, 10, 13, 15, 1, 2, 3, 4, 5, 10, 12, 14, 17, 20, 12, 3, 11, 19, 15, 17, 7, 1, 2, 4, 1, 3, 17, 11, 12, 1, 5, 6, 6, 5, 1, 2, 4, 10, 6, 4, 5, 10, 10, 4, 14, 15, 9, 2, 14, 1, 2, 4, 2, 14, 10, 3, 1, 2, 3, 11, 3, 1, 12, 16, 1, 4, 1, 8, 4, 17, 18, 3, 7, 1, 1, 2, 4, 7, 1, 2, 3, 4, 1, 2, 7, 1, 1, 2, 11, 1, 2, 4, 11, 3, 8, 6, 2, 4, 3], \"Freq\": [0.9986385703086853, 0.9812290072441101, 0.9921156167984009, 0.7186198830604553, 0.28075841069221497, 0.9945489764213562, 0.6550227999687195, 0.33842846751213074, 0.9994181990623474, 0.1311485469341278, 0.8683623671531677, 0.9991927146911621, 0.9297418594360352, 0.998523473739624, 0.9837883114814758, 0.015574485063552856, 0.9984228014945984, 0.9573488831520081, 0.9971498250961304, 0.15181966125965118, 0.32183441519737244, 0.18224182724952698, 0.3154297471046448, 0.028238749131560326, 0.00043668170110322535, 0.9933655261993408, 0.3582170009613037, 0.6405763030052185, 0.8795265555381775, 0.12011444568634033, 0.9991154074668884, 0.9970025420188904, 0.9957485795021057, 0.9920055866241455, 0.9986007213592529, 0.9564613699913025, 0.0432557687163353, 0.9986928701400757, 0.9992789626121521, 0.8530177474021912, 0.14616315066814423, 0.9987797141075134, 0.9990703463554382, 0.856532871723175, 0.23572535812854767, 0.7615742087364197, 0.9713432192802429, 0.028598958626389503, 0.9927259683609009, 0.9980818033218384, 0.9246053099632263, 0.7855369448661804, 0.2138197273015976, 0.07085317373275757, 0.928395688533783, 0.9999825954437256, 0.841422438621521, 0.4120441973209381, 0.587343692779541, 0.9362083673477173, 0.06307579576969147, 0.989276647567749, 0.27137014269828796, 0.7257573008537292, 0.9971649646759033, 0.9979259371757507, 0.9998751282691956, 0.9901423454284668, 0.9746109843254089, 0.9992322325706482, 0.3941348195075989, 0.3044908046722412, 0.3012038767337799, 0.5708743929862976, 0.9990054965019226, 0.9988528490066528, 0.16653753817081451, 0.6633545756340027, 0.16973251104354858, 0.9324368238449097, 0.4492926597595215, 0.5491355061531067, 0.9987251162528992, 0.9983053207397461, 0.9994593858718872, 0.9922549724578857, 0.9984274506568909, 0.20924560725688934, 0.7902278900146484, 0.9982352256774902, 0.9950894713401794, 0.9953843355178833, 0.99567049741745, 0.9879713654518127, 0.9968989491462708, 0.996087908744812, 0.8915809988975525, 0.9929208755493164, 0.97806316614151, 0.02109663002192974, 0.9718770384788513, 0.9993605613708496, 0.8996608257293701, 0.9516730904579163, 0.9943360686302185, 0.8131626844406128, 0.14842568337917328, 0.021282639354467392, 0.016860272735357285, 0.6302900910377502, 0.3686383068561554, 0.9969636797904968, 0.9934561252593994, 0.9925171732902527, 0.9995718598365784, 0.9998016953468323, 0.9921896457672119, 0.9965535402297974, 0.2697176933288574, 0.6322182416915894, 0.09709836542606354, 0.08562780916690826, 0.8157393336296082, 0.09803763777017593, 0.9418642520904541, 0.9891498684883118, 0.1707485467195511, 0.24027156829833984, 0.588442862033844, 0.9970082640647888, 0.9900683164596558, 0.9095667600631714, 0.9800763130187988, 0.9984631538391113, 0.2749246656894684, 0.17870104312896729, 0.546100378036499, 0.9995602369308472, 0.9967155456542969, 0.9994126558303833, 0.9968786835670471, 0.972985029220581, 0.9988115429878235, 0.9943424463272095, 0.9991315007209778, 0.883293867111206, 0.11606957018375397, 0.9989955425262451, 0.9094541668891907, 0.9736864566802979, 0.9993691444396973, 0.9903035163879395, 0.9324414134025574, 0.9976450800895691, 0.9966076016426086, 0.03608512505888939, 0.9246813058853149, 0.038791511207818985, 0.9600217342376709, 0.03860876336693764, 0.9991834163665771, 0.972911536693573, 0.5621638894081116, 0.008016945794224739, 0.35020366311073303, 0.07938731461763382, 0.989176332950592, 0.4999695420265198, 0.4979453682899475, 0.05261457338929176, 0.9447747468948364, 0.9937437772750854, 0.7869508266448975, 0.9975088238716125, 0.9931287169456482, 0.9966615438461304, 0.4554724097251892, 0.5437052845954895, 0.9976591467857361, 0.974376380443573, 0.9892369508743286, 0.9984036087989807, 0.3153027892112732, 0.684138298034668, 0.14843153953552246, 0.8494850993156433, 0.9750342965126038, 0.9988670945167542, 0.9750963449478149, 0.9992989897727966, 0.9989371299743652, 0.9948330521583557, 0.0039027309976518154, 0.8163211941719055, 0.1788751631975174, 0.8027235269546509, 0.16574379801750183, 0.03134198486804962, 0.9955883026123047, 0.9851004481315613, 0.9988660216331482, 0.9849539399147034, 0.9989897012710571, 0.9936649203300476, 0.9993890523910522, 0.9904903173446655, 0.3595115542411804, 0.638064444065094, 0.4804546535015106, 0.518413782119751, 0.9875981211662292, 0.997264564037323, 0.9981787204742432, 0.9962307810783386, 0.9899988174438477, 0.6411497592926025, 0.2637181878089905, 0.09435788542032242, 0.9919484257698059, 0.9947202205657959, 0.1135137528181076, 0.8640111684799194, 0.02232164889574051, 0.9703440070152283, 0.9988548159599304, 0.996590793132782, 0.8690114617347717, 0.2695794701576233, 0.726493775844574, 0.011424345895648003, 0.0028560864739120007, 0.9853498339653015, 0.9960023164749146, 0.986558735370636, 0.9322736263275146, 0.9708743095397949, 0.9854165315628052, 0.27231669425964355, 0.7268925905227661, 0.9979069828987122, 0.9660032391548157, 0.9987169504165649, 0.9896962642669678, 0.009249497205018997, 0.9986539483070374, 0.9985247850418091, 0.9979187250137329, 0.13734829425811768, 0.0035217509139329195, 0.004226101096719503, 0.8550811409950256, 0.36724165081977844, 0.6319617033004761, 0.9425384402275085, 0.9964107275009155, 0.00019452281412668526, 0.003306887811049819, 0.9916913509368896, 0.9979122877120972, 0.9981935620307922, 0.9899896383285522, 0.9971439242362976, 0.896644115447998, 0.9974132776260376, 0.9951447248458862, 0.9914138913154602, 0.9961537718772888, 0.9991592168807983, 0.999507486820221, 0.9982893466949463, 0.3271618187427521, 0.671725869178772, 0.9905103445053101, 0.36941778659820557, 0.6267364025115967, 0.9926960468292236, 0.9975917339324951, 0.9954544305801392, 0.9949566125869751, 0.9637743234634399, 0.9969573616981506, 0.9996570944786072, 0.995020866394043, 0.9991366863250732, 0.17121265828609467, 0.7064107656478882, 0.11879199743270874, 0.003381978487595916, 0.9987500905990601, 0.997549831867218, 0.9851634502410889, 0.9921391606330872, 0.9922459721565247, 0.9963353872299194, 0.9943143725395203, 0.9807504415512085, 0.9893996119499207, 0.6158064603805542, 0.3293651044368744, 0.03803635388612747, 0.016574501991271973, 0.9991772174835205, 0.9955431222915649, 0.5350956916809082, 0.15088127553462982, 0.31354138255119324, 0.9953286051750183, 0.9968186020851135, 0.9988126754760742, 0.04966966435313225, 0.9491562843322754, 0.9997248649597168, 0.994784414768219, 0.9988729953765869, 0.9906831979751587, 0.9985806941986084, 0.9985103011131287, 0.9932210445404053, 0.9971446394920349, 0.07827001065015793, 0.9206510186195374, 0.035197749733924866, 0.9603957533836365, 0.9997496604919434, 0.22158873081207275, 0.10558926314115524, 0.04610235244035721, 0.626099705696106, 0.9888661503791809, 0.02915455773472786, 0.23301219940185547, 0.6694334745407104, 0.02758469618856907, 0.04081638157367706, 0.9855751395225525, 0.997246503829956, 0.9924100637435913, 0.9977704286575317, 0.2029162347316742, 0.7939343452453613, 0.9927980899810791, 0.9991721510887146, 0.9994505047798157, 0.9794566035270691, 0.9955005645751953, 0.9964127540588379, 0.9990167021751404, 0.9664380550384521, 0.9300830364227295, 0.8480539917945862, 0.056708477437496185, 0.09510793536901474, 0.490779310464859, 0.44565680623054504, 0.06336352974176407, 0.9020334482192993, 0.6795473694801331, 0.3203532099723816, 0.9979455471038818, 0.9993099570274353, 0.8911808729171753, 0.004522485658526421, 0.06896790117025375, 0.035174887627363205, 0.9974513649940491, 0.9984316825866699, 0.8796670436859131, 0.11984342336654663, 0.9993014931678772, 0.4413027763366699, 0.06292259693145752, 0.487755686044693, 0.008023686707019806, 0.9801508784294128, 0.6314552426338196, 0.3679400682449341, 0.9983271956443787, 0.9942449331283569, 0.9994959235191345, 0.9973633885383606, 0.9949647784233093, 0.9992421269416809, 0.9883562922477722, 0.9997963905334473, 0.9633276462554932, 0.9978798627853394, 0.9980937242507935, 0.9963949918746948, 0.9996747970581055, 0.999439537525177, 0.5445401668548584, 0.006981284357607365, 0.020336784422397614, 0.4279830753803253, 0.9949977993965149, 0.679257869720459, 0.31997716426849365, 0.00046239476068876684, 0.9925721287727356, 0.9982739090919495, 0.9986429214477539, 0.9886415004730225, 0.9991647005081177, 0.9960706233978271, 0.9553464651107788, 0.2637762129306793, 0.0009494044934399426, 0.7351555228233337, 0.9648233652114868, 0.945891797542572, 0.9989191889762878, 0.014531927183270454, 0.9850571155548096, 0.17758962512016296, 0.6995955109596252, 0.12279613316059113, 0.9801815152168274, 0.6758732795715332, 0.32342925667762756, 0.28685876727104187, 0.712520182132721, 0.9977619647979736, 0.9995179176330566, 0.9984628558158875, 0.9687094688415527, 0.9991077184677124, 0.9813331961631775, 0.17567510902881622, 0.47608327865600586, 0.3476044833660126, 0.9984935522079468, 0.5867173075675964, 0.4100930392742157, 0.9861855506896973, 0.34210437536239624, 0.6574353575706482, 0.04124080389738083, 0.11226662993431091, 0.7590271830558777, 0.08706391602754593, 0.9680448174476624, 0.9979060888290405, 0.9874133467674255, 0.9892240166664124, 0.9956175088882446, 0.9978548288345337, 0.9933958053588867, 0.9904574751853943, 0.9535403847694397, 0.017629751935601234, 0.9807709455490112, 0.0007759025320410728, 0.9985865950584412, 0.9720669388771057, 0.906204879283905, 0.9892131090164185, 0.998638391494751, 0.9989084005355835, 0.9989586472511292, 0.99912428855896, 0.9712186455726624, 0.994804859161377, 0.9888612627983093, 0.9975535869598389, 0.9987316727638245, 0.9983402490615845, 0.9833837747573853, 0.9843353033065796, 0.9996822476387024, 0.030554739758372307, 0.011224189773201942, 0.9577975273132324, 0.9992877244949341, 0.9989640712738037, 0.9934743046760559, 0.9326313138008118, 0.06689681112766266, 0.0003737252263817936, 0.9856506586074829, 0.6679210066795349, 0.99150151014328, 0.9446260333061218, 0.05494159087538719, 0.9996528625488281, 0.9973548650741577, 0.09776297956705093, 0.9018242359161377, 0.9886308312416077, 0.9930526614189148, 0.9990578293800354, 0.019120480865240097, 0.26692190766334534, 0.2179734706878662, 0.4956028461456299, 0.9985300898551941, 0.5222551226615906, 0.02039475180208683, 0.45733362436294556, 0.9994463324546814, 0.9837324023246765, 0.9932274222373962, 0.9896358847618103, 0.9796465635299683, 0.8366508483886719, 0.03194990009069443, 0.13117319345474243, 0.9878528714179993, 0.9982791543006897, 0.9171701669692993, 0.08228252828121185, 0.4985350966453552, 0.5005782842636108, 0.7855883836746216, 0.18205249309539795, 0.03187689557671547, 0.9891210794448853, 0.9961839914321899, 0.9993594288825989, 0.9994425773620605, 0.9942952990531921, 0.9662754535675049, 0.999693751335144, 0.5648583173751831, 0.400695264339447, 0.03280892223119736, 0.001539768883958459, 0.06352191418409348, 0.42789068818092346, 0.5081753134727478, 0.2602651119232178, 0.6608407497406006, 0.032472554594278336, 0.04628551006317139, 0.996439516544342, 0.9951704740524292, 0.9979409575462341, 0.9976059794425964, 0.978499174118042, 0.9958820343017578, 0.9975605010986328, 0.9943143725395203, 0.9952996969223022, 0.9986433386802673, 0.996950626373291, 0.999872088432312, 0.3279559016227722, 0.49877262115478516, 0.04528770223259926, 0.11625869572162628, 0.011549883522093296, 0.9990049004554749, 0.3582843244075775, 0.6080155968666077, 0.03351500630378723, 0.9985476136207581, 0.999334990978241, 0.9963869452476501, 0.9501293897628784, 0.09877137094736099, 0.010785379447042942, 0.7334058284759521, 0.156104177236557, 0.9749920964241028, 0.9943689703941345, 0.9979298114776611, 0.9986806511878967, 0.9984416365623474, 0.9970924854278564, 0.9985913038253784, 0.986942708492279, 0.9986634850502014, 0.9948698282241821, 0.9978235363960266, 0.9992225170135498, 0.650894045829773, 0.34748923778533936, 0.9991111159324646, 0.9992381930351257, 0.9984769821166992, 0.9954765439033508, 0.996662437915802, 0.9970276355743408, 0.9944800138473511, 0.9941982626914978, 0.8362572193145752, 0.16271068155765533, 0.7770889401435852, 0.22036850452423096, 0.9837597608566284, 0.9965911507606506, 0.9824294447898865, 0.8332860469818115, 0.06085933744907379, 0.10540837794542313, 0.9935767650604248, 0.9956763982772827, 0.7430422902107239, 0.011362556368112564, 0.18352249264717102, 0.06163325905799866, 0.9825077056884766, 0.6261577010154724, 0.5611847639083862, 0.02095795050263405, 0.4087817966938019, 0.009156386367976665, 0.9902512431144714, 0.9834476113319397, 0.9992511868476868, 0.07317670434713364, 0.27346092462539673, 0.03870328515768051, 0.6143882274627686, 0.9984537959098816, 0.9666895270347595, 0.0666375607252121, 0.1947469860315323, 0.7381789088249207, 0.9989052414894104, 0.9930925965309143, 0.9990536570549011, 0.33625102043151855, 0.6636416912078857, 0.9321185350418091, 0.061766888946294785, 0.9972002506256104, 0.9895359873771667, 0.01041051559150219, 0.9958919882774353, 0.03313620388507843, 0.3196324110031128, 0.2624504864215851, 0.3844386339187622, 0.9984027743339539, 0.9905203580856323, 0.9976229071617126, 0.11658702045679092, 0.6561307311058044, 0.05829351022839546, 0.16874437034130096, 0.9925957918167114, 0.9881624579429626, 0.9967101812362671, 0.9833306074142456, 0.9891219735145569, 0.5275429487228394, 0.47242477536201477, 0.9964767098426819, 0.9795951843261719, 0.9987119436264038, 0.18444284796714783, 0.8080353140830994, 0.9895535707473755, 0.9905951023101807, 0.6297696828842163, 0.13793347775936127, 0.06074134632945061, 0.16492962837219238, 0.006327223964035511, 0.9779220819473267, 0.9896015524864197, 0.22143210470676422, 0.7776484489440918, 0.9983137249946594, 0.9926168322563171, 0.16665324568748474, 0.8053826093673706, 0.0016859860625118017, 0.026197630912065506, 0.9879111051559448, 0.1309574991464615, 0.34819287061691284, 0.5192079544067383, 0.9354570508003235, 0.0639927089214325, 0.9579778909683228, 0.9991574883460999, 0.9911161661148071, 0.9733561277389526, 0.9857712388038635, 0.7497093081474304, 0.2499030977487564, 0.9969022870063782, 0.9948863983154297, 0.7838305234909058, 0.21513248980045319, 0.15289202332496643, 0.8443809747695923, 0.9920002222061157, 0.12217472493648529, 0.8769968152046204, 0.999174177646637, 0.9976794123649597, 0.3363496959209442, 0.6014631986618042, 0.0618424192070961, 0.9955445528030396, 0.10980554670095444, 0.5002252459526062, 0.3893105685710907, 0.740813136100769, 0.25616902112960815, 0.10585805028676987, 0.27066850662231445, 0.6231014728546143, 0.9909704923629761, 0.10805361717939377, 0.8914423584938049, 0.9843416810035706, 0.9949023723602295, 0.9936302304267883, 0.9988207817077637, 0.9870120286941528, 0.9996127486228943, 0.9140937924385071, 0.04877575486898422, 0.03613018989562988, 0.9961846470832825, 0.998725414276123, 0.9993553757667542, 0.9825592637062073, 0.9975040555000305, 0.9951989650726318, 0.9266474843025208, 0.04086800292134285, 0.022041169926524162, 0.01010220218449831, 0.47803473472595215, 0.020614298060536385, 0.0034718818496912718, 0.49778106808662415, 0.9952353835105896, 0.09039807319641113, 0.9039807319641113, 0.9938096404075623, 0.005639779381453991, 0.3804374635219574, 0.6188284754753113, 0.9901750087738037, 0.9983305931091309, 0.9982266426086426, 0.9973514080047607, 0.8802211284637451, 0.11865535378456116, 0.9975537657737732, 0.9968602061271667, 0.9302472472190857, 0.9985218048095703, 0.8642592430114746, 0.3713672161102295, 0.5397948622703552, 0.08871009945869446, 0.9897430539131165, 0.9891624450683594, 0.9978972673416138, 0.9981240034103394, 0.8849760890007019, 0.5717925429344177, 0.42639386653900146, 0.9889167547225952, 0.9965631365776062, 0.9998098015785217, 0.5786301493644714, 0.2748759090900421, 0.6437302231788635, 0.08118325471878052, 0.9981025457382202, 0.9869333505630493, 0.9942727088928223, 0.9933287501335144, 0.9991792440414429, 0.1003427803516388, 0.898067831993103, 0.4103178083896637, 0.5876712799072266, 0.001753494841977954, 0.09088995307683945, 0.18332041800022125, 0.33429017663002014, 0.3905186951160431, 0.9898761510848999, 0.9750100374221802, 0.21523459255695343, 0.783214807510376, 0.45815664529800415, 0.5417028665542603, 0.9845674633979797, 0.9934685230255127, 0.34664207696914673, 0.5876280069351196, 0.06564168632030487, 0.9985219240188599, 0.9988577961921692, 0.9968129992485046, 0.9994680881500244, 0.06477783620357513, 0.14875859022140503, 0.7143484354019165, 0.07194691896438599, 0.997478187084198, 0.9998359680175781, 0.9890304207801819, 0.20587225258350372, 0.4744865298271179, 0.31763148307800293, 0.9823125600814819, 0.9995848536491394, 0.9968159198760986, 0.9972070455551147, 0.9980464577674866, 0.5456981062889099, 0.3215428292751312, 0.03930182009935379, 0.09334182739257812, 0.9954990744590759, 0.9753442406654358, 0.9987890124320984, 0.9076525568962097, 0.9920892119407654, 0.9987713694572449, 0.9971461892127991, 0.9927685856819153, 0.9916962385177612, 0.998877763748169, 0.0026539682876318693, 0.03556317463517189, 0.8094602823257446, 0.0790882557630539, 0.07271873205900192, 0.997573733329773, 0.20460040867328644, 0.7924663424491882, 0.9983574151992798, 0.2716464698314667, 0.7266542911529541, 0.9767521619796753, 0.7281314730644226, 0.21272622048854828, 0.05758802965283394, 0.0013675257796421647, 0.995760977268219, 0.1495467871427536, 0.8500974774360657, 0.01876688003540039, 0.9806897640228271, 0.9960967898368835, 0.9988106489181519, 0.9992774128913879, 0.0903417319059372, 0.0519464947283268, 0.8567407727241516, 0.20552626252174377, 0.06347787380218506, 0.7208955883979797, 0.01020972803235054, 0.9955118894577026, 0.9901915788650513, 0.9917151927947998, 0.9952150583267212, 0.9718316793441772, 0.9974914193153381, 0.9655065536499023, 0.37485507130622864, 0.5762194991111755, 0.011534001678228378, 0.037004921585321426, 0.9855087399482727, 0.9978669881820679, 0.9987257719039917, 0.9938887357711792, 0.9975150227546692, 0.9917506575584412, 0.9989631175994873, 0.9945153594017029, 0.9993287324905396, 0.9993278384208679, 0.9373166561126709, 0.06254791468381882, 0.9977728724479675, 0.07667452096939087, 0.9200941920280457, 0.6490644216537476, 0.0944584384560585, 0.255037784576416, 0.997937023639679, 0.9962233901023865, 0.896644115447998, 0.9997587203979492, 0.9962663650512695, 0.9956977963447571, 0.1549500972032547, 0.8443997502326965, 0.9992865324020386, 0.9974607825279236, 0.32101914286613464, 0.6755775809288025, 0.92889803647995, 0.9736928939819336, 0.12518535554409027, 0.8746787309646606, 0.9934895634651184, 0.35031503438949585, 0.646735429763794, 0.32771098613739014, 0.612347424030304, 0.05961514264345169, 0.03883638232946396, 0.8495813608169556, 0.11112308502197266, 0.994357168674469, 0.9456470012664795, 0.9966505765914917, 0.5677977204322815, 0.05727638676762581, 0.3744485080242157, 0.9725272059440613, 0.9177129864692688, 0.08198857307434082, 0.9973417520523071, 0.014243328012526035, 0.9853031635284424, 0.9949449300765991, 0.9804098606109619, 0.3877832889556885, 0.6118534207344055, 0.993325412273407, 0.9545096158981323, 0.9815280437469482, 0.9933425784111023, 0.06934987753629684, 0.879297137260437, 0.0511779859662056, 0.3310438394546509, 0.19078075885772705, 0.4780043363571167, 0.9973351955413818, 0.9939993023872375, 0.9519193768501282, 0.9984956383705139, 0.9996998906135559, 0.7872857451438904, 0.21212472021579742, 0.996075451374054, 0.9831071496009827, 0.8356838226318359, 0.12148245424032211, 0.028337160125374794, 0.014430960640311241, 0.997300922870636, 0.9790321588516235, 0.026235323399305344, 0.03353793919086456, 0.9398737549781799, 0.9993830323219299, 0.9985598921775818, 0.9655188322067261, 0.8513551950454712, 0.12244533002376556, 0.02592960000038147, 0.8916043639183044, 0.07813888043165207, 0.030152112245559692, 0.997114896774292, 0.9812783002853394, 0.017691314220428467, 0.9961547255516052, 0.9936102032661438, 0.29979297518730164, 0.14048567414283752, 0.5190096497535706, 0.04071870073676109, 0.9987929463386536, 0.9970178604125977, 0.9793689250946045, 0.980624794960022, 0.9924854636192322, 0.8836362361907959, 0.9804839491844177, 0.47481295466423035, 0.5161010026931763, 0.9061324596405029, 0.990443229675293, 0.960307776927948, 0.9985789060592651, 0.7852554321289062, 0.10165761411190033, 0.1129039004445076, 0.35950636863708496, 0.6398187875747681, 0.8400214314460754, 0.989109456539154, 0.9977893233299255, 0.2180611491203308, 0.7812044024467468, 0.0006402265280485153, 0.9954010844230652, 0.9982125163078308, 0.12821345031261444, 0.15202847123146057, 0.7094662189483643, 0.010107539594173431, 0.9967158436775208, 0.9054044485092163, 0.06304027140140533, 0.031063321977853775, 0.9980695843696594, 0.9993311762809753, 0.9927562475204468, 0.986272931098938, 0.9966259002685547, 0.9980838894844055, 0.9796804785728455, 0.9357964992523193, 0.05315324291586876, 0.010855239816009998, 0.998284637928009, 0.9913012981414795, 0.9970180988311768, 0.997032105922699, 0.5972170233726501, 0.39014720916748047, 0.012320437468588352, 0.9990268349647522, 0.9992754459381104, 0.9977335929870605, 0.9964238405227661, 0.9450324773788452, 0.978412389755249, 0.02146068960428238, 0.1570853888988495, 0.8422824740409851, 0.9998118281364441, 0.9930912852287292, 0.9860964417457581, 0.39876264333724976, 0.5999294519424438, 0.999169647693634, 0.04808010905981064, 0.6820252537727356, 0.056983832269907, 0.21279899775981903, 0.40928202867507935, 0.025750132277607918, 0.20545704662799835, 0.35941383242607117, 0.1949431300163269, 0.7042719721794128, 0.10066734999418259, 0.9983025789260864, 0.8266171813011169, 0.1696755737066269, 0.003597772214561701, 0.9677526950836182, 0.03157692402601242, 0.0005820631049573421, 0.9965588450431824, 0.9069762229919434, 0.09281867742538452, 0.9951670169830322, 0.8669316172599792, 0.13194124400615692, 0.998889684677124], \"Term\": [\"_\", \"abandon\", \"abortion\", \"access\", \"access\", \"accuracy\", \"acquire\", \"acquire\", \"action\", \"address\", \"address\", \"advance\", \"advertise\", \"advice\", \"agree\", \"agree\", \"air\", \"alex\", \"algorithm\", \"also\", \"also\", \"also\", \"also\", \"also\", \"also\", \"amend\", \"amendment\", \"amendment\", \"american\", \"american\", \"andrew\", \"animal\", \"announce\", \"announcement\", \"anybody\", \"anyone\", \"anyone\", \"anyway\", \"application\", \"apply\", \"apply\", \"apr\", \"arab\", \"arabic\", \"archive\", \"archive\", \"article\", \"article\", \"astronomy\", \"atheist\", \"automatic_transmission\", \"available\", \"available\", \"away\", \"away\", \"ax\", \"axis\", \"back\", \"back\", \"bad\", \"bad\", \"bag\", \"ban\", \"ban\", \"band\", \"baseball\", \"be\", \"bear_arm\", \"bed\", \"belief\", \"believe\", \"believe\", \"believe\", \"benz\", \"bible\", \"bike\", \"bit\", \"bit\", \"bit\", \"blew\", \"block\", \"block\", \"blood\", \"blue\", \"board\", \"borland\", \"boston\", \"box\", \"box\", \"boy\", \"brand\", \"brown\", \"bruce\", \"bryan\", \"burn\", \"bus\", \"bush_administration\", \"button\", \"buy\", \"buy\", \"buying\", \"ca\", \"cam\", \"camaro\", \"camera\", \"can\", \"can\", \"can\", \"can\", \"canada\", \"canada\", \"canadian\", \"canuck\", \"capability\", \"car\", \"card\", \"carl\", \"carnegie_mellon\", \"carry\", \"carry\", \"carry\", \"case\", \"case\", \"case\", \"celebrate\", \"cell\", \"center\", \"center\", \"center\", \"century\", \"chastity\", \"chemistry\", \"chevy\", \"chicago\", \"child\", \"child\", \"child\", \"chip\", \"christ\", \"christian\", \"christianity\", \"chuck\", \"church\", \"circuit\", \"city\", \"claim\", \"claim\", \"class\", \"classical\", \"clause\", \"clear\", \"cliff\", \"clinton_administration\", \"clipper\", \"clipper_chip\", \"close\", \"close\", \"close\", \"code\", \"code\", \"color\", \"columbia\", \"come\", \"come\", \"come\", \"come\", \"comet\", \"commercial\", \"commercial\", \"communication\", \"communication\", \"comparison\", \"compartment\", \"compatible\", \"complain\", \"component\", \"computer\", \"computer\", \"computer_science\", \"configure\", \"confuse\", \"connection\", \"consider\", \"consider\", \"constitution\", \"constitution\", \"cont_education\", \"contact\", \"cookie\", \"copy\", \"corporation\", \"correctly\", \"cost\", \"cost\", \"cost\", \"could\", \"could\", \"could\", \"count\", \"countersteer\", \"country\", \"county\", \"couple\", \"court_order\", \"cover\", \"coverage\", \"crime\", \"crime\", \"criminal\", \"criminal\", \"cryptography\", \"cup\", \"cut\", \"dan\", \"dare\", \"datum\", \"datum\", \"datum\", \"david_sternlight\", \"david_veal\", \"day\", \"day\", \"day\", \"dayton\", \"decision\", \"default\", \"demonstration\", \"depend\", \"depend\", \"dept\", \"dept\", \"dept\", \"description\", \"destruction\", \"diagnose\", \"dialog_box\", \"dictionary\", \"die\", \"die\", \"directory\", \"disabled\", \"discipline\", \"discussion\", \"discussion\", \"disk\", \"display\", \"distribution_na\", \"distribution_world\", \"distribution_world\", \"distribution_world\", \"distribution_world\", \"division\", \"division\", \"divorce\", \"do\", \"do\", \"do\", \"doc\", \"doctor\", \"dod\", \"dodger\", \"dollar\", \"domi_stanley\", \"door\", \"doug\", \"dougla\", \"draft\", \"drive\", \"driver\", \"drug\", \"earth\", \"earth\", \"ease\", \"eat\", \"eat\", \"economic\", \"edge\", \"edition\", \"edward\", \"eff\", \"eg\", \"email\", \"emergency\", \"encryption\", \"end\", \"end\", \"end\", \"end\", \"engine\", \"engineer\", \"enterprise\", \"entry\", \"environmental\", \"escape\", \"escrow\", \"espn\", \"essentially\", \"even\", \"even\", \"even\", \"even\", \"event\", \"excellent\", \"exist\", \"exist\", \"exist\", \"export\", \"expose\", \"extra\", \"face\", \"face\", \"fact\", \"fair\", \"faith\", \"familiar\", \"fan\", \"faq\", \"faster\", \"father\", \"fax\", \"fax\", \"federal_government\", \"federal_government\", \"file\", \"final\", \"final\", \"final\", \"final\", \"firm\", \"first\", \"first\", \"first\", \"first\", \"first\", \"flash\", \"flight\", \"fm\", \"font\", \"food\", \"food\", \"fractal\", \"function\", \"game\", \"gary_dare\", \"gas\", \"gay\", \"george\", \"gerald\", \"gerald_olchowy\", \"get\", \"get\", \"get\", \"give\", \"give\", \"give\", \"gld_je\", \"go\", \"go\", \"goal\", \"god\", \"good\", \"good\", \"good\", \"good\", \"gordon_bank\", \"gov\", \"government\", \"government\", \"graphic\", \"great\", \"great\", \"great\", \"great\", \"gross\", \"group\", \"group\", \"guess\", \"guide\", \"gun\", \"gun_control\", \"hall\", \"hardware\", \"hartford\", \"have\", \"havent_seen\", \"hawk\", \"hd\", \"health\", \"hear\", \"hell\", \"help\", \"help\", \"help\", \"help\", \"hi\", \"high\", \"high\", \"high\", \"highly\", \"history\", \"hockey\", \"holder\", \"home\", \"homosexual\", \"horizon\", \"host\", \"host\", \"host\", \"host_cunixb\", \"host_magnusug\", \"hour\", \"house\", \"house\", \"however\", \"however\", \"however\", \"hp\", \"human\", \"human\", \"hunt\", \"hunt\", \"ibm\", \"ill\", \"illinois\", \"illness\", \"image\", \"impair\", \"include\", \"include\", \"include\", \"individual\", \"industry\", \"industry\", \"infection\", \"info\", \"info\", \"information\", \"information\", \"information\", \"information\", \"initiative\", \"input\", \"inside\", \"inspection\", \"installation\", \"institute\", \"insure\", \"intellect\", \"inter\", \"interested\", \"interested\", \"internet\", \"internet\", \"invalid\", \"invasion\", \"invoke\", \"involve\", \"israel\", \"israeli\", \"issue\", \"james_callison\", \"jeff\", \"jet\", \"jim\", \"job\", \"judge\", \"jupiter\", \"jxp_skepticism\", \"key\", \"keyword\", \"keyword\", \"keyword\", \"kid\", \"king\", \"kit\", \"know\", \"know\", \"know\", \"lane\", \"lange\", \"larry\", \"last\", \"last\", \"law\", \"league\", \"leave\", \"leave\", \"legally\", \"legislation\", \"library\", \"life\", \"life\", \"life\", \"life\", \"light\", \"line\", \"line\", \"line\", \"list\", \"lobby\", \"lock\", \"logo\", \"london\", \"look\", \"look\", \"look\", \"loop\", \"lord\", \"lot\", \"lot\", \"love\", \"love\", \"low\", \"low\", \"low\", \"ltd\", \"lunar\", \"mac\", \"machine\", \"magazine\", \"magnus_ac\", \"mail\", \"make\", \"make\", \"make\", \"make\", \"man\", \"man\", \"man\", \"many\", \"many\", \"many\", \"many\", \"mar\", \"marc\", \"market\", \"marriage\", \"married\", \"marry\", \"mass\", \"massacre\", \"master\", \"material\", \"matthew\", \"max\", \"may\", \"may\", \"may\", \"may\", \"may\", \"maybe\", \"mean\", \"mean\", \"mean\", \"medical\", \"member\", \"menu\", \"merced\", \"message\", \"message\", \"message\", \"message\", \"met\", \"mhz\", \"michael\", \"mile\", \"military\", \"militia\", \"mine\", \"minimum\", \"minute\", \"misc\", \"mit\", \"mode\", \"model\", \"model\", \"money\", \"monitor\", \"month\", \"montreal\", \"moon\", \"moral\", \"morning\", \"motorcycle\", \"move\", \"move\", \"mr\", \"mr\", \"ms_window\", \"msg\", \"msg_sensitivity\", \"much\", \"much\", \"much\", \"multi\", \"multiple\", \"must\", \"must\", \"must\", \"must\", \"mustang\", \"nasa_gsfc\", \"need\", \"need\", \"need\", \"need\", \"needless\", \"nerve\", \"network\", \"new\", \"new\", \"new\", \"new\", \"new_york\", \"newbie\", \"news\", \"news\", \"news\", \"newsgroup\", \"newsletter\", \"nice\", \"nntp_post\", \"nntp_post\", \"nntp_posting\", \"nntp_posting\", \"normal\", \"not\", \"not\", \"nsa\", \"number\", \"number\", \"number\", \"number\", \"obvious\", \"ohio_state\", \"oil\", \"old\", \"old\", \"old\", \"old\", \"online_communication\", \"opposite\", \"orbit\", \"org\", \"organisation\", \"organization\", \"organization\", \"output\", \"overwrite\", \"package\", \"pain\", \"pain\", \"paint\", \"pair\", \"part\", \"part\", \"part\", \"part\", \"part\", \"partially\", \"passive\", \"pay\", \"pay\", \"pc\", \"pennsylvania\", \"people\", \"people\", \"people\", \"people\", \"perfectly\", \"period\", \"period\", \"period\", \"person\", \"person\", \"pete\", \"peter\", \"pgp\", \"phd\", \"phillie\", \"phone\", \"phone\", \"pin\", \"pitch\", \"pittsburgh\", \"pittsburgh\", \"planet\", \"planet\", \"plate\", \"play\", \"play\", \"player\", \"playoff\", \"point\", \"point\", \"point\", \"pointer\", \"police\", \"police\", \"police\", \"pop\", \"pop\", \"post\", \"post\", \"post\", \"postscript\", \"power\", \"power\", \"praise\", \"pray\", \"predict\", \"present\", \"presentation\", \"president\", \"press\", \"press\", \"press\", \"pressure\", \"pretty\", \"price\", \"princeton\", \"print\", \"printer\", \"probably\", \"probably\", \"probably\", \"probably\", \"problem\", \"problem\", \"problem\", \"problem\", \"proceed\", \"professional\", \"professional\", \"program\", \"program\", \"project\", \"project\", \"proportion\", \"protect\", \"prove\", \"pub\", \"public\", \"public\", \"pull\", \"purchase\", \"purdue_university\", \"push\", \"qualification\", \"question\", \"question\", \"question\", \"quit\", \"racial\", \"radio\", \"ram\", \"randomly\", \"rate\", \"rate\", \"ray\", \"reader\", \"really\", \"reap\", \"reason\", \"reason\", \"reason\", \"refer\", \"reform\", \"register\", \"registration\", \"religion\", \"religious\", \"religious\", \"reply\", \"reply\", \"reply\", \"research\", \"research\", \"research\", \"research\", \"revenue\", \"rice\", \"rid\", \"rid\", \"ride\", \"ride\", \"rider\", \"ridiculous\", \"right\", \"right\", \"right\", \"rise\", \"road\", \"rough\", \"rule\", \"run\", \"run\", \"run\", \"run\", \"russian\", \"s\", \"safely\", \"safety\", \"safety\", \"safety\", \"salary\", \"sale\", \"sample\", \"satan\", \"satellite\", \"say\", \"say\", \"say\", \"say\", \"scheme\", \"scope\", \"score\", \"scout\", \"scratch\", \"screen\", \"scripture\", \"sea\", \"seal\", \"season\", \"second\", \"second\", \"second\", \"second\", \"second\", \"second_amendment\", \"secret\", \"secret\", \"secure\", \"security\", \"security\", \"sedan\", \"see\", \"see\", \"see\", \"see\", \"seek\", \"sell\", \"sell\", \"send\", \"send\", \"serial_number\", \"serve\", \"server\", \"service\", \"service\", \"service\", \"set\", \"set\", \"set\", \"set\", \"sex\", \"shameful\", \"shift\", \"shipping\", \"sho\", \"should\", \"shoulder\", \"show\", \"show\", \"show\", \"show\", \"sight\", \"site\", \"situation\", \"slave\", \"slow\", \"snow\", \"society\", \"socket\", \"software\", \"someone\", \"something\", \"something\", \"somewhere\", \"son\", \"son\", \"soon\", \"soon\", \"soon\", \"sorry\", \"soul\", \"souviens_gary\", \"space\", \"spacecraft\", \"specifically\", \"speed\", \"speed\", \"spend\", \"spirit\", \"sport\", \"sport\", \"stable\", \"stadium\", \"standard\", \"standard\", \"standing\", \"star\", \"star\", \"start\", \"start\", \"start\", \"state\", \"state\", \"state\", \"status\", \"stein_washington\", \"steven\", \"still\", \"still\", \"still\", \"stomach\", \"study\", \"study\", \"suck\", \"summary\", \"summary\", \"summer\", \"superstition\", \"support\", \"support\", \"surrender\", \"swell\", \"symptom\", \"syndrome\", \"system\", \"system\", \"system\", \"take\", \"take\", \"take\", \"tank\", \"taste\", \"taurus\", \"tax\", \"team\", \"technology\", \"technology\", \"tel\", \"television\", \"tell\", \"tell\", \"tell\", \"tell\", \"terminal\", \"texas_instrument\", \"thank\", \"thank\", \"thank\", \"that\", \"there\", \"thi\", \"thing\", \"thing\", \"thing\", \"think\", \"think\", \"think\", \"thousand\", \"thus\", \"thus\", \"tie\", \"tim\", \"time\", \"time\", \"time\", \"time\", \"together\", \"tom\", \"ton\", \"tongue\", \"tonight\", \"toronto_chemistry\", \"trace\", \"training\", \"training\", \"tran\", \"truck\", \"trunk\", \"truth\", \"try\", \"try\", \"try\", \"turn\", \"turn\", \"unclear\", \"unconditional\", \"univ\", \"university\", \"university\", \"university\", \"upenn\", \"upgrade\", \"use\", \"use\", \"use\", \"use\", \"usenet\", \"user\", \"user\", \"user\", \"van\", \"version\", \"vesa_local\", \"virginia\", \"volume\", \"vote\", \"vram\", \"want\", \"want\", \"want\", \"war\", \"warm\", \"warrant\", \"water\", \"way\", \"way\", \"way\", \"weapon\", \"week\", \"what\", \"white_house\", \"white_sox\", \"will\", \"will\", \"win\", \"win\", \"window\", \"window_manager\", \"winnipeg_jet\", \"woman\", \"woman\", \"wonder\", \"word\", \"word\", \"word\", \"word\", \"work\", \"work\", \"work\", \"work\", \"world\", \"world\", \"world\", \"worth\", \"would\", \"would\", \"would\", \"write\", \"write\", \"write\", \"xterm\", \"year\", \"year\", \"yesterday\", \"yet\", \"yet\", \"young\"]}, \"R\": 30, \"lambda.step\": 0.01, \"plot.opts\": {\"xlab\": \"PC1\", \"ylab\": \"PC2\"}, \"topic.order\": [8, 14, 13, 3, 16, 7, 18, 4, 1, 17, 6, 9, 19, 2, 12, 10, 20, 11, 5, 15]};\n",
       "\n",
       "function LDAvis_load_lib(url, callback){\n",
       "  var s = document.createElement('script');\n",
       "  s.src = url;\n",
       "  s.async = true;\n",
       "  s.onreadystatechange = s.onload = callback;\n",
       "  s.onerror = function(){console.warn(\"failed to load library \" + url);};\n",
       "  document.getElementsByTagName(\"head\")[0].appendChild(s);\n",
       "}\n",
       "\n",
       "if(typeof(LDAvis) !== \"undefined\"){\n",
       "   // already loaded: just create the visualization\n",
       "   !function(LDAvis){\n",
       "       new LDAvis(\"#\" + \"ldavis_el2754420408768305364022081801\", ldavis_el2754420408768305364022081801_data);\n",
       "   }(LDAvis);\n",
       "}else if(typeof define === \"function\" && define.amd){\n",
       "   // require.js is available: use it to load d3/LDAvis\n",
       "   require.config({paths: {d3: \"https://cdnjs.cloudflare.com/ajax/libs/d3/3.5.5/d3.min\"}});\n",
       "   require([\"d3\"], function(d3){\n",
       "      window.d3 = d3;\n",
       "      LDAvis_load_lib(\"https://cdn.rawgit.com/bmabey/pyLDAvis/files/ldavis.v1.0.0.js\", function(){\n",
       "        new LDAvis(\"#\" + \"ldavis_el2754420408768305364022081801\", ldavis_el2754420408768305364022081801_data);\n",
       "      });\n",
       "    });\n",
       "}else{\n",
       "    // require.js not available: dynamically load d3 & LDAvis\n",
       "    LDAvis_load_lib(\"https://cdnjs.cloudflare.com/ajax/libs/d3/3.5.5/d3.min.js\", function(){\n",
       "         LDAvis_load_lib(\"https://cdn.rawgit.com/bmabey/pyLDAvis/files/ldavis.v1.0.0.js\", function(){\n",
       "                 new LDAvis(\"#\" + \"ldavis_el2754420408768305364022081801\", ldavis_el2754420408768305364022081801_data);\n",
       "            })\n",
       "         });\n",
       "}\n",
       "</script>"
      ],
      "text/plain": [
       "PreparedData(topic_coordinates=              x         y  topics  cluster       Freq\n",
       "topic                                                \n",
       "7     -0.361855 -0.070375       1        1  26.785046\n",
       "13    -0.353329 -0.124222       2        1  22.668671\n",
       "12    -0.296781 -0.075657       3        1  12.952961\n",
       "2     -0.267219 -0.027454       4        1  10.931153\n",
       "15    -0.205826  0.115220       5        1   8.616449\n",
       "6     -0.094976  0.441076       6        1   5.042084\n",
       "17    -0.138389 -0.079429       7        1   3.256871\n",
       "3     -0.025676  0.031611       8        1   1.988003\n",
       "0      0.026183  0.030534       9        1   1.899046\n",
       "16     0.041443  0.018827      10        1   1.504145\n",
       "5      0.130665 -0.026182      11        1   1.296196\n",
       "8      0.137392 -0.009259      12        1   0.645862\n",
       "18     0.145352 -0.015356      13        1   0.562687\n",
       "1      0.153874 -0.020527      14        1   0.504934\n",
       "11     0.170989 -0.025607      15        1   0.369561\n",
       "9      0.178093 -0.028678      16        1   0.297866\n",
       "19     0.182552 -0.031822      17        1   0.295530\n",
       "10     0.176186 -0.028069      18        1   0.248326\n",
       "4      0.199574 -0.036908      19        1   0.074328\n",
       "14     0.201749 -0.037721      20        1   0.060280, topic_info=      Category          Freq                 Term         Total  loglift  \\\n",
       "term                                                                       \n",
       "4146   Default  64902.000000                   ax  64902.000000  30.0000   \n",
       "82     Default  24206.000000                  not  24206.000000  29.0000   \n",
       "21     Default  18730.000000                 line  18730.000000  28.0000   \n",
       "30     Default  16709.000000         organization  16709.000000  27.0000   \n",
       "65     Default  15422.000000                   do  15422.000000  26.0000   \n",
       "46     Default   7809.000000           university   7809.000000  25.0000   \n",
       "322    Default  13744.000000                write  13744.000000  24.0000   \n",
       "244    Default  11807.000000                   be  11807.000000  23.0000   \n",
       "154    Default  17232.000000                would  17232.000000  22.0000   \n",
       "3721   Default   4706.000000                  max   4706.000000  21.0000   \n",
       "29     Default   6771.000000            nntp_post   6771.000000  20.0000   \n",
       "16     Default   6319.000000                 host   6319.000000  19.0000   \n",
       "55     Default  10769.000000              article  10769.000000  18.0000   \n",
       "2191   Default   2698.000000                  gun   2698.000000  17.0000   \n",
       "50     Default   5516.000000                 year   5516.000000  16.0000   \n",
       "1911   Default   2883.000000                space   2883.000000  15.0000   \n",
       "303    Default  10381.000000                  say  10381.000000  14.0000   \n",
       "206    Default   5392.000000               system   5392.000000  13.0000   \n",
       "18     Default  10703.000000                 know  10703.000000  12.0000   \n",
       "317    Default   7222.000000                  use   7222.000000  11.0000   \n",
       "271    Default   7960.000000                 good   7960.000000  10.0000   \n",
       "2726   Default   2570.000000                 game   2570.000000   9.0000   \n",
       "567    Default   2443.000000                 team   2443.000000   8.0000   \n",
       "263    Default   1482.000000                drive   1482.000000   7.0000   \n",
       "226    Default   8830.000000                   go   8830.000000   6.0000   \n",
       "756    Default   2031.000000                  key   2031.000000   5.0000   \n",
       "43     Default   3697.000000                thank   3697.000000   4.0000   \n",
       "967    Default   2371.000000            christian   2371.000000   3.0000   \n",
       "215    Default   3680.000000               window   3680.000000   2.0000   \n",
       "147    Default   7793.000000                think   7793.000000   1.0000   \n",
       "...        ...           ...                  ...           ...      ...   \n",
       "1825   Topic20      9.239225        demonstration     10.356595   7.2998   \n",
       "2434   Topic20      5.612248  bush_administration      6.729619   7.2324   \n",
       "3616   Topic20      4.667932        qualification      5.785301   7.1993   \n",
       "15273  Topic20      0.011483               keenan      1.128860   2.8259   \n",
       "9710   Topic20      0.011483              kovalev      1.128863   2.8259   \n",
       "4780   Topic20      0.011483                roger      1.128883   2.8259   \n",
       "15585  Topic20      0.011483              primeau      1.128858   2.8259   \n",
       "48353  Topic20      0.011483              messier      1.128856   2.8258   \n",
       "19824  Topic20      0.011483                messy      1.128864   2.8258   \n",
       "10589  Topic20      0.011483               injury      1.128868   2.8258   \n",
       "6345   Topic20      0.011484                 wing      1.128915   2.8258   \n",
       "70208  Topic20      0.011483              nielson      1.128856   2.8258   \n",
       "34002  Topic20      0.011483                  mvp      1.128871   2.8258   \n",
       "18829  Topic20      0.011483               murray      1.128865   2.8258   \n",
       "17034  Topic20      0.011483              yzerman      1.128867   2.8258   \n",
       "14073  Topic20      0.011483                leafs      1.128884   2.8258   \n",
       "6105   Topic20      0.011483               ranger      1.128899   2.8258   \n",
       "37169  Topic20      0.011483              nagging      1.128855   2.8258   \n",
       "9586   Topic20      0.011483               invite      1.128869   2.8258   \n",
       "6804   Topic20      0.011483              decline      1.128861   2.8258   \n",
       "34316  Topic20      0.011483          pocklington      1.128859   2.8258   \n",
       "6785   Topic20      0.011483               philly      1.128858   2.8258   \n",
       "51836  Topic20      0.011483     biggest_surprise      1.128858   2.8258   \n",
       "9714   Topic20      0.011483              mogilny      1.128865   2.8258   \n",
       "71434  Topic20      0.011483            northland      1.128861   2.8258   \n",
       "6990   Topic20      0.011483                coach      1.128901   2.8258   \n",
       "4100   Topic20      0.011484               device      1.128978   2.8258   \n",
       "9559   Topic20      0.011483      law_enforcement      1.128945   2.8258   \n",
       "4369   Topic20      0.011483                 pick      1.128955   2.8258   \n",
       "4548   Topic20      0.011483               policy      1.128915   2.8258   \n",
       "\n",
       "       logprob  \n",
       "term            \n",
       "4146   30.0000  \n",
       "82     29.0000  \n",
       "21     28.0000  \n",
       "30     27.0000  \n",
       "65     26.0000  \n",
       "46     25.0000  \n",
       "322    24.0000  \n",
       "244    23.0000  \n",
       "154    22.0000  \n",
       "3721   21.0000  \n",
       "29     20.0000  \n",
       "16     19.0000  \n",
       "55     18.0000  \n",
       "2191   17.0000  \n",
       "50     16.0000  \n",
       "1911   15.0000  \n",
       "303    14.0000  \n",
       "206    13.0000  \n",
       "18     12.0000  \n",
       "317    11.0000  \n",
       "271    10.0000  \n",
       "2726    9.0000  \n",
       "567     8.0000  \n",
       "263     7.0000  \n",
       "226     6.0000  \n",
       "756     5.0000  \n",
       "43      4.0000  \n",
       "967     3.0000  \n",
       "215     2.0000  \n",
       "147     1.0000  \n",
       "...        ...  \n",
       "1825   -4.6561  \n",
       "2434   -5.1546  \n",
       "3616   -5.3388  \n",
       "15273 -11.3464  \n",
       "9710  -11.3464  \n",
       "4780  -11.3464  \n",
       "15585 -11.3464  \n",
       "48353 -11.3464  \n",
       "19824 -11.3464  \n",
       "10589 -11.3464  \n",
       "6345  -11.3464  \n",
       "70208 -11.3464  \n",
       "34002 -11.3464  \n",
       "18829 -11.3464  \n",
       "17034 -11.3464  \n",
       "14073 -11.3464  \n",
       "6105  -11.3464  \n",
       "37169 -11.3464  \n",
       "9586  -11.3464  \n",
       "6804  -11.3464  \n",
       "34316 -11.3464  \n",
       "6785  -11.3464  \n",
       "51836 -11.3464  \n",
       "9714  -11.3464  \n",
       "71434 -11.3464  \n",
       "6990  -11.3464  \n",
       "4100  -11.3464  \n",
       "9559  -11.3464  \n",
       "4369  -11.3464  \n",
       "4548  -11.3464  \n",
       "\n",
       "[856 rows x 6 columns], token_table=      Topic      Freq            Term\n",
       "term                                 \n",
       "2128     11  0.998639               _\n",
       "3062     13  0.981229         abandon\n",
       "867      13  0.992116        abortion\n",
       "2079      5  0.718620          access\n",
       "2079     10  0.280758          access\n",
       "3415     12  0.994549        accuracy\n",
       "2620      1  0.655023         acquire\n",
       "2620     13  0.338428         acquire\n",
       "1241      2  0.999418          action\n",
       "698       2  0.131149         address\n",
       "698       4  0.868362         address\n",
       "338       5  0.999193         advance\n",
       "4061     18  0.929742       advertise\n",
       "2653      5  0.998523          advice\n",
       "1154      2  0.983788           agree\n",
       "1154      3  0.015574           agree\n",
       "637       5  0.998423             air\n",
       "3481     17  0.957349            alex\n",
       "501      10  0.997150       algorithm\n",
       "384       1  0.151820            also\n",
       "384       2  0.321834            also\n",
       "384       3  0.182242            also\n",
       "384       4  0.315430            also\n",
       "384       5  0.028239            also\n",
       "384       7  0.000437            also\n",
       "2138     11  0.993366           amend\n",
       "2139      2  0.358217       amendment\n",
       "2139     11  0.640576       amendment\n",
       "1250      2  0.879527        american\n",
       "1250      8  0.120114        american\n",
       "...     ...       ...             ...\n",
       "3495     17  0.993091  window_manager\n",
       "695      18  0.986096    winnipeg_jet\n",
       "3265      3  0.398763           woman\n",
       "3265      7  0.599929           woman\n",
       "49        1  0.999170          wonder\n",
       "425       1  0.048080            word\n",
       "425       2  0.682025            word\n",
       "425       4  0.056984            word\n",
       "425       7  0.212799            word\n",
       "426       1  0.409282            work\n",
       "426       2  0.025750            work\n",
       "426       3  0.205457            work\n",
       "426       4  0.359414            work\n",
       "497       1  0.194943           world\n",
       "497       2  0.704272           world\n",
       "497       7  0.100667           world\n",
       "153       1  0.998303           worth\n",
       "154       1  0.826617           would\n",
       "154       2  0.169676           would\n",
       "154      11  0.003598           would\n",
       "322       1  0.967753           write\n",
       "322       2  0.031577           write\n",
       "322       4  0.000582           write\n",
       "2103     11  0.996559           xterm\n",
       "50        3  0.906976            year\n",
       "50        8  0.092819            year\n",
       "1140      6  0.995167       yesterday\n",
       "830       2  0.866932             yet\n",
       "830       4  0.131941             yet\n",
       "3395      3  0.998890           young\n",
       "\n",
       "[1062 rows x 3 columns], R=30, lambda_step=0.01, plot_opts={'xlab': 'PC1', 'ylab': 'PC2'}, topic_order=[8, 14, 13, 3, 16, 7, 18, 4, 1, 17, 6, 9, 19, 2, 12, 10, 20, 11, 5, 15])"
      ]
     },
     "execution_count": 34,
     "metadata": {},
     "output_type": "execute_result"
    }
   ],
   "source": [
    "# Visualize the topics\n",
    "pyLDAvis.enable_notebook()\n",
    "vis = pyLDAvis.gensim.prepare(lda_model, corpus, id2word)\n",
    "vis"
   ]
  },
  {
   "cell_type": "code",
   "execution_count": 35,
   "metadata": {},
   "outputs": [
    {
     "name": "stdout",
     "output_type": "stream",
     "text": [
      "\n",
      "Perplexity:  -14.792840634003806\n",
      "\n",
      "Coherence Score:  0.5025181203779839\n"
     ]
    }
   ],
   "source": [
    "# Compute Perplexity\n",
    "print('\\nPerplexity: ', lda_model.log_perplexity(corpus))  # a measure of how good the model is. lower the better.\n",
    "\n",
    "# Compute Coherence Score\n",
    "coherence_model_lda = CoherenceModel(model=lda_model, texts=data_lemmatized, dictionary=id2word, coherence='c_v')\n",
    "coherence_lda = coherence_model_lda.get_coherence()\n",
    "print('\\nCoherence Score: ', coherence_lda)"
   ]
  },
  {
   "cell_type": "code",
   "execution_count": null,
   "metadata": {},
   "outputs": [],
   "source": []
  }
 ],
 "metadata": {
  "kernelspec": {
   "display_name": "Python 3",
   "language": "python",
   "name": "python3"
  },
  "language_info": {
   "codemirror_mode": {
    "name": "ipython",
    "version": 3
   },
   "file_extension": ".py",
   "mimetype": "text/x-python",
   "name": "python",
   "nbconvert_exporter": "python",
   "pygments_lexer": "ipython3",
   "version": "3.7.1"
  }
 },
 "nbformat": 4,
 "nbformat_minor": 2
}
