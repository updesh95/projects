{
 "cells": [
  {
   "cell_type": "markdown",
   "metadata": {},
   "source": [
    "#  We will take a real example of the ’20 Newsgroups’ dataset and use LDA to extract the naturally discussed topics."
   ]
  },
  {
   "cell_type": "code",
   "execution_count": 29,
   "metadata": {},
   "outputs": [],
   "source": [
    "import en_core_web_sm\n",
    "nlp = en_core_web_sm.load()"
   ]
  },
  {
   "cell_type": "code",
   "execution_count": 3,
   "metadata": {},
   "outputs": [
    {
     "name": "stderr",
     "output_type": "stream",
     "text": [
      "[nltk_data] Downloading package stopwords to\n",
      "[nltk_data]     C:\\Users\\91837\\AppData\\Roaming\\nltk_data...\n",
      "[nltk_data]   Package stopwords is already up-to-date!\n"
     ]
    },
    {
     "data": {
      "text/plain": [
       "True"
      ]
     },
     "execution_count": 3,
     "metadata": {},
     "output_type": "execute_result"
    }
   ],
   "source": [
    "import nltk\n",
    "nltk.download('stopwords')"
   ]
  },
  {
   "cell_type": "code",
   "execution_count": 7,
   "metadata": {},
   "outputs": [],
   "source": [
    "import numpy as np\n",
    "import pandas as pd\n",
    "from pprint import pprint"
   ]
  },
  {
   "cell_type": "code",
   "execution_count": 8,
   "metadata": {},
   "outputs": [],
   "source": [
    "import gensim\n",
    "import gensim.corpora as corpora\n",
    "from gensim.utils import simple_preprocess\n",
    "from gensim.models import CoherenceModel"
   ]
  },
  {
   "cell_type": "code",
   "execution_count": 9,
   "metadata": {},
   "outputs": [],
   "source": [
    "import spacy"
   ]
  },
  {
   "cell_type": "code",
   "execution_count": 11,
   "metadata": {},
   "outputs": [
    {
     "name": "stderr",
     "output_type": "stream",
     "text": [
      "C:\\Users\\91837\\AppData\\Local\\Continuum\\anaconda3\\lib\\site-packages\\past\\types\\oldstr.py:33: DeprecationWarning: invalid escape sequence \\d\n",
      "  \"\"\"\n"
     ]
    }
   ],
   "source": [
    "#plotting tools\n",
    "import pyLDAvis\n",
    "import pyLDAvis.gensim\n",
    "import matplotlib.pyplot as plt\n",
    "%matplotlib inline "
   ]
  },
  {
   "cell_type": "code",
   "execution_count": 12,
   "metadata": {},
   "outputs": [],
   "source": [
    "import logging\n",
    "logging.basicConfig(format='%(asctime)s: %(levelname)s: %(message)s', level=logging.ERROR)"
   ]
  },
  {
   "cell_type": "code",
   "execution_count": 13,
   "metadata": {},
   "outputs": [],
   "source": [
    "import warnings\n",
    "warnings.filterwarnings(\"ignore\",category=DeprecationWarning)"
   ]
  },
  {
   "cell_type": "code",
   "execution_count": 14,
   "metadata": {},
   "outputs": [
    {
     "data": {
      "text/plain": [
       "'What does LDA do?\\nLDA’s approach to topic modeling is it considers each document \\nas a collection of topics in a certain proportion. \\nAnd each topic as a collection of keywords, again, in a certain proportion.'"
      ]
     },
     "execution_count": 14,
     "metadata": {},
     "output_type": "execute_result"
    }
   ],
   "source": [
    "'''What does LDA do?\n",
    "LDA’s approach to topic modeling is it considers each document \n",
    "as a collection of topics in a certain proportion. \n",
    "And each topic as a collection of keywords, again, in a certain proportion.'''"
   ]
  },
  {
   "cell_type": "code",
   "execution_count": 15,
   "metadata": {},
   "outputs": [],
   "source": [
    "from nltk.corpus import stopwords\n",
    "stop_words = stopwords.words('english')"
   ]
  },
  {
   "cell_type": "code",
   "execution_count": 17,
   "metadata": {},
   "outputs": [],
   "source": [
    "stop_words.extend(['from','subject','re','edu','use'])"
   ]
  },
  {
   "cell_type": "code",
   "execution_count": 18,
   "metadata": {},
   "outputs": [
    {
     "name": "stdout",
     "output_type": "stream",
     "text": [
      "['rec.autos' 'comp.sys.mac.hardware' 'rec.motorcycles' 'misc.forsale'\n",
      " 'comp.os.ms-windows.misc' 'alt.atheism' 'comp.graphics'\n",
      " 'rec.sport.baseball' 'rec.sport.hockey' 'sci.electronics' 'sci.space'\n",
      " 'talk.politics.misc' 'sci.med' 'talk.politics.mideast'\n",
      " 'soc.religion.christian' 'comp.windows.x' 'comp.sys.ibm.pc.hardware'\n",
      " 'talk.politics.guns' 'talk.religion.misc' 'sci.crypt']\n"
     ]
    },
    {
     "data": {
      "text/html": [
       "<div>\n",
       "<style scoped>\n",
       "    .dataframe tbody tr th:only-of-type {\n",
       "        vertical-align: middle;\n",
       "    }\n",
       "\n",
       "    .dataframe tbody tr th {\n",
       "        vertical-align: top;\n",
       "    }\n",
       "\n",
       "    .dataframe thead th {\n",
       "        text-align: right;\n",
       "    }\n",
       "</style>\n",
       "<table border=\"1\" class=\"dataframe\">\n",
       "  <thead>\n",
       "    <tr style=\"text-align: right;\">\n",
       "      <th></th>\n",
       "      <th>content</th>\n",
       "      <th>target</th>\n",
       "      <th>target_names</th>\n",
       "    </tr>\n",
       "  </thead>\n",
       "  <tbody>\n",
       "    <tr>\n",
       "      <th>0</th>\n",
       "      <td>From: lerxst@wam.umd.edu (where's my thing)\\nS...</td>\n",
       "      <td>7</td>\n",
       "      <td>rec.autos</td>\n",
       "    </tr>\n",
       "    <tr>\n",
       "      <th>1</th>\n",
       "      <td>From: guykuo@carson.u.washington.edu (Guy Kuo)...</td>\n",
       "      <td>4</td>\n",
       "      <td>comp.sys.mac.hardware</td>\n",
       "    </tr>\n",
       "    <tr>\n",
       "      <th>10</th>\n",
       "      <td>From: irwin@cmptrc.lonestar.org (Irwin Arnstei...</td>\n",
       "      <td>8</td>\n",
       "      <td>rec.motorcycles</td>\n",
       "    </tr>\n",
       "    <tr>\n",
       "      <th>100</th>\n",
       "      <td>From: tchen@magnus.acs.ohio-state.edu (Tsung-K...</td>\n",
       "      <td>6</td>\n",
       "      <td>misc.forsale</td>\n",
       "    </tr>\n",
       "    <tr>\n",
       "      <th>1000</th>\n",
       "      <td>From: dabl2@nlm.nih.gov (Don A.B. Lindbergh)\\n...</td>\n",
       "      <td>2</td>\n",
       "      <td>comp.os.ms-windows.misc</td>\n",
       "    </tr>\n",
       "  </tbody>\n",
       "</table>\n",
       "</div>"
      ],
      "text/plain": [
       "                                                content  target  \\\n",
       "0     From: lerxst@wam.umd.edu (where's my thing)\\nS...       7   \n",
       "1     From: guykuo@carson.u.washington.edu (Guy Kuo)...       4   \n",
       "10    From: irwin@cmptrc.lonestar.org (Irwin Arnstei...       8   \n",
       "100   From: tchen@magnus.acs.ohio-state.edu (Tsung-K...       6   \n",
       "1000  From: dabl2@nlm.nih.gov (Don A.B. Lindbergh)\\n...       2   \n",
       "\n",
       "                 target_names  \n",
       "0                   rec.autos  \n",
       "1       comp.sys.mac.hardware  \n",
       "10            rec.motorcycles  \n",
       "100              misc.forsale  \n",
       "1000  comp.os.ms-windows.misc  "
      ]
     },
     "execution_count": 18,
     "metadata": {},
     "output_type": "execute_result"
    }
   ],
   "source": [
    "#import datasets\n",
    "df = pd.read_json('https://raw.githubusercontent.com/selva86/datasets/master/newsgroups.json')\n",
    "print(df.target_names.unique())\n",
    "df.head()"
   ]
  },
  {
   "cell_type": "code",
   "execution_count": 19,
   "metadata": {},
   "outputs": [],
   "source": [
    "#As you can see there are many emails, newline and extra spaces that is quite distracting\n",
    "#convert to list\n",
    "data = df.content.values.tolist()"
   ]
  },
  {
   "cell_type": "code",
   "execution_count": 21,
   "metadata": {},
   "outputs": [],
   "source": [
    "import re\n",
    "#remove emails\n",
    "data = [re.sub('\\S*@\\S*\\s','',sent)for sent in data]\n",
    "#remove new line character \n",
    "data = [re.sub('\\s+',' ',sent) for sent in data]\n",
    "#removing distracting single quote\n",
    "data = [re.sub(\"\\'\", \"\",sent)for sent in data]"
   ]
  },
  {
   "cell_type": "code",
   "execution_count": 22,
   "metadata": {},
   "outputs": [],
   "source": [
    "#Let’s tokenize each sentence into a list of words, removing punctuations and unnecessary characters altogether.\n",
    "#Gensim’s simple_preprocess() is great for this. Additionally I have set deacc=True to remove the punctuations.\n",
    "def sent_to_words(sentences):\n",
    "    for sentence in sentences:\n",
    "        yield(gensim.utils.simple_preprocess(str(sentence),deacc=True))\n",
    "data_words = list(sent_to_words(data))\n"
   ]
  },
  {
   "cell_type": "code",
   "execution_count": 25,
   "metadata": {},
   "outputs": [
    {
     "name": "stdout",
     "output_type": "stream",
     "text": [
      "['from', 'wheres', 'my', 'thing', 'subject', 'what', 'car', 'is', 'this', 'nntp_posting_host', 'rac_wam_umd_edu', 'organization', 'university', 'of', 'maryland_college_park', 'lines', 'was', 'wondering', 'if', 'anyone', 'out', 'there', 'could', 'enlighten', 'me', 'on', 'this', 'car', 'saw', 'the', 'other', 'day', 'it', 'was', 'door', 'sports', 'car', 'looked', 'to', 'be', 'from', 'the', 'late', 'early', 'it', 'was', 'called', 'bricklin', 'the', 'doors', 'were', 'really', 'small', 'in', 'addition', 'the', 'front_bumper', 'was', 'separate', 'from', 'the', 'rest', 'of', 'the', 'body', 'this', 'is', 'all', 'know', 'if', 'anyone', 'can', 'tellme', 'model', 'name', 'engine', 'specs', 'years', 'of', 'production', 'where', 'this', 'car', 'is', 'made', 'history', 'or', 'whatever', 'info', 'you', 'have', 'on', 'this', 'funky', 'looking', 'car', 'please', 'mail', 'thanks', 'il', 'brought', 'to', 'you', 'by', 'your', 'neighborhood', 'lerxst']\n"
     ]
    }
   ],
   "source": [
    "# Build the bigram and trigram models\n",
    "bigram = gensim.models.Phrases(data_words, min_count=5, threshold=100) # higher threshold fewer phrases.\n",
    "trigram = gensim.models.Phrases(bigram[data_words], threshold=100)  \n",
    "\n",
    "# Faster way to get a sentence clubbed as a trigram/bigram\n",
    "bigram_mod = gensim.models.phrases.Phraser(bigram)\n",
    "trigram_mod = gensim.models.phrases.Phraser(trigram)\n",
    "\n",
    "# See trigram example\n",
    "print(trigram_mod[bigram_mod[data_words[0]]])\n"
   ]
  },
  {
   "cell_type": "code",
   "execution_count": 26,
   "metadata": {},
   "outputs": [],
   "source": [
    "# Define functions for stopwords, bigrams, trigrams and lemmatization\n",
    "def remove_stopwords(texts):\n",
    "    return [[word for word in simple_preprocess(str(doc)) if word not in stop_words] for doc in texts]\n",
    "\n",
    "def make_bigrams(texts):\n",
    "    return [bigram_mod[doc] for doc in texts]\n",
    "\n",
    "def make_trigrams(texts):\n",
    "    return [trigram_mod[bigram_mod[doc]] for doc in texts]\n",
    "\n",
    "def lemmatization(texts, allowed_postags=['NOUN', 'ADJ', 'VERB', 'ADV']):\n",
    "    \"\"\"https://spacy.io/api/annotation\"\"\"\n",
    "    texts_out = []\n",
    "    for sent in texts:\n",
    "        doc = nlp(\" \".join(sent)) \n",
    "        texts_out.append([token.lemma_ for token in doc if token.pos_ in allowed_postags])\n",
    "    return texts_out"
   ]
  },
  {
   "cell_type": "code",
   "execution_count": null,
   "metadata": {},
   "outputs": [],
   "source": []
  },
  {
   "cell_type": "code",
   "execution_count": 30,
   "metadata": {},
   "outputs": [
    {
     "name": "stdout",
     "output_type": "stream",
     "text": [
      "[['where', 's', 'thing', 'car', 'nntp_post', 'host', 'rac_wam', 'umd', 'organization', 'university', 'maryland_college', 'park', 'line', 'wonder', 'anyone', 'could', 'enlighten', 'car', 'see', 'day', 'door', 'sport', 'car', 'look', 'late', 'early', 'call', 'bricklin', 'door', 'really', 'small', 'addition', 'front_bumper', 'separate', 'rest', 'body', 'know', 'anyone', 'tellme', 'model', 'name', 'engine', 'spec', 'year', 'production', 'car', 'make', 'history', 'whatev', 'info', 'funky', 'look', 'car', 'mail', 'thank', 'bring', 'neighborhood', 'lerxst']]\n"
     ]
    }
   ],
   "source": [
    "# Remove Stop Words\n",
    "data_words_nostops = remove_stopwords(data_words)\n",
    "\n",
    "# Form Bigrams\n",
    "data_words_bigrams = make_bigrams(data_words_nostops)\n",
    "\n",
    "\n",
    "\n",
    "\n",
    "# Do lemmatization keeping only noun, adj, vb, adv\n",
    "data_lemmatized = lemmatization(data_words_bigrams, allowed_postags=['NOUN', 'ADJ', 'VERB', 'ADV'])\n",
    "\n",
    "print(data_lemmatized[:1])"
   ]
  },
  {
   "cell_type": "code",
   "execution_count": 31,
   "metadata": {},
   "outputs": [
    {
     "name": "stdout",
     "output_type": "stream",
     "text": [
      "[[(0, 1), (1, 2), (2, 1), (3, 1), (4, 1), (5, 1), (6, 5), (7, 1), (8, 1), (9, 2), (10, 1), (11, 1), (12, 1), (13, 1), (14, 1), (15, 1), (16, 1), (17, 1), (18, 1), (19, 1), (20, 1), (21, 1), (22, 2), (23, 1), (24, 1), (25, 1), (26, 1), (27, 1), (28, 1), (29, 1), (30, 1), (31, 1), (32, 1), (33, 1), (34, 1), (35, 1), (36, 1), (37, 1), (38, 1), (39, 1), (40, 1), (41, 1), (42, 1), (43, 1), (44, 1), (45, 1), (46, 1), (47, 1), (48, 1), (49, 1), (50, 1)]]\n"
     ]
    }
   ],
   "source": [
    "# Create Dictionary\n",
    "id2word = corpora.Dictionary(data_lemmatized)\n",
    "\n",
    "# Create Corpus\n",
    "texts = data_lemmatized\n",
    "\n",
    "# Term Document Frequency\n",
    "corpus = [id2word.doc2bow(text) for text in texts]\n",
    "\n",
    "# View\n",
    "print(corpus[:1])"
   ]
  },
  {
   "cell_type": "code",
   "execution_count": 32,
   "metadata": {},
   "outputs": [],
   "source": [
    "# Build LDA model\n",
    "lda_model = gensim.models.ldamodel.LdaModel(corpus=corpus,\n",
    "                                           id2word=id2word,\n",
    "                                           num_topics=20, \n",
    "                                           random_state=100,\n",
    "                                           update_every=1,\n",
    "                                           chunksize=100,\n",
    "                                           passes=10,\n",
    "                                           alpha='auto',\n",
    "                                           per_word_topics=True)"
   ]
  },
  {
   "cell_type": "code",
   "execution_count": 33,
   "metadata": {},
   "outputs": [
    {
     "name": "stdout",
     "output_type": "stream",
     "text": [
      "[(0,\n",
      "  '0.094*\"space\" + 0.044*\"image\" + 0.025*\"display\" + 0.021*\"blue\" + '\n",
      "  '0.019*\"earth\" + 0.018*\"print\" + 0.017*\"research\" + 0.016*\"project\" + '\n",
      "  '0.016*\"satellite\" + 0.015*\"tank\"'),\n",
      " (1,\n",
      "  '0.050*\"food\" + 0.045*\"bus\" + 0.044*\"specifically\" + 0.036*\"msg\" + '\n",
      "  '0.030*\"eat\" + 0.030*\"motorcycle\" + 0.025*\"ride\" + 0.018*\"confuse\" + '\n",
      "  '0.016*\"entry\" + 0.016*\"shift\"'),\n",
      " (2,\n",
      "  '0.029*\"use\" + 0.027*\"system\" + 0.021*\"window\" + 0.018*\"card\" + 0.016*\"file\" '\n",
      "  '+ 0.016*\"run\" + 0.014*\"program\" + 0.013*\"problem\" + 0.012*\"also\" + '\n",
      "  '0.011*\"need\"'),\n",
      " (3,\n",
      "  '0.080*\"game\" + 0.076*\"team\" + 0.045*\"play\" + 0.045*\"win\" + 0.044*\"player\" + '\n",
      "  '0.036*\"hockey\" + 0.030*\"season\" + 0.026*\"contact\" + 0.020*\"goal\" + '\n",
      "  '0.020*\"fan\"'),\n",
      " (4,\n",
      "  '0.112*\"circuit\" + 0.018*\"stable\" + 0.012*\"cam\" + 0.011*\"chemistry\" + '\n",
      "  '0.010*\"scout\" + 0.007*\"tran\" + 0.006*\"arabic\" + 0.005*\"randomly\" + '\n",
      "  '0.004*\"axis\" + 0.000*\"tablet\"'),\n",
      " (5,\n",
      "  '0.129*\"gun\" + 0.052*\"_\" + 0.036*\"weapon\" + 0.025*\"discipline\" + '\n",
      "  '0.023*\"criminal\" + 0.022*\"crime\" + 0.019*\"terminal\" + 0.018*\"eg\" + '\n",
      "  '0.018*\"constitution\" + 0.017*\"xterm\"'),\n",
      " (6,\n",
      "  '0.798*\"ax\" + 0.058*\"max\" + 0.007*\"prove\" + 0.004*\"count\" + '\n",
      "  '0.004*\"somewhere\" + 0.004*\"announce\" + 0.004*\"printer\" + 0.003*\"summer\" + '\n",
      "  '0.003*\"dollar\" + 0.003*\"usenet\"'),\n",
      " (7,\n",
      "  '0.055*\"not\" + 0.036*\"do\" + 0.033*\"would\" + 0.031*\"write\" + 0.027*\"be\" + '\n",
      "  '0.024*\"article\" + 0.023*\"know\" + 0.023*\"line\" + 0.020*\"organization\" + '\n",
      "  '0.020*\"get\"'),\n",
      " (8,\n",
      "  '0.055*\"computer_science\" + 0.040*\"univ\" + 0.038*\"gordon_bank\" + 0.037*\"ibm\" '\n",
      "  '+ 0.035*\"clipper_chip\" + 0.032*\"distribution_na\" + 0.025*\"magazine\" + '\n",
      "  '0.023*\"description\" + 0.022*\"pressure\" + 0.021*\"professional\"'),\n",
      " (9,\n",
      "  '0.308*\"drive\" + 0.033*\"ohio_state\" + 0.020*\"dodger\" + 0.012*\"inside\" + '\n",
      "  '0.012*\"met\" + 0.008*\"stadium\" + 0.008*\"chuck\" + 0.006*\"cookie\" + '\n",
      "  '0.006*\"havent_seen\" + 0.006*\"rice\"'),\n",
      " (10,\n",
      "  '0.050*\"pray\" + 0.048*\"pin\" + 0.047*\"morning\" + 0.044*\"hall\" + '\n",
      "  '0.034*\"coverage\" + 0.032*\"astronomy\" + 0.032*\"complain\" + 0.026*\"dare\" + '\n",
      "  '0.024*\"seal\" + 0.020*\"espn\"'),\n",
      " (11,\n",
      "  '0.068*\"league\" + 0.056*\"baseball\" + 0.036*\"tim\" + 0.031*\"doc\" + '\n",
      "  '0.028*\"lock\" + 0.027*\"depend\" + 0.021*\"comet\" + 0.021*\"logo\" + '\n",
      "  '0.020*\"truck\" + 0.018*\"virginia\"'),\n",
      " (12,\n",
      "  '0.024*\"year\" + 0.020*\"time\" + 0.015*\"day\" + 0.014*\"first\" + 0.014*\"go\" + '\n",
      "  '0.012*\"take\" + 0.010*\"last\" + 0.010*\"power\" + 0.009*\"come\" + 0.009*\"start\"'),\n",
      " (13,\n",
      "  '0.017*\"people\" + 0.009*\"make\" + 0.009*\"say\" + 0.009*\"may\" + 0.008*\"state\" + '\n",
      "  '0.008*\"would\" + 0.007*\"many\" + 0.007*\"fact\" + 0.007*\"right\" + 0.007*\"law\"'),\n",
      " (14,\n",
      "  '0.026*\"initiative\" + 0.022*\"gerald\" + 0.022*\"purdue_university\" + '\n",
      "  '0.015*\"gerald_olchowy\" + 0.015*\"invasion\" + 0.013*\"toronto_chemistry\" + '\n",
      "  '0.012*\"clinton_administration\" + 0.010*\"demonstration\" + '\n",
      "  '0.006*\"bush_administration\" + 0.005*\"qualification\"'),\n",
      " (15,\n",
      "  '0.062*\"line\" + 0.057*\"organization\" + 0.044*\"university\" + 0.033*\"host\" + '\n",
      "  '0.032*\"nntp_post\" + 0.025*\"thank\" + 0.021*\"new\" + 0.020*\"mail\" + '\n",
      "  '0.017*\"post\" + 0.017*\"reply\"'),\n",
      " (16,\n",
      "  '0.084*\"key\" + 0.066*\"chip\" + 0.030*\"encryption\" + 0.022*\"clipper\" + '\n",
      "  '0.021*\"tom\" + 0.020*\"algorithm\" + 0.019*\"slow\" + 0.018*\"van\" + '\n",
      "  '0.018*\"security\" + 0.018*\"bit\"'),\n",
      " (17,\n",
      "  '0.045*\"christian\" + 0.042*\"god\" + 0.025*\"life\" + 0.022*\"man\" + 0.019*\"die\" '\n",
      "  '+ 0.019*\"believe\" + 0.019*\"religion\" + 0.018*\"say\" + 0.017*\"bible\" + '\n",
      "  '0.017*\"truth\"'),\n",
      " (18,\n",
      "  '0.066*\"drug\" + 0.054*\"matthew\" + 0.037*\"health\" + 0.029*\"jim\" + '\n",
      "  '0.029*\"rate\" + 0.026*\"seek\" + 0.026*\"reader\" + 0.020*\"economic\" + '\n",
      "  '0.019*\"status\" + 0.019*\"highly\"'),\n",
      " (19,\n",
      "  '0.047*\"mhz\" + 0.041*\"button\" + 0.039*\"pain\" + 0.020*\"syndrome\" + '\n",
      "  '0.020*\"window_manager\" + 0.019*\"ltd\" + 0.019*\"tonight\" + 0.017*\"loop\" + '\n",
      "  '0.016*\"gross\" + 0.014*\"quit\"')]\n"
     ]
    }
   ],
   "source": [
    "pprint(lda_model.print_topics())\n",
    "doc_lda = lda_model[corpus]"
   ]
  },
  {
   "cell_type": "code",
   "execution_count": null,
   "metadata": {},
   "outputs": [],
   "source": [
    "# Visualize the topics\n",
    "pyLDAvis.enable_notebook()\n",
    "vis = pyLDAvis.gensim.prepare(lda_model, corpus, id2word)\n",
    "vis"
   ]
  },
  {
   "cell_type": "code",
   "execution_count": null,
   "metadata": {},
   "outputs": [],
   "source": [
    "# Compute Perplexity\n",
    "print('\\nPerplexity: ', lda_model.log_perplexity(corpus))  # a measure of how good the model is. lower the better.\n",
    "\n",
    "# Compute Coherence Score\n",
    "coherence_model_lda = CoherenceModel(model=lda_model, texts=data_lemmatized, dictionary=id2word, coherence='c_v')\n",
    "coherence_lda = coherence_model_lda.get_coherence()\n",
    "print('\\nCoherence Score: ', coherence_lda)"
   ]
  },
  {
   "cell_type": "code",
   "execution_count": null,
   "metadata": {},
   "outputs": [],
   "source": []
  }
 ],
 "metadata": {
  "kernelspec": {
   "display_name": "Python 3",
   "language": "python",
   "name": "python3"
  },
  "language_info": {
   "codemirror_mode": {
    "name": "ipython",
    "version": 3
   },
   "file_extension": ".py",
   "mimetype": "text/x-python",
   "name": "python",
   "nbconvert_exporter": "python",
   "pygments_lexer": "ipython3",
   "version": "3.7.1"
  }
 },
 "nbformat": 4,
 "nbformat_minor": 2
}
