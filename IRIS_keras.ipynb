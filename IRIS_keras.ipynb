{
 "cells": [
  {
   "cell_type": "code",
   "execution_count": 1,
   "metadata": {},
   "outputs": [],
   "source": [
    "import numpy as np"
   ]
  },
  {
   "cell_type": "code",
   "execution_count": 2,
   "metadata": {},
   "outputs": [],
   "source": [
    "from sklearn.datasets import load_iris"
   ]
  },
  {
   "cell_type": "code",
   "execution_count": 3,
   "metadata": {},
   "outputs": [],
   "source": [
    "iris = load_iris()\n"
   ]
  },
  {
   "cell_type": "code",
   "execution_count": 4,
   "metadata": {},
   "outputs": [
    {
     "name": "stdout",
     "output_type": "stream",
     "text": [
      ".. _iris_dataset:\n",
      "\n",
      "Iris plants dataset\n",
      "--------------------\n",
      "\n",
      "**Data Set Characteristics:**\n",
      "\n",
      "    :Number of Instances: 150 (50 in each of three classes)\n",
      "    :Number of Attributes: 4 numeric, predictive attributes and the class\n",
      "    :Attribute Information:\n",
      "        - sepal length in cm\n",
      "        - sepal width in cm\n",
      "        - petal length in cm\n",
      "        - petal width in cm\n",
      "        - class:\n",
      "                - Iris-Setosa\n",
      "                - Iris-Versicolour\n",
      "                - Iris-Virginica\n",
      "                \n",
      "    :Summary Statistics:\n",
      "\n",
      "    ============== ==== ==== ======= ===== ====================\n",
      "                    Min  Max   Mean    SD   Class Correlation\n",
      "    ============== ==== ==== ======= ===== ====================\n",
      "    sepal length:   4.3  7.9   5.84   0.83    0.7826\n",
      "    sepal width:    2.0  4.4   3.05   0.43   -0.4194\n",
      "    petal length:   1.0  6.9   3.76   1.76    0.9490  (high!)\n",
      "    petal width:    0.1  2.5   1.20   0.76    0.9565  (high!)\n",
      "    ============== ==== ==== ======= ===== ====================\n",
      "\n",
      "    :Missing Attribute Values: None\n",
      "    :Class Distribution: 33.3% for each of 3 classes.\n",
      "    :Creator: R.A. Fisher\n",
      "    :Donor: Michael Marshall (MARSHALL%PLU@io.arc.nasa.gov)\n",
      "    :Date: July, 1988\n",
      "\n",
      "The famous Iris database, first used by Sir R.A. Fisher. The dataset is taken\n",
      "from Fisher's paper. Note that it's the same as in R, but not as in the UCI\n",
      "Machine Learning Repository, which has two wrong data points.\n",
      "\n",
      "This is perhaps the best known database to be found in the\n",
      "pattern recognition literature.  Fisher's paper is a classic in the field and\n",
      "is referenced frequently to this day.  (See Duda & Hart, for example.)  The\n",
      "data set contains 3 classes of 50 instances each, where each class refers to a\n",
      "type of iris plant.  One class is linearly separable from the other 2; the\n",
      "latter are NOT linearly separable from each other.\n",
      "\n",
      ".. topic:: References\n",
      "\n",
      "   - Fisher, R.A. \"The use of multiple measurements in taxonomic problems\"\n",
      "     Annual Eugenics, 7, Part II, 179-188 (1936); also in \"Contributions to\n",
      "     Mathematical Statistics\" (John Wiley, NY, 1950).\n",
      "   - Duda, R.O., & Hart, P.E. (1973) Pattern Classification and Scene Analysis.\n",
      "     (Q327.D83) John Wiley & Sons.  ISBN 0-471-22361-1.  See page 218.\n",
      "   - Dasarathy, B.V. (1980) \"Nosing Around the Neighborhood: A New System\n",
      "     Structure and Classification Rule for Recognition in Partially Exposed\n",
      "     Environments\".  IEEE Transactions on Pattern Analysis and Machine\n",
      "     Intelligence, Vol. PAMI-2, No. 1, 67-71.\n",
      "   - Gates, G.W. (1972) \"The Reduced Nearest Neighbor Rule\".  IEEE Transactions\n",
      "     on Information Theory, May 1972, 431-433.\n",
      "   - See also: 1988 MLC Proceedings, 54-64.  Cheeseman et al\"s AUTOCLASS II\n",
      "     conceptual clustering system finds 3 classes in the data.\n",
      "   - Many, many more ...\n"
     ]
    }
   ],
   "source": [
    "#print(iris.DESCR)"
   ]
  },
  {
   "cell_type": "code",
   "execution_count": 5,
   "metadata": {},
   "outputs": [],
   "source": [
    "X = iris.data"
   ]
  },
  {
   "cell_type": "code",
   "execution_count": 6,
   "metadata": {},
   "outputs": [],
   "source": [
    "y = iris.target"
   ]
  },
  {
   "cell_type": "code",
   "execution_count": 7,
   "metadata": {},
   "outputs": [],
   "source": [
    "#class 0 -->[1,0,0] one hot encoding\n",
    "#class 1 -->[0,1,0]"
   ]
  },
  {
   "cell_type": "code",
   "execution_count": 8,
   "metadata": {},
   "outputs": [
    {
     "name": "stderr",
     "output_type": "stream",
     "text": [
      "Using TensorFlow backend.\n"
     ]
    }
   ],
   "source": [
    "from keras.utils import to_categorical"
   ]
  },
  {
   "cell_type": "code",
   "execution_count": 10,
   "metadata": {},
   "outputs": [],
   "source": [
    "y = to_categorical(y)"
   ]
  },
  {
   "cell_type": "code",
   "execution_count": 9,
   "metadata": {},
   "outputs": [
    {
     "ename": "AttributeError",
     "evalue": "'numpy.ndarray' object has no attribute 'type'",
     "output_type": "error",
     "traceback": [
      "\u001b[1;31m---------------------------------------------------------------------------\u001b[0m",
      "\u001b[1;31mAttributeError\u001b[0m                            Traceback (most recent call last)",
      "\u001b[1;32m<ipython-input-9-223a1975d625>\u001b[0m in \u001b[0;36m<module>\u001b[1;34m\u001b[0m\n\u001b[0;32m      1\u001b[0m \u001b[0my\u001b[0m\u001b[1;33m.\u001b[0m\u001b[0mshape\u001b[0m\u001b[1;33m\u001b[0m\u001b[1;33m\u001b[0m\u001b[0m\n\u001b[1;32m----> 2\u001b[1;33m \u001b[0mX\u001b[0m\u001b[1;33m.\u001b[0m\u001b[0mtype\u001b[0m\u001b[1;33m\u001b[0m\u001b[1;33m\u001b[0m\u001b[0m\n\u001b[0m",
      "\u001b[1;31mAttributeError\u001b[0m: 'numpy.ndarray' object has no attribute 'type'"
     ]
    }
   ],
   "source": [
    "y.shape\n",
    "X.type"
   ]
  },
  {
   "cell_type": "code",
   "execution_count": 13,
   "metadata": {},
   "outputs": [
    {
     "data": {
      "text/plain": [
       "array([[1., 0., 0.],\n",
       "       [1., 0., 0.],\n",
       "       [1., 0., 0.],\n",
       "       [1., 0., 0.],\n",
       "       [1., 0., 0.],\n",
       "       [1., 0., 0.],\n",
       "       [1., 0., 0.],\n",
       "       [1., 0., 0.],\n",
       "       [1., 0., 0.],\n",
       "       [1., 0., 0.],\n",
       "       [1., 0., 0.],\n",
       "       [1., 0., 0.],\n",
       "       [1., 0., 0.],\n",
       "       [1., 0., 0.],\n",
       "       [1., 0., 0.],\n",
       "       [1., 0., 0.],\n",
       "       [1., 0., 0.],\n",
       "       [1., 0., 0.],\n",
       "       [1., 0., 0.],\n",
       "       [1., 0., 0.],\n",
       "       [1., 0., 0.],\n",
       "       [1., 0., 0.],\n",
       "       [1., 0., 0.],\n",
       "       [1., 0., 0.],\n",
       "       [1., 0., 0.],\n",
       "       [1., 0., 0.],\n",
       "       [1., 0., 0.],\n",
       "       [1., 0., 0.],\n",
       "       [1., 0., 0.],\n",
       "       [1., 0., 0.],\n",
       "       [1., 0., 0.],\n",
       "       [1., 0., 0.],\n",
       "       [1., 0., 0.],\n",
       "       [1., 0., 0.],\n",
       "       [1., 0., 0.],\n",
       "       [1., 0., 0.],\n",
       "       [1., 0., 0.],\n",
       "       [1., 0., 0.],\n",
       "       [1., 0., 0.],\n",
       "       [1., 0., 0.],\n",
       "       [1., 0., 0.],\n",
       "       [1., 0., 0.],\n",
       "       [1., 0., 0.],\n",
       "       [1., 0., 0.],\n",
       "       [1., 0., 0.],\n",
       "       [1., 0., 0.],\n",
       "       [1., 0., 0.],\n",
       "       [1., 0., 0.],\n",
       "       [1., 0., 0.],\n",
       "       [1., 0., 0.],\n",
       "       [0., 1., 0.],\n",
       "       [0., 1., 0.],\n",
       "       [0., 1., 0.],\n",
       "       [0., 1., 0.],\n",
       "       [0., 1., 0.],\n",
       "       [0., 1., 0.],\n",
       "       [0., 1., 0.],\n",
       "       [0., 1., 0.],\n",
       "       [0., 1., 0.],\n",
       "       [0., 1., 0.],\n",
       "       [0., 1., 0.],\n",
       "       [0., 1., 0.],\n",
       "       [0., 1., 0.],\n",
       "       [0., 1., 0.],\n",
       "       [0., 1., 0.],\n",
       "       [0., 1., 0.],\n",
       "       [0., 1., 0.],\n",
       "       [0., 1., 0.],\n",
       "       [0., 1., 0.],\n",
       "       [0., 1., 0.],\n",
       "       [0., 1., 0.],\n",
       "       [0., 1., 0.],\n",
       "       [0., 1., 0.],\n",
       "       [0., 1., 0.],\n",
       "       [0., 1., 0.],\n",
       "       [0., 1., 0.],\n",
       "       [0., 1., 0.],\n",
       "       [0., 1., 0.],\n",
       "       [0., 1., 0.],\n",
       "       [0., 1., 0.],\n",
       "       [0., 1., 0.],\n",
       "       [0., 1., 0.],\n",
       "       [0., 1., 0.],\n",
       "       [0., 1., 0.],\n",
       "       [0., 1., 0.],\n",
       "       [0., 1., 0.],\n",
       "       [0., 1., 0.],\n",
       "       [0., 1., 0.],\n",
       "       [0., 1., 0.],\n",
       "       [0., 1., 0.],\n",
       "       [0., 1., 0.],\n",
       "       [0., 1., 0.],\n",
       "       [0., 1., 0.],\n",
       "       [0., 1., 0.],\n",
       "       [0., 1., 0.],\n",
       "       [0., 1., 0.],\n",
       "       [0., 1., 0.],\n",
       "       [0., 1., 0.],\n",
       "       [0., 1., 0.],\n",
       "       [0., 1., 0.],\n",
       "       [0., 0., 1.],\n",
       "       [0., 0., 1.],\n",
       "       [0., 0., 1.],\n",
       "       [0., 0., 1.],\n",
       "       [0., 0., 1.],\n",
       "       [0., 0., 1.],\n",
       "       [0., 0., 1.],\n",
       "       [0., 0., 1.],\n",
       "       [0., 0., 1.],\n",
       "       [0., 0., 1.],\n",
       "       [0., 0., 1.],\n",
       "       [0., 0., 1.],\n",
       "       [0., 0., 1.],\n",
       "       [0., 0., 1.],\n",
       "       [0., 0., 1.],\n",
       "       [0., 0., 1.],\n",
       "       [0., 0., 1.],\n",
       "       [0., 0., 1.],\n",
       "       [0., 0., 1.],\n",
       "       [0., 0., 1.],\n",
       "       [0., 0., 1.],\n",
       "       [0., 0., 1.],\n",
       "       [0., 0., 1.],\n",
       "       [0., 0., 1.],\n",
       "       [0., 0., 1.],\n",
       "       [0., 0., 1.],\n",
       "       [0., 0., 1.],\n",
       "       [0., 0., 1.],\n",
       "       [0., 0., 1.],\n",
       "       [0., 0., 1.],\n",
       "       [0., 0., 1.],\n",
       "       [0., 0., 1.],\n",
       "       [0., 0., 1.],\n",
       "       [0., 0., 1.],\n",
       "       [0., 0., 1.],\n",
       "       [0., 0., 1.],\n",
       "       [0., 0., 1.],\n",
       "       [0., 0., 1.],\n",
       "       [0., 0., 1.],\n",
       "       [0., 0., 1.],\n",
       "       [0., 0., 1.],\n",
       "       [0., 0., 1.],\n",
       "       [0., 0., 1.],\n",
       "       [0., 0., 1.],\n",
       "       [0., 0., 1.],\n",
       "       [0., 0., 1.],\n",
       "       [0., 0., 1.],\n",
       "       [0., 0., 1.],\n",
       "       [0., 0., 1.],\n",
       "       [0., 0., 1.]], dtype=float32)"
      ]
     },
     "execution_count": 13,
     "metadata": {},
     "output_type": "execute_result"
    }
   ],
   "source": [
    "y#one hot encoded"
   ]
  },
  {
   "cell_type": "code",
   "execution_count": 14,
   "metadata": {},
   "outputs": [],
   "source": [
    "from sklearn.model_selection import train_test_split"
   ]
  },
  {
   "cell_type": "code",
   "execution_count": 15,
   "metadata": {},
   "outputs": [],
   "source": [
    "X_train,X_test,Y_train,Y_test = train_test_split(X,y,test_size = 0.3 , random_state = 42)"
   ]
  },
  {
   "cell_type": "code",
   "execution_count": 16,
   "metadata": {},
   "outputs": [],
   "source": [
    "from sklearn.preprocessing import MinMaxScaler# it fits between 0 and 1 divides by max number"
   ]
  },
  {
   "cell_type": "code",
   "execution_count": 17,
   "metadata": {},
   "outputs": [],
   "source": [
    "scaler_object = MinMaxScaler()"
   ]
  },
  {
   "cell_type": "code",
   "execution_count": 18,
   "metadata": {},
   "outputs": [
    {
     "data": {
      "text/plain": [
       "MinMaxScaler(copy=True, feature_range=(0, 1))"
      ]
     },
     "execution_count": 18,
     "metadata": {},
     "output_type": "execute_result"
    }
   ],
   "source": [
    "scaler_object.fit(X_train)"
   ]
  },
  {
   "cell_type": "code",
   "execution_count": 19,
   "metadata": {},
   "outputs": [],
   "source": [
    "scalar_X_train = scaler_object.transform(X_train)\n",
    "scalar_x_test = scaler_object.transform(X_test)"
   ]
  },
  {
   "cell_type": "code",
   "execution_count": 20,
   "metadata": {},
   "outputs": [],
   "source": [
    "from keras.models import Sequential \n",
    "from keras.layers import Dense"
   ]
  },
  {
   "cell_type": "code",
   "execution_count": 21,
   "metadata": {},
   "outputs": [],
   "source": [
    "model = Sequential()"
   ]
  },
  {
   "cell_type": "code",
   "execution_count": 22,
   "metadata": {},
   "outputs": [
    {
     "name": "stdout",
     "output_type": "stream",
     "text": [
      "WARNING:tensorflow:From C:\\Users\\91837\\AppData\\Local\\Continuum\\anaconda3\\lib\\site-packages\\tensorflow\\python\\framework\\op_def_library.py:263: colocate_with (from tensorflow.python.framework.ops) is deprecated and will be removed in a future version.\n",
      "Instructions for updating:\n",
      "Colocations handled automatically by placer.\n"
     ]
    }
   ],
   "source": [
    "model.add(Dense(8,input_dim = 4, activation = 'relu'))\n",
    "model.add(Dense(8,input_dim = 4, activation = 'relu'))\n",
    "model.add(Dense(3,activation = 'softmax'))\n",
    "model.compile(loss = 'categorical_crossentropy', optimizer = 'adam', metrics = ['accuracy'])"
   ]
  },
  {
   "cell_type": "code",
   "execution_count": 23,
   "metadata": {},
   "outputs": [
    {
     "name": "stdout",
     "output_type": "stream",
     "text": [
      "_________________________________________________________________\n",
      "Layer (type)                 Output Shape              Param #   \n",
      "=================================================================\n",
      "dense_1 (Dense)              (None, 8)                 40        \n",
      "_________________________________________________________________\n",
      "dense_2 (Dense)              (None, 8)                 72        \n",
      "_________________________________________________________________\n",
      "dense_3 (Dense)              (None, 3)                 27        \n",
      "=================================================================\n",
      "Total params: 139\n",
      "Trainable params: 139\n",
      "Non-trainable params: 0\n",
      "_________________________________________________________________\n"
     ]
    }
   ],
   "source": [
    "model.summary()"
   ]
  },
  {
   "cell_type": "code",
   "execution_count": 25,
   "metadata": {},
   "outputs": [
    {
     "name": "stdout",
     "output_type": "stream",
     "text": [
      "WARNING:tensorflow:From C:\\Users\\91837\\AppData\\Local\\Continuum\\anaconda3\\lib\\site-packages\\tensorflow\\python\\ops\\math_ops.py:3066: to_int32 (from tensorflow.python.ops.math_ops) is deprecated and will be removed in a future version.\n",
      "Instructions for updating:\n",
      "Use tf.cast instead.\n",
      "Epoch 1/150\n",
      " - 0s - loss: 1.2055 - acc: 0.2952\n",
      "Epoch 2/150\n",
      " - 0s - loss: 1.1862 - acc: 0.2952\n",
      "Epoch 3/150\n",
      " - 0s - loss: 1.1695 - acc: 0.2952\n",
      "Epoch 4/150\n",
      " - 0s - loss: 1.1549 - acc: 0.2952\n",
      "Epoch 5/150\n",
      " - 0s - loss: 1.1416 - acc: 0.2952\n",
      "Epoch 6/150\n",
      " - 0s - loss: 1.1296 - acc: 0.2952\n",
      "Epoch 7/150\n",
      " - 0s - loss: 1.1174 - acc: 0.2952\n",
      "Epoch 8/150\n",
      " - 0s - loss: 1.1067 - acc: 0.2857\n",
      "Epoch 9/150\n",
      " - 0s - loss: 1.0960 - acc: 0.2857\n",
      "Epoch 10/150\n",
      " - 0s - loss: 1.0863 - acc: 0.2857\n",
      "Epoch 11/150\n",
      " - 0s - loss: 1.0763 - acc: 0.2952\n",
      "Epoch 12/150\n",
      " - 0s - loss: 1.0674 - acc: 0.3143\n",
      "Epoch 13/150\n",
      " - 0s - loss: 1.0592 - acc: 0.4476\n",
      "Epoch 14/150\n",
      " - 0s - loss: 1.0515 - acc: 0.5619\n",
      "Epoch 15/150\n",
      " - 0s - loss: 1.0445 - acc: 0.6190\n",
      "Epoch 16/150\n",
      " - 0s - loss: 1.0380 - acc: 0.6381\n",
      "Epoch 17/150\n",
      " - 0s - loss: 1.0321 - acc: 0.6381\n",
      "Epoch 18/150\n",
      " - 0s - loss: 1.0258 - acc: 0.6381\n",
      "Epoch 19/150\n",
      " - 0s - loss: 1.0199 - acc: 0.6381\n",
      "Epoch 20/150\n",
      " - 0s - loss: 1.0137 - acc: 0.6381\n",
      "Epoch 21/150\n",
      " - 0s - loss: 1.0073 - acc: 0.6381\n",
      "Epoch 22/150\n",
      " - 0s - loss: 1.0008 - acc: 0.6381\n",
      "Epoch 23/150\n",
      " - 0s - loss: 0.9943 - acc: 0.6381\n",
      "Epoch 24/150\n",
      " - 0s - loss: 0.9880 - acc: 0.6381\n",
      "Epoch 25/150\n",
      " - 0s - loss: 0.9812 - acc: 0.6381\n",
      "Epoch 26/150\n",
      " - 0s - loss: 0.9743 - acc: 0.6381\n",
      "Epoch 27/150\n",
      " - 0s - loss: 0.9675 - acc: 0.6381\n",
      "Epoch 28/150\n",
      " - 0s - loss: 0.9602 - acc: 0.6381\n",
      "Epoch 29/150\n",
      " - 0s - loss: 0.9530 - acc: 0.6381\n",
      "Epoch 30/150\n",
      " - 0s - loss: 0.9456 - acc: 0.6381\n",
      "Epoch 31/150\n",
      " - 0s - loss: 0.9384 - acc: 0.6381\n",
      "Epoch 32/150\n",
      " - 0s - loss: 0.9304 - acc: 0.6381\n",
      "Epoch 33/150\n",
      " - 0s - loss: 0.9226 - acc: 0.6476\n",
      "Epoch 34/150\n",
      " - 0s - loss: 0.9145 - acc: 0.6476\n",
      "Epoch 35/150\n",
      " - 0s - loss: 0.9063 - acc: 0.6476\n",
      "Epoch 36/150\n",
      " - 0s - loss: 0.8978 - acc: 0.6476\n",
      "Epoch 37/150\n",
      " - 0s - loss: 0.8895 - acc: 0.6476\n",
      "Epoch 38/150\n",
      " - 0s - loss: 0.8810 - acc: 0.6476\n",
      "Epoch 39/150\n",
      " - 0s - loss: 0.8726 - acc: 0.6476\n",
      "Epoch 40/150\n",
      " - 0s - loss: 0.8637 - acc: 0.6476\n",
      "Epoch 41/150\n",
      " - 0s - loss: 0.8549 - acc: 0.6476\n",
      "Epoch 42/150\n",
      " - 0s - loss: 0.8458 - acc: 0.6476\n",
      "Epoch 43/150\n",
      " - 0s - loss: 0.8367 - acc: 0.6476\n",
      "Epoch 44/150\n",
      " - 0s - loss: 0.8274 - acc: 0.6476\n",
      "Epoch 45/150\n",
      " - 0s - loss: 0.8183 - acc: 0.6476\n",
      "Epoch 46/150\n",
      " - 0s - loss: 0.8089 - acc: 0.6476\n",
      "Epoch 47/150\n",
      " - 0s - loss: 0.8001 - acc: 0.6476\n",
      "Epoch 48/150\n",
      " - 0s - loss: 0.7907 - acc: 0.6476\n",
      "Epoch 49/150\n",
      " - 0s - loss: 0.7815 - acc: 0.6476\n",
      "Epoch 50/150\n",
      " - 0s - loss: 0.7726 - acc: 0.6476\n",
      "Epoch 51/150\n",
      " - 0s - loss: 0.7638 - acc: 0.6476\n",
      "Epoch 52/150\n",
      " - 0s - loss: 0.7550 - acc: 0.6476\n",
      "Epoch 53/150\n",
      " - 0s - loss: 0.7464 - acc: 0.6476\n",
      "Epoch 54/150\n",
      " - 0s - loss: 0.7377 - acc: 0.6476\n",
      "Epoch 55/150\n",
      " - 0s - loss: 0.7294 - acc: 0.6476\n",
      "Epoch 56/150\n",
      " - 0s - loss: 0.7212 - acc: 0.6476\n",
      "Epoch 57/150\n",
      " - 0s - loss: 0.7133 - acc: 0.6476\n",
      "Epoch 58/150\n",
      " - 0s - loss: 0.7051 - acc: 0.6476\n",
      "Epoch 59/150\n",
      " - 0s - loss: 0.6974 - acc: 0.6476\n",
      "Epoch 60/150\n",
      " - 0s - loss: 0.6896 - acc: 0.6476\n",
      "Epoch 61/150\n",
      " - 0s - loss: 0.6822 - acc: 0.6476\n",
      "Epoch 62/150\n",
      " - 0s - loss: 0.6748 - acc: 0.6476\n",
      "Epoch 63/150\n",
      " - 0s - loss: 0.6674 - acc: 0.6476\n",
      "Epoch 64/150\n",
      " - 0s - loss: 0.6605 - acc: 0.6476\n",
      "Epoch 65/150\n",
      " - 0s - loss: 0.6538 - acc: 0.6476\n",
      "Epoch 66/150\n",
      " - 0s - loss: 0.6472 - acc: 0.6476\n",
      "Epoch 67/150\n",
      " - 0s - loss: 0.6407 - acc: 0.6476\n",
      "Epoch 68/150\n",
      " - 0s - loss: 0.6344 - acc: 0.6476\n",
      "Epoch 69/150\n",
      " - 0s - loss: 0.6284 - acc: 0.6476\n",
      "Epoch 70/150\n",
      " - 0s - loss: 0.6226 - acc: 0.6476\n",
      "Epoch 71/150\n",
      " - 0s - loss: 0.6167 - acc: 0.6476\n",
      "Epoch 72/150\n",
      " - 0s - loss: 0.6110 - acc: 0.6476\n",
      "Epoch 73/150\n",
      " - 0s - loss: 0.6055 - acc: 0.6476\n",
      "Epoch 74/150\n",
      " - 0s - loss: 0.6003 - acc: 0.6476\n",
      "Epoch 75/150\n",
      " - 0s - loss: 0.5948 - acc: 0.6476\n",
      "Epoch 76/150\n",
      " - 0s - loss: 0.5898 - acc: 0.6476\n",
      "Epoch 77/150\n",
      " - 0s - loss: 0.5849 - acc: 0.6476\n",
      "Epoch 78/150\n",
      " - 0s - loss: 0.5802 - acc: 0.6476\n",
      "Epoch 79/150\n",
      " - 0s - loss: 0.5755 - acc: 0.6476\n",
      "Epoch 80/150\n",
      " - 0s - loss: 0.5712 - acc: 0.6476\n",
      "Epoch 81/150\n",
      " - 0s - loss: 0.5670 - acc: 0.6476\n",
      "Epoch 82/150\n",
      " - 0s - loss: 0.5629 - acc: 0.6476\n",
      "Epoch 83/150\n",
      " - 0s - loss: 0.5588 - acc: 0.6476\n",
      "Epoch 84/150\n",
      " - 0s - loss: 0.5549 - acc: 0.6571\n",
      "Epoch 85/150\n",
      " - 0s - loss: 0.5511 - acc: 0.6571\n",
      "Epoch 86/150\n",
      " - 0s - loss: 0.5475 - acc: 0.6571\n",
      "Epoch 87/150\n",
      " - 0s - loss: 0.5438 - acc: 0.6571\n",
      "Epoch 88/150\n",
      " - 0s - loss: 0.5404 - acc: 0.6667\n",
      "Epoch 89/150\n",
      " - 0s - loss: 0.5368 - acc: 0.6667\n",
      "Epoch 90/150\n",
      " - 0s - loss: 0.5335 - acc: 0.6667\n",
      "Epoch 91/150\n",
      " - 0s - loss: 0.5302 - acc: 0.6667\n",
      "Epoch 92/150\n",
      " - 0s - loss: 0.5269 - acc: 0.6762\n",
      "Epoch 93/150\n",
      " - 0s - loss: 0.5236 - acc: 0.6762\n",
      "Epoch 94/150\n",
      " - 0s - loss: 0.5208 - acc: 0.6762\n",
      "Epoch 95/150\n",
      " - 0s - loss: 0.5174 - acc: 0.6857\n",
      "Epoch 96/150\n",
      " - 0s - loss: 0.5143 - acc: 0.6857\n",
      "Epoch 97/150\n",
      " - 0s - loss: 0.5113 - acc: 0.6857\n",
      "Epoch 98/150\n",
      " - 0s - loss: 0.5084 - acc: 0.6857\n",
      "Epoch 99/150\n",
      " - 0s - loss: 0.5056 - acc: 0.6857\n",
      "Epoch 100/150\n",
      " - 0s - loss: 0.5028 - acc: 0.6857\n",
      "Epoch 101/150\n",
      " - 0s - loss: 0.5000 - acc: 0.6857\n",
      "Epoch 102/150\n",
      " - 0s - loss: 0.4972 - acc: 0.6857\n",
      "Epoch 103/150\n",
      " - 0s - loss: 0.4944 - acc: 0.6857\n",
      "Epoch 104/150\n",
      " - 0s - loss: 0.4918 - acc: 0.6952\n",
      "Epoch 105/150\n",
      " - 0s - loss: 0.4891 - acc: 0.7143\n",
      "Epoch 106/150\n",
      " - 0s - loss: 0.4864 - acc: 0.7333\n",
      "Epoch 107/150\n",
      " - 0s - loss: 0.4840 - acc: 0.7429\n",
      "Epoch 108/150\n",
      " - 0s - loss: 0.4814 - acc: 0.7429\n",
      "Epoch 109/150\n",
      " - 0s - loss: 0.4788 - acc: 0.7619\n",
      "Epoch 110/150\n",
      " - 0s - loss: 0.4763 - acc: 0.7714\n",
      "Epoch 111/150\n",
      " - 0s - loss: 0.4737 - acc: 0.7714\n",
      "Epoch 112/150\n",
      " - 0s - loss: 0.4712 - acc: 0.7714\n",
      "Epoch 113/150\n",
      " - 0s - loss: 0.4687 - acc: 0.7810\n",
      "Epoch 114/150\n",
      " - 0s - loss: 0.4660 - acc: 0.8000\n",
      "Epoch 115/150\n",
      " - 0s - loss: 0.4627 - acc: 0.8000\n",
      "Epoch 116/150\n",
      " - 0s - loss: 0.4592 - acc: 0.8095\n",
      "Epoch 117/150\n",
      " - 0s - loss: 0.4560 - acc: 0.8095\n",
      "Epoch 118/150\n",
      " - 0s - loss: 0.4527 - acc: 0.8095\n",
      "Epoch 119/150\n",
      " - 0s - loss: 0.4503 - acc: 0.8000\n",
      "Epoch 120/150\n",
      " - 0s - loss: 0.4467 - acc: 0.8286\n",
      "Epoch 121/150\n",
      " - 0s - loss: 0.4437 - acc: 0.8381\n",
      "Epoch 122/150\n",
      " - 0s - loss: 0.4405 - acc: 0.8381\n",
      "Epoch 123/150\n",
      " - 0s - loss: 0.4378 - acc: 0.8571\n",
      "Epoch 124/150\n",
      " - 0s - loss: 0.4343 - acc: 0.8667\n",
      "Epoch 125/150\n",
      " - 0s - loss: 0.4312 - acc: 0.8667\n",
      "Epoch 126/150\n",
      " - 0s - loss: 0.4280 - acc: 0.8667\n",
      "Epoch 127/150\n",
      " - 0s - loss: 0.4251 - acc: 0.8571\n",
      "Epoch 128/150\n",
      " - 0s - loss: 0.4222 - acc: 0.8571\n",
      "Epoch 129/150\n",
      " - 0s - loss: 0.4192 - acc: 0.8571\n",
      "Epoch 130/150\n",
      " - 0s - loss: 0.4158 - acc: 0.8762\n",
      "Epoch 131/150\n",
      " - 0s - loss: 0.4129 - acc: 0.8762\n",
      "Epoch 132/150\n",
      " - 0s - loss: 0.4096 - acc: 0.8762\n",
      "Epoch 133/150\n",
      " - 0s - loss: 0.4074 - acc: 0.8762\n",
      "Epoch 134/150\n",
      " - 0s - loss: 0.4041 - acc: 0.8762\n",
      "Epoch 135/150\n",
      " - 0s - loss: 0.4007 - acc: 0.8857\n",
      "Epoch 136/150\n",
      " - 0s - loss: 0.3969 - acc: 0.8952\n",
      "Epoch 137/150\n",
      " - 0s - loss: 0.3934 - acc: 0.9238\n",
      "Epoch 138/150\n",
      " - 0s - loss: 0.3914 - acc: 0.9333\n",
      "Epoch 139/150\n",
      " - 0s - loss: 0.3891 - acc: 0.9333\n",
      "Epoch 140/150\n",
      " - 0s - loss: 0.3857 - acc: 0.9333\n",
      "Epoch 141/150\n",
      " - 0s - loss: 0.3822 - acc: 0.9333\n",
      "Epoch 142/150\n",
      " - 0s - loss: 0.3787 - acc: 0.9333\n",
      "Epoch 143/150\n",
      " - 0s - loss: 0.3752 - acc: 0.9333\n",
      "Epoch 144/150\n",
      " - 0s - loss: 0.3725 - acc: 0.9333\n",
      "Epoch 145/150\n",
      " - 0s - loss: 0.3693 - acc: 0.9429\n",
      "Epoch 146/150\n",
      " - 0s - loss: 0.3658 - acc: 0.9429\n",
      "Epoch 147/150\n",
      " - 0s - loss: 0.3624 - acc: 0.9333\n",
      "Epoch 148/150\n",
      " - 0s - loss: 0.3598 - acc: 0.9333\n",
      "Epoch 149/150\n",
      " - 0s - loss: 0.3570 - acc: 0.9333\n",
      "Epoch 150/150\n",
      " - 0s - loss: 0.3537 - acc: 0.9333\n"
     ]
    },
    {
     "data": {
      "text/plain": [
       "<keras.callbacks.History at 0x1fb50985b38>"
      ]
     },
     "execution_count": 25,
     "metadata": {},
     "output_type": "execute_result"
    }
   ],
   "source": [
    "model.fit(scalar_X_train,Y_train, epochs = 150,verbose = 2)"
   ]
  },
  {
   "cell_type": "code",
   "execution_count": 28,
   "metadata": {},
   "outputs": [
    {
     "data": {
      "text/plain": [
       "array([1, 0, 2, 1, 2, 0, 1, 2, 2, 1, 2, 0, 0, 0, 0, 1, 2, 1, 1, 2, 0, 2,\n",
       "       0, 2, 2, 2, 2, 2, 0, 0, 0, 0, 1, 0, 0, 2, 1, 0, 0, 0, 2, 1, 1, 0,\n",
       "       0], dtype=int64)"
      ]
     },
     "execution_count": 28,
     "metadata": {},
     "output_type": "execute_result"
    }
   ],
   "source": [
    "model.predict_classes(scalar_x_test)"
   ]
  },
  {
   "cell_type": "code",
   "execution_count": 30,
   "metadata": {},
   "outputs": [],
   "source": [
    "predictions = model.predict_classes(scalar_x_test)"
   ]
  },
  {
   "cell_type": "code",
   "execution_count": 33,
   "metadata": {},
   "outputs": [
    {
     "data": {
      "text/plain": [
       "array([1, 0, 2, 1, 1, 0, 1, 2, 1, 1, 2, 0, 0, 0, 0, 1, 2, 1, 1, 2, 0, 2,\n",
       "       0, 2, 2, 2, 2, 2, 0, 0, 0, 0, 1, 0, 0, 2, 1, 0, 0, 0, 2, 1, 1, 0,\n",
       "       0], dtype=int64)"
      ]
     },
     "execution_count": 33,
     "metadata": {},
     "output_type": "execute_result"
    }
   ],
   "source": [
    "Y_test.argmax(axis=1)"
   ]
  },
  {
   "cell_type": "code",
   "execution_count": 34,
   "metadata": {},
   "outputs": [],
   "source": [
    "from sklearn.metrics import confusion_matrix,classification_report,accuracy_score"
   ]
  },
  {
   "cell_type": "code",
   "execution_count": 35,
   "metadata": {},
   "outputs": [
    {
     "name": "stdout",
     "output_type": "stream",
     "text": [
      "0.9555555555555556\n"
     ]
    }
   ],
   "source": [
    "print(accuracy_score(Y_test.argmax(axis = 1),predictions))"
   ]
  },
  {
   "cell_type": "code",
   "execution_count": 37,
   "metadata": {},
   "outputs": [],
   "source": [
    "# saving and loading back model\n",
    "model.save('model.h5')\n"
   ]
  },
  {
   "cell_type": "code",
   "execution_count": 39,
   "metadata": {},
   "outputs": [],
   "source": [
    "from keras.models import load_model\n",
    "new_model = load_model('model.h5')"
   ]
  },
  {
   "cell_type": "code",
   "execution_count": null,
   "metadata": {},
   "outputs": [],
   "source": []
  }
 ],
 "metadata": {
  "kernelspec": {
   "display_name": "Python 3",
   "language": "python",
   "name": "python3"
  },
  "language_info": {
   "codemirror_mode": {
    "name": "ipython",
    "version": 3
   },
   "file_extension": ".py",
   "mimetype": "text/x-python",
   "name": "python",
   "nbconvert_exporter": "python",
   "pygments_lexer": "ipython3",
   "version": "3.7.1"
  }
 },
 "nbformat": 4,
 "nbformat_minor": 2
}
